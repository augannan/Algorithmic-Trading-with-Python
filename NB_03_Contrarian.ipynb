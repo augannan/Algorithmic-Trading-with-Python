{
 "cells": [
  {
   "cell_type": "markdown",
   "metadata": {},
   "source": [
    "# Creating and Backtesting simple Momentum/Contrarian Strategies"
   ]
  },
  {
   "cell_type": "markdown",
   "metadata": {},
   "source": [
    "## Getting the Data"
   ]
  },
  {
   "cell_type": "code",
   "execution_count": 1,
   "metadata": {},
   "outputs": [],
   "source": [
    "import pandas as pd\n",
    "import numpy as np\n",
    "import matplotlib.pyplot as plt\n",
    "plt.style.use(\"seaborn\")"
   ]
  },
  {
   "cell_type": "code",
   "execution_count": 5,
   "metadata": {},
   "outputs": [
    {
     "name": "stdout",
     "output_type": "stream",
     "text": [
      "Requirement already satisfied: pandas in c:\\users\\augan\\anaconda3\\envs\\algotrading\\lib\\site-packages (1.1.5)\n",
      "Requirement already satisfied: pytz>=2017.2 in c:\\users\\augan\\anaconda3\\envs\\algotrading\\lib\\site-packages (from pandas) (2021.1)\n",
      "Requirement already satisfied: numpy>=1.15.4 in c:\\users\\augan\\anaconda3\\envs\\algotrading\\lib\\site-packages (from pandas) (1.19.5)\n",
      "Requirement already satisfied: python-dateutil>=2.7.3 in c:\\users\\augan\\anaconda3\\envs\\algotrading\\lib\\site-packages (from pandas) (2.8.1)\n",
      "Requirement already satisfied: six>=1.5 in c:\\users\\augan\\anaconda3\\envs\\algotrading\\lib\\site-packages (from python-dateutil>=2.7.3->pandas) (1.16.0)\n"
     ]
    }
   ],
   "source": [
    "!pip install pandas"
   ]
  },
  {
   "cell_type": "code",
   "execution_count": 2,
   "metadata": {},
   "outputs": [],
   "source": [
    "data = pd.read_csv(\"intraday.csv\", parse_dates = [\"time\"], index_col = \"time\")"
   ]
  },
  {
   "cell_type": "code",
   "execution_count": 4,
   "metadata": {},
   "outputs": [
    {
     "data": {
      "text/html": [
       "<div>\n",
       "<style scoped>\n",
       "    .dataframe tbody tr th:only-of-type {\n",
       "        vertical-align: middle;\n",
       "    }\n",
       "\n",
       "    .dataframe tbody tr th {\n",
       "        vertical-align: top;\n",
       "    }\n",
       "\n",
       "    .dataframe thead th {\n",
       "        text-align: right;\n",
       "    }\n",
       "</style>\n",
       "<table border=\"1\" class=\"dataframe\">\n",
       "  <thead>\n",
       "    <tr style=\"text-align: right;\">\n",
       "      <th></th>\n",
       "      <th>price</th>\n",
       "    </tr>\n",
       "    <tr>\n",
       "      <th>time</th>\n",
       "      <th></th>\n",
       "    </tr>\n",
       "  </thead>\n",
       "  <tbody>\n",
       "    <tr>\n",
       "      <th>2018-01-01 22:00:00+00:00</th>\n",
       "      <td>1.201205</td>\n",
       "    </tr>\n",
       "    <tr>\n",
       "      <th>2018-01-02 04:00:00+00:00</th>\n",
       "      <td>1.207055</td>\n",
       "    </tr>\n",
       "    <tr>\n",
       "      <th>2018-01-02 10:00:00+00:00</th>\n",
       "      <td>1.204440</td>\n",
       "    </tr>\n",
       "    <tr>\n",
       "      <th>2018-01-02 16:00:00+00:00</th>\n",
       "      <td>1.205800</td>\n",
       "    </tr>\n",
       "    <tr>\n",
       "      <th>2018-01-02 22:00:00+00:00</th>\n",
       "      <td>1.204690</td>\n",
       "    </tr>\n",
       "    <tr>\n",
       "      <th>2018-01-03 04:00:00+00:00</th>\n",
       "      <td>1.203825</td>\n",
       "    </tr>\n",
       "    <tr>\n",
       "      <th>2018-01-03 10:00:00+00:00</th>\n",
       "      <td>1.202355</td>\n",
       "    </tr>\n",
       "    <tr>\n",
       "      <th>2018-01-03 16:00:00+00:00</th>\n",
       "      <td>1.201445</td>\n",
       "    </tr>\n",
       "    <tr>\n",
       "      <th>2018-01-03 22:00:00+00:00</th>\n",
       "      <td>1.201450</td>\n",
       "    </tr>\n",
       "    <tr>\n",
       "      <th>2018-01-04 04:00:00+00:00</th>\n",
       "      <td>1.204300</td>\n",
       "    </tr>\n",
       "    <tr>\n",
       "      <th>2018-01-04 10:00:00+00:00</th>\n",
       "      <td>1.207440</td>\n",
       "    </tr>\n",
       "    <tr>\n",
       "      <th>2018-01-04 16:00:00+00:00</th>\n",
       "      <td>1.206830</td>\n",
       "    </tr>\n",
       "    <tr>\n",
       "      <th>2018-01-04 22:00:00+00:00</th>\n",
       "      <td>1.207470</td>\n",
       "    </tr>\n",
       "    <tr>\n",
       "      <th>2018-01-05 04:00:00+00:00</th>\n",
       "      <td>1.204600</td>\n",
       "    </tr>\n",
       "    <tr>\n",
       "      <th>2018-01-05 10:00:00+00:00</th>\n",
       "      <td>1.203645</td>\n",
       "    </tr>\n",
       "    <tr>\n",
       "      <th>2018-01-05 16:00:00+00:00</th>\n",
       "      <td>1.202970</td>\n",
       "    </tr>\n",
       "    <tr>\n",
       "      <th>2018-01-07 22:00:00+00:00</th>\n",
       "      <td>1.203265</td>\n",
       "    </tr>\n",
       "    <tr>\n",
       "      <th>2018-01-08 04:00:00+00:00</th>\n",
       "      <td>1.198990</td>\n",
       "    </tr>\n",
       "    <tr>\n",
       "      <th>2018-01-08 10:00:00+00:00</th>\n",
       "      <td>1.197530</td>\n",
       "    </tr>\n",
       "    <tr>\n",
       "      <th>2018-01-08 16:00:00+00:00</th>\n",
       "      <td>1.196870</td>\n",
       "    </tr>\n",
       "    <tr>\n",
       "      <th>2018-01-08 22:00:00+00:00</th>\n",
       "      <td>1.197190</td>\n",
       "    </tr>\n",
       "    <tr>\n",
       "      <th>2018-01-09 04:00:00+00:00</th>\n",
       "      <td>1.193855</td>\n",
       "    </tr>\n",
       "    <tr>\n",
       "      <th>2018-01-09 10:00:00+00:00</th>\n",
       "      <td>1.192970</td>\n",
       "    </tr>\n",
       "    <tr>\n",
       "      <th>2018-01-09 16:00:00+00:00</th>\n",
       "      <td>1.193690</td>\n",
       "    </tr>\n",
       "    <tr>\n",
       "      <th>2018-01-09 22:00:00+00:00</th>\n",
       "      <td>1.194185</td>\n",
       "    </tr>\n",
       "    <tr>\n",
       "      <th>2018-01-10 04:00:00+00:00</th>\n",
       "      <td>1.193890</td>\n",
       "    </tr>\n",
       "    <tr>\n",
       "      <th>2018-01-10 10:00:00+00:00</th>\n",
       "      <td>1.198300</td>\n",
       "    </tr>\n",
       "    <tr>\n",
       "      <th>2018-01-10 16:00:00+00:00</th>\n",
       "      <td>1.194740</td>\n",
       "    </tr>\n",
       "    <tr>\n",
       "      <th>2018-01-10 22:00:00+00:00</th>\n",
       "      <td>1.195365</td>\n",
       "    </tr>\n",
       "    <tr>\n",
       "      <th>2018-01-11 04:00:00+00:00</th>\n",
       "      <td>1.194770</td>\n",
       "    </tr>\n",
       "    <tr>\n",
       "      <th>2018-01-11 10:00:00+00:00</th>\n",
       "      <td>1.204915</td>\n",
       "    </tr>\n",
       "    <tr>\n",
       "      <th>2018-01-11 16:00:00+00:00</th>\n",
       "      <td>1.203205</td>\n",
       "    </tr>\n",
       "    <tr>\n",
       "      <th>2018-01-11 22:00:00+00:00</th>\n",
       "      <td>1.205165</td>\n",
       "    </tr>\n",
       "    <tr>\n",
       "      <th>2018-01-12 04:00:00+00:00</th>\n",
       "      <td>1.212530</td>\n",
       "    </tr>\n",
       "    <tr>\n",
       "      <th>2018-01-12 10:00:00+00:00</th>\n",
       "      <td>1.214820</td>\n",
       "    </tr>\n",
       "    <tr>\n",
       "      <th>2018-01-12 16:00:00+00:00</th>\n",
       "      <td>1.219680</td>\n",
       "    </tr>\n",
       "    <tr>\n",
       "      <th>2018-01-14 22:00:00+00:00</th>\n",
       "      <td>1.220010</td>\n",
       "    </tr>\n",
       "    <tr>\n",
       "      <th>2018-01-15 04:00:00+00:00</th>\n",
       "      <td>1.226040</td>\n",
       "    </tr>\n",
       "    <tr>\n",
       "      <th>2018-01-15 10:00:00+00:00</th>\n",
       "      <td>1.225980</td>\n",
       "    </tr>\n",
       "    <tr>\n",
       "      <th>2018-01-15 16:00:00+00:00</th>\n",
       "      <td>1.226365</td>\n",
       "    </tr>\n",
       "    <tr>\n",
       "      <th>2018-01-15 22:00:00+00:00</th>\n",
       "      <td>1.225730</td>\n",
       "    </tr>\n",
       "    <tr>\n",
       "      <th>2018-01-16 04:00:00+00:00</th>\n",
       "      <td>1.223320</td>\n",
       "    </tr>\n",
       "    <tr>\n",
       "      <th>2018-01-16 10:00:00+00:00</th>\n",
       "      <td>1.222960</td>\n",
       "    </tr>\n",
       "    <tr>\n",
       "      <th>2018-01-16 16:00:00+00:00</th>\n",
       "      <td>1.226070</td>\n",
       "    </tr>\n",
       "    <tr>\n",
       "      <th>2018-01-16 22:00:00+00:00</th>\n",
       "      <td>1.226720</td>\n",
       "    </tr>\n",
       "    <tr>\n",
       "      <th>2018-01-17 04:00:00+00:00</th>\n",
       "      <td>1.223655</td>\n",
       "    </tr>\n",
       "    <tr>\n",
       "      <th>2018-01-17 10:00:00+00:00</th>\n",
       "      <td>1.224275</td>\n",
       "    </tr>\n",
       "    <tr>\n",
       "      <th>2018-01-17 16:00:00+00:00</th>\n",
       "      <td>1.218540</td>\n",
       "    </tr>\n",
       "    <tr>\n",
       "      <th>2018-01-17 22:00:00+00:00</th>\n",
       "      <td>1.217985</td>\n",
       "    </tr>\n",
       "    <tr>\n",
       "      <th>2018-01-18 04:00:00+00:00</th>\n",
       "      <td>1.221435</td>\n",
       "    </tr>\n",
       "  </tbody>\n",
       "</table>\n",
       "</div>"
      ],
      "text/plain": [
       "                              price\n",
       "time                               \n",
       "2018-01-01 22:00:00+00:00  1.201205\n",
       "2018-01-02 04:00:00+00:00  1.207055\n",
       "2018-01-02 10:00:00+00:00  1.204440\n",
       "2018-01-02 16:00:00+00:00  1.205800\n",
       "2018-01-02 22:00:00+00:00  1.204690\n",
       "2018-01-03 04:00:00+00:00  1.203825\n",
       "2018-01-03 10:00:00+00:00  1.202355\n",
       "2018-01-03 16:00:00+00:00  1.201445\n",
       "2018-01-03 22:00:00+00:00  1.201450\n",
       "2018-01-04 04:00:00+00:00  1.204300\n",
       "2018-01-04 10:00:00+00:00  1.207440\n",
       "2018-01-04 16:00:00+00:00  1.206830\n",
       "2018-01-04 22:00:00+00:00  1.207470\n",
       "2018-01-05 04:00:00+00:00  1.204600\n",
       "2018-01-05 10:00:00+00:00  1.203645\n",
       "2018-01-05 16:00:00+00:00  1.202970\n",
       "2018-01-07 22:00:00+00:00  1.203265\n",
       "2018-01-08 04:00:00+00:00  1.198990\n",
       "2018-01-08 10:00:00+00:00  1.197530\n",
       "2018-01-08 16:00:00+00:00  1.196870\n",
       "2018-01-08 22:00:00+00:00  1.197190\n",
       "2018-01-09 04:00:00+00:00  1.193855\n",
       "2018-01-09 10:00:00+00:00  1.192970\n",
       "2018-01-09 16:00:00+00:00  1.193690\n",
       "2018-01-09 22:00:00+00:00  1.194185\n",
       "2018-01-10 04:00:00+00:00  1.193890\n",
       "2018-01-10 10:00:00+00:00  1.198300\n",
       "2018-01-10 16:00:00+00:00  1.194740\n",
       "2018-01-10 22:00:00+00:00  1.195365\n",
       "2018-01-11 04:00:00+00:00  1.194770\n",
       "2018-01-11 10:00:00+00:00  1.204915\n",
       "2018-01-11 16:00:00+00:00  1.203205\n",
       "2018-01-11 22:00:00+00:00  1.205165\n",
       "2018-01-12 04:00:00+00:00  1.212530\n",
       "2018-01-12 10:00:00+00:00  1.214820\n",
       "2018-01-12 16:00:00+00:00  1.219680\n",
       "2018-01-14 22:00:00+00:00  1.220010\n",
       "2018-01-15 04:00:00+00:00  1.226040\n",
       "2018-01-15 10:00:00+00:00  1.225980\n",
       "2018-01-15 16:00:00+00:00  1.226365\n",
       "2018-01-15 22:00:00+00:00  1.225730\n",
       "2018-01-16 04:00:00+00:00  1.223320\n",
       "2018-01-16 10:00:00+00:00  1.222960\n",
       "2018-01-16 16:00:00+00:00  1.226070\n",
       "2018-01-16 22:00:00+00:00  1.226720\n",
       "2018-01-17 04:00:00+00:00  1.223655\n",
       "2018-01-17 10:00:00+00:00  1.224275\n",
       "2018-01-17 16:00:00+00:00  1.218540\n",
       "2018-01-17 22:00:00+00:00  1.217985\n",
       "2018-01-18 04:00:00+00:00  1.221435"
      ]
     },
     "execution_count": 4,
     "metadata": {},
     "output_type": "execute_result"
    }
   ],
   "source": [
    "data.head(50)"
   ]
  },
  {
   "cell_type": "code",
   "execution_count": null,
   "metadata": {},
   "outputs": [],
   "source": [
    "data.info()"
   ]
  },
  {
   "cell_type": "code",
   "execution_count": null,
   "metadata": {},
   "outputs": [],
   "source": [
    "data.plot(figsize = (12, 8), title = \"EUR/USD\", fontsize = 12)\n",
    "plt.show()"
   ]
  },
  {
   "cell_type": "code",
   "execution_count": null,
   "metadata": {},
   "outputs": [],
   "source": [
    "data.loc[\"2019-06\"].plot(figsize = (12, 8), title = \"EUR/USD\", fontsize = 12)\n",
    "plt.show()"
   ]
  },
  {
   "cell_type": "code",
   "execution_count": null,
   "metadata": {},
   "outputs": [],
   "source": [
    "data[\"returns\"] = np.log(data.div(data.shift(1)))"
   ]
  },
  {
   "cell_type": "code",
   "execution_count": null,
   "metadata": {},
   "outputs": [],
   "source": [
    "data.dropna(inplace = True)"
   ]
  },
  {
   "cell_type": "code",
   "execution_count": null,
   "metadata": {},
   "outputs": [],
   "source": [
    "data"
   ]
  },
  {
   "cell_type": "code",
   "execution_count": null,
   "metadata": {},
   "outputs": [],
   "source": []
  },
  {
   "cell_type": "markdown",
   "metadata": {},
   "source": [
    "## Defining a simple Contrarian Strategy (window = 3)"
   ]
  },
  {
   "cell_type": "code",
   "execution_count": null,
   "metadata": {},
   "outputs": [],
   "source": [
    "window = 3"
   ]
  },
  {
   "cell_type": "code",
   "execution_count": null,
   "metadata": {},
   "outputs": [],
   "source": [
    "data"
   ]
  },
  {
   "cell_type": "code",
   "execution_count": null,
   "metadata": {},
   "outputs": [],
   "source": [
    "data[\"returns\"].rolling(window).mean()"
   ]
  },
  {
   "cell_type": "code",
   "execution_count": null,
   "metadata": {},
   "outputs": [],
   "source": [
    "data[\"position\"] = -np.sign(data[\"returns\"].rolling(window).mean()) # contrarian (minus sign)"
   ]
  },
  {
   "cell_type": "code",
   "execution_count": null,
   "metadata": {},
   "outputs": [],
   "source": [
    "data"
   ]
  },
  {
   "cell_type": "code",
   "execution_count": null,
   "metadata": {},
   "outputs": [],
   "source": []
  },
  {
   "cell_type": "markdown",
   "metadata": {},
   "source": [
    "## Vectorized Strategy Backtesting"
   ]
  },
  {
   "cell_type": "code",
   "execution_count": null,
   "metadata": {},
   "outputs": [],
   "source": [
    "data[\"strategy\"] = data.position.shift(1) * data[\"returns\"]"
   ]
  },
  {
   "cell_type": "code",
   "execution_count": null,
   "metadata": {},
   "outputs": [],
   "source": [
    "data"
   ]
  },
  {
   "cell_type": "code",
   "execution_count": null,
   "metadata": {},
   "outputs": [],
   "source": [
    "data.dropna(inplace = True)"
   ]
  },
  {
   "cell_type": "code",
   "execution_count": null,
   "metadata": {},
   "outputs": [],
   "source": [
    "data"
   ]
  },
  {
   "cell_type": "code",
   "execution_count": null,
   "metadata": {},
   "outputs": [],
   "source": [
    "data[[\"returns\", \"strategy\"]].sum()"
   ]
  },
  {
   "cell_type": "code",
   "execution_count": null,
   "metadata": {},
   "outputs": [],
   "source": [
    "data[[\"returns\", \"strategy\"]].sum().apply(np.exp)"
   ]
  },
  {
   "cell_type": "code",
   "execution_count": null,
   "metadata": {},
   "outputs": [],
   "source": [
    "data[\"creturns\"] = data[\"returns\"].cumsum().apply(np.exp)\n",
    "data[\"cstrategy\"] = data[\"strategy\"].cumsum().apply(np.exp)"
   ]
  },
  {
   "cell_type": "code",
   "execution_count": null,
   "metadata": {},
   "outputs": [],
   "source": [
    "data"
   ]
  },
  {
   "cell_type": "code",
   "execution_count": null,
   "metadata": {},
   "outputs": [],
   "source": [
    "data[[\"creturns\", \"cstrategy\"]].plot(figsize = (12 , 8),\n",
    "                                     title = \"EUR/USD | Window = {}\".format(window), fontsize = 12)\n",
    "plt.show()"
   ]
  },
  {
   "cell_type": "code",
   "execution_count": null,
   "metadata": {},
   "outputs": [],
   "source": []
  },
  {
   "cell_type": "markdown",
   "metadata": {},
   "source": [
    "## Changing the window parameter"
   ]
  },
  {
   "cell_type": "code",
   "execution_count": null,
   "metadata": {},
   "outputs": [],
   "source": [
    "data = pd.read_csv(\"intraday.csv\", parse_dates = [\"time\"], index_col = \"time\")"
   ]
  },
  {
   "cell_type": "code",
   "execution_count": null,
   "metadata": {},
   "outputs": [],
   "source": [
    "data"
   ]
  },
  {
   "cell_type": "code",
   "execution_count": null,
   "metadata": {},
   "outputs": [],
   "source": [
    "data[\"returns\"] = np.log(data.div(data.shift(1)))"
   ]
  },
  {
   "cell_type": "code",
   "execution_count": null,
   "metadata": {},
   "outputs": [],
   "source": [
    "data.dropna(inplace = True)\n",
    "data"
   ]
  },
  {
   "cell_type": "code",
   "execution_count": null,
   "metadata": {},
   "outputs": [],
   "source": [
    "to_plot = [\"returns\"]"
   ]
  },
  {
   "cell_type": "code",
   "execution_count": null,
   "metadata": {},
   "outputs": [],
   "source": [
    "for w in [1, 2, 3, 5, 10]:\n",
    "    data[\"position{}\".format(w)] = -np.sign(data[\"returns\"].rolling(w).mean())\n",
    "    data[\"strategy{}\".format(w)] = data[\"position{}\".format(w)].shift(1) * data[\"returns\"]\n",
    "    to_plot.append(\"strategy{}\".format(w))"
   ]
  },
  {
   "cell_type": "code",
   "execution_count": null,
   "metadata": {},
   "outputs": [],
   "source": [
    "data"
   ]
  },
  {
   "cell_type": "code",
   "execution_count": null,
   "metadata": {},
   "outputs": [],
   "source": [
    "to_plot"
   ]
  },
  {
   "cell_type": "code",
   "execution_count": null,
   "metadata": {},
   "outputs": [],
   "source": [
    "data[to_plot].dropna().cumsum().apply(np.exp).plot(figsize = (12, 8))\n",
    "plt.title(\"DJI Intraday - 6h bars\", fontsize = 12)\n",
    "plt.legend(fontsize = 12)\n",
    "plt.show()"
   ]
  },
  {
   "cell_type": "code",
   "execution_count": null,
   "metadata": {},
   "outputs": [],
   "source": [
    "data"
   ]
  },
  {
   "cell_type": "code",
   "execution_count": null,
   "metadata": {},
   "outputs": [],
   "source": []
  },
  {
   "cell_type": "markdown",
   "metadata": {},
   "source": [
    "## Trades and Trading Costs (Part 1)"
   ]
  },
  {
   "cell_type": "code",
   "execution_count": null,
   "metadata": {},
   "outputs": [],
   "source": [
    "data = pd.read_csv(\"intraday.csv\", parse_dates = [\"time\"], index_col = \"time\")"
   ]
  },
  {
   "cell_type": "code",
   "execution_count": null,
   "metadata": {},
   "outputs": [],
   "source": [
    "window = 3"
   ]
  },
  {
   "cell_type": "code",
   "execution_count": null,
   "metadata": {},
   "outputs": [],
   "source": [
    "data[\"returns\"] = np.log(data.div(data.shift(1)))"
   ]
  },
  {
   "cell_type": "code",
   "execution_count": null,
   "metadata": {},
   "outputs": [],
   "source": [
    "data[\"position\"] = -np.sign(data[\"returns\"].rolling(window).mean())"
   ]
  },
  {
   "cell_type": "code",
   "execution_count": null,
   "metadata": {},
   "outputs": [],
   "source": [
    "data[\"strategy\"] = data.position.shift(1) * data[\"returns\"]"
   ]
  },
  {
   "cell_type": "code",
   "execution_count": null,
   "metadata": {},
   "outputs": [],
   "source": [
    "data"
   ]
  },
  {
   "cell_type": "code",
   "execution_count": null,
   "metadata": {},
   "outputs": [],
   "source": [
    "data.dropna(inplace = True)"
   ]
  },
  {
   "cell_type": "code",
   "execution_count": null,
   "metadata": {},
   "outputs": [],
   "source": [
    "data[\"creturns\"] = data[\"returns\"].cumsum().apply(np.exp)\n",
    "data[\"cstrategy\"] = data[\"strategy\"].cumsum().apply(np.exp)"
   ]
  },
  {
   "cell_type": "code",
   "execution_count": null,
   "metadata": {},
   "outputs": [],
   "source": [
    "data"
   ]
  },
  {
   "cell_type": "code",
   "execution_count": null,
   "metadata": {},
   "outputs": [],
   "source": [
    "data.loc[:, \"position\"].plot(figsize = (12 , 8))\n",
    "plt.show()"
   ]
  },
  {
   "cell_type": "code",
   "execution_count": null,
   "metadata": {},
   "outputs": [],
   "source": [
    "data.loc[\"2019-06\", \"position\"].plot(figsize = (12 , 8))\n",
    "plt.show()"
   ]
  },
  {
   "cell_type": "markdown",
   "metadata": {},
   "source": [
    "__Trading/Transaction Costs__ (simplified)"
   ]
  },
  {
   "cell_type": "code",
   "execution_count": null,
   "metadata": {},
   "outputs": [],
   "source": [
    "spread = 1.5 * 0.0001 # pips == fourth price decimal\n",
    "spread"
   ]
  },
  {
   "cell_type": "code",
   "execution_count": null,
   "metadata": {},
   "outputs": [],
   "source": [
    "half_spread = spread / 2 # absolute tc per trade (position change +-1)\n",
    "half_spread"
   ]
  },
  {
   "cell_type": "code",
   "execution_count": null,
   "metadata": {},
   "outputs": [],
   "source": [
    "ptc = half_spread / data.price.mean() # proportional tc per trade (position change +-1)\n",
    "ptc"
   ]
  },
  {
   "cell_type": "code",
   "execution_count": null,
   "metadata": {},
   "outputs": [],
   "source": [
    "ptc = 0.00007"
   ]
  },
  {
   "cell_type": "code",
   "execution_count": null,
   "metadata": {},
   "outputs": [],
   "source": [
    "data"
   ]
  },
  {
   "cell_type": "code",
   "execution_count": null,
   "metadata": {
    "scrolled": true
   },
   "outputs": [],
   "source": [
    "data.position.diff().fillna(0).abs()"
   ]
  },
  {
   "cell_type": "code",
   "execution_count": null,
   "metadata": {},
   "outputs": [],
   "source": [
    "data[\"trades\"] = data.position.diff().fillna(0).abs()"
   ]
  },
  {
   "cell_type": "code",
   "execution_count": null,
   "metadata": {},
   "outputs": [],
   "source": [
    "data"
   ]
  },
  {
   "cell_type": "code",
   "execution_count": null,
   "metadata": {},
   "outputs": [],
   "source": [
    "data.trades.value_counts()"
   ]
  },
  {
   "cell_type": "code",
   "execution_count": null,
   "metadata": {},
   "outputs": [],
   "source": []
  },
  {
   "cell_type": "markdown",
   "metadata": {},
   "source": [
    "## Trades and Trading Costs (Part 2)"
   ]
  },
  {
   "cell_type": "code",
   "execution_count": null,
   "metadata": {},
   "outputs": [],
   "source": [
    "data"
   ]
  },
  {
   "cell_type": "code",
   "execution_count": null,
   "metadata": {},
   "outputs": [],
   "source": [
    "data[\"strategy_net\"] = data.strategy - data.trades * ptc"
   ]
  },
  {
   "cell_type": "code",
   "execution_count": null,
   "metadata": {},
   "outputs": [],
   "source": [
    "data[\"cstrategy_net\"] = data.strategy_net.cumsum().apply(np.exp)"
   ]
  },
  {
   "cell_type": "code",
   "execution_count": null,
   "metadata": {},
   "outputs": [],
   "source": [
    "data"
   ]
  },
  {
   "cell_type": "code",
   "execution_count": null,
   "metadata": {},
   "outputs": [],
   "source": [
    "data[[\"creturns\", \"cstrategy\", \"cstrategy_net\"]].plot(figsize = (12 , 8))\n",
    "plt.show()"
   ]
  },
  {
   "cell_type": "code",
   "execution_count": null,
   "metadata": {},
   "outputs": [],
   "source": []
  },
  {
   "cell_type": "code",
   "execution_count": null,
   "metadata": {},
   "outputs": [],
   "source": []
  }
 ],
 "metadata": {
  "kernelspec": {
   "display_name": "Python 3",
   "language": "python",
   "name": "python3"
  },
  "language_info": {
   "codemirror_mode": {
    "name": "ipython",
    "version": 3
   },
   "file_extension": ".py",
   "mimetype": "text/x-python",
   "name": "python",
   "nbconvert_exporter": "python",
   "pygments_lexer": "ipython3",
   "version": "3.6.13"
  }
 },
 "nbformat": 4,
 "nbformat_minor": 4
}
