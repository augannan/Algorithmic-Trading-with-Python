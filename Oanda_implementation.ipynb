{
 "cells": [
  {
   "cell_type": "markdown",
   "metadata": {},
   "source": [
    "# Real-time Implementation and Automation with Oanda "
   ]
  },
  {
   "cell_type": "markdown",
   "metadata": {},
   "source": [
    "--------------------------------------------------------------------------------------------------------------------"
   ]
  },
  {
   "cell_type": "markdown",
   "metadata": {},
   "source": [
    "_Disclaimer: <br>\n",
    "The following illustrative examples are for general information and educational purposes only. <br>\n",
    "It is neither investment advice nor a recommendation to trade, invest or take whatsoever actions.<br>\n",
    "The below code should only be used in combination with an Oanda Practice/Demo Account and NOT with a Live Trading Account._"
   ]
  },
  {
   "cell_type": "markdown",
   "metadata": {},
   "source": [
    "------------------------------------------------------------------------------------"
   ]
  },
  {
   "cell_type": "markdown",
   "metadata": {},
   "source": [
    "## Recap: Historical Data, real-time Data and Orders"
   ]
  },
  {
   "cell_type": "code",
   "execution_count": 1,
   "metadata": {},
   "outputs": [],
   "source": [
    "import pandas as pd\n",
    "import tpqoa"
   ]
  },
  {
   "cell_type": "code",
   "execution_count": 2,
   "metadata": {},
   "outputs": [],
   "source": [
    "api = tpqoa.tpqoa(\"oanda.cfg\")"
   ]
  },
  {
   "cell_type": "code",
   "execution_count": 3,
   "metadata": {},
   "outputs": [
    {
     "data": {
      "text/plain": [
       "[('AUD/CAD', 'AUD_CAD'),\n",
       " ('AUD/CHF', 'AUD_CHF'),\n",
       " ('AUD/HKD', 'AUD_HKD'),\n",
       " ('AUD/JPY', 'AUD_JPY'),\n",
       " ('AUD/NZD', 'AUD_NZD'),\n",
       " ('AUD/SGD', 'AUD_SGD'),\n",
       " ('AUD/USD', 'AUD_USD'),\n",
       " ('CAD/CHF', 'CAD_CHF'),\n",
       " ('CAD/HKD', 'CAD_HKD'),\n",
       " ('CAD/JPY', 'CAD_JPY'),\n",
       " ('CAD/SGD', 'CAD_SGD'),\n",
       " ('CHF/HKD', 'CHF_HKD'),\n",
       " ('CHF/JPY', 'CHF_JPY'),\n",
       " ('CHF/ZAR', 'CHF_ZAR'),\n",
       " ('EUR/AUD', 'EUR_AUD'),\n",
       " ('EUR/CAD', 'EUR_CAD'),\n",
       " ('EUR/CHF', 'EUR_CHF'),\n",
       " ('EUR/CZK', 'EUR_CZK'),\n",
       " ('EUR/DKK', 'EUR_DKK'),\n",
       " ('EUR/GBP', 'EUR_GBP'),\n",
       " ('EUR/HKD', 'EUR_HKD'),\n",
       " ('EUR/HUF', 'EUR_HUF'),\n",
       " ('EUR/JPY', 'EUR_JPY'),\n",
       " ('EUR/NOK', 'EUR_NOK'),\n",
       " ('EUR/NZD', 'EUR_NZD'),\n",
       " ('EUR/PLN', 'EUR_PLN'),\n",
       " ('EUR/SEK', 'EUR_SEK'),\n",
       " ('EUR/SGD', 'EUR_SGD'),\n",
       " ('EUR/TRY', 'EUR_TRY'),\n",
       " ('EUR/USD', 'EUR_USD'),\n",
       " ('EUR/ZAR', 'EUR_ZAR'),\n",
       " ('GBP/AUD', 'GBP_AUD'),\n",
       " ('GBP/CAD', 'GBP_CAD'),\n",
       " ('GBP/CHF', 'GBP_CHF'),\n",
       " ('GBP/HKD', 'GBP_HKD'),\n",
       " ('GBP/JPY', 'GBP_JPY'),\n",
       " ('GBP/NZD', 'GBP_NZD'),\n",
       " ('GBP/PLN', 'GBP_PLN'),\n",
       " ('GBP/SGD', 'GBP_SGD'),\n",
       " ('GBP/USD', 'GBP_USD'),\n",
       " ('GBP/ZAR', 'GBP_ZAR'),\n",
       " ('HKD/JPY', 'HKD_JPY'),\n",
       " ('NZD/CAD', 'NZD_CAD'),\n",
       " ('NZD/CHF', 'NZD_CHF'),\n",
       " ('NZD/HKD', 'NZD_HKD'),\n",
       " ('NZD/JPY', 'NZD_JPY'),\n",
       " ('NZD/SGD', 'NZD_SGD'),\n",
       " ('NZD/USD', 'NZD_USD'),\n",
       " ('SGD/CHF', 'SGD_CHF'),\n",
       " ('SGD/JPY', 'SGD_JPY'),\n",
       " ('TRY/JPY', 'TRY_JPY'),\n",
       " ('USD/CAD', 'USD_CAD'),\n",
       " ('USD/CHF', 'USD_CHF'),\n",
       " ('USD/CNH', 'USD_CNH'),\n",
       " ('USD/CZK', 'USD_CZK'),\n",
       " ('USD/DKK', 'USD_DKK'),\n",
       " ('USD/HKD', 'USD_HKD'),\n",
       " ('USD/HUF', 'USD_HUF'),\n",
       " ('USD/JPY', 'USD_JPY'),\n",
       " ('USD/MXN', 'USD_MXN'),\n",
       " ('USD/NOK', 'USD_NOK'),\n",
       " ('USD/PLN', 'USD_PLN'),\n",
       " ('USD/SEK', 'USD_SEK'),\n",
       " ('USD/SGD', 'USD_SGD'),\n",
       " ('USD/THB', 'USD_THB'),\n",
       " ('USD/TRY', 'USD_TRY'),\n",
       " ('USD/ZAR', 'USD_ZAR'),\n",
       " ('ZAR/JPY', 'ZAR_JPY')]"
      ]
     },
     "execution_count": 3,
     "metadata": {},
     "output_type": "execute_result"
    }
   ],
   "source": [
    "api.get_instruments()"
   ]
  },
  {
   "cell_type": "markdown",
   "metadata": {},
   "source": [
    "__Historical Data__"
   ]
  },
  {
   "cell_type": "code",
   "execution_count": 6,
   "metadata": {},
   "outputs": [
    {
     "data": {
      "text/html": [
       "<div>\n",
       "<style scoped>\n",
       "    .dataframe tbody tr th:only-of-type {\n",
       "        vertical-align: middle;\n",
       "    }\n",
       "\n",
       "    .dataframe tbody tr th {\n",
       "        vertical-align: top;\n",
       "    }\n",
       "\n",
       "    .dataframe thead th {\n",
       "        text-align: right;\n",
       "    }\n",
       "</style>\n",
       "<table border=\"1\" class=\"dataframe\">\n",
       "  <thead>\n",
       "    <tr style=\"text-align: right;\">\n",
       "      <th></th>\n",
       "      <th>o</th>\n",
       "      <th>h</th>\n",
       "      <th>l</th>\n",
       "      <th>c</th>\n",
       "      <th>volume</th>\n",
       "      <th>complete</th>\n",
       "    </tr>\n",
       "    <tr>\n",
       "      <th>time</th>\n",
       "      <th></th>\n",
       "      <th></th>\n",
       "      <th></th>\n",
       "      <th></th>\n",
       "      <th></th>\n",
       "      <th></th>\n",
       "    </tr>\n",
       "  </thead>\n",
       "  <tbody>\n",
       "    <tr>\n",
       "      <th>2021-05-30 21:00:00+00:00</th>\n",
       "      <td>1.22010</td>\n",
       "      <td>1.22010</td>\n",
       "      <td>1.21961</td>\n",
       "      <td>1.22010</td>\n",
       "      <td>3</td>\n",
       "      <td>True</td>\n",
       "    </tr>\n",
       "    <tr>\n",
       "      <th>2021-05-30 21:02:00+00:00</th>\n",
       "      <td>1.22010</td>\n",
       "      <td>1.22010</td>\n",
       "      <td>1.22010</td>\n",
       "      <td>1.22010</td>\n",
       "      <td>2</td>\n",
       "      <td>True</td>\n",
       "    </tr>\n",
       "    <tr>\n",
       "      <th>2021-05-30 21:04:00+00:00</th>\n",
       "      <td>1.21995</td>\n",
       "      <td>1.22002</td>\n",
       "      <td>1.21995</td>\n",
       "      <td>1.21996</td>\n",
       "      <td>3</td>\n",
       "      <td>True</td>\n",
       "    </tr>\n",
       "    <tr>\n",
       "      <th>2021-05-30 21:05:00+00:00</th>\n",
       "      <td>1.21984</td>\n",
       "      <td>1.22006</td>\n",
       "      <td>1.21960</td>\n",
       "      <td>1.21960</td>\n",
       "      <td>12</td>\n",
       "      <td>True</td>\n",
       "    </tr>\n",
       "    <tr>\n",
       "      <th>2021-05-30 21:06:00+00:00</th>\n",
       "      <td>1.21953</td>\n",
       "      <td>1.21960</td>\n",
       "      <td>1.21951</td>\n",
       "      <td>1.21951</td>\n",
       "      <td>3</td>\n",
       "      <td>True</td>\n",
       "    </tr>\n",
       "    <tr>\n",
       "      <th>...</th>\n",
       "      <td>...</td>\n",
       "      <td>...</td>\n",
       "      <td>...</td>\n",
       "      <td>...</td>\n",
       "      <td>...</td>\n",
       "      <td>...</td>\n",
       "    </tr>\n",
       "    <tr>\n",
       "      <th>2021-05-30 23:55:00+00:00</th>\n",
       "      <td>1.21910</td>\n",
       "      <td>1.21910</td>\n",
       "      <td>1.21906</td>\n",
       "      <td>1.21910</td>\n",
       "      <td>17</td>\n",
       "      <td>True</td>\n",
       "    </tr>\n",
       "    <tr>\n",
       "      <th>2021-05-30 23:56:00+00:00</th>\n",
       "      <td>1.21909</td>\n",
       "      <td>1.21910</td>\n",
       "      <td>1.21902</td>\n",
       "      <td>1.21904</td>\n",
       "      <td>14</td>\n",
       "      <td>True</td>\n",
       "    </tr>\n",
       "    <tr>\n",
       "      <th>2021-05-30 23:57:00+00:00</th>\n",
       "      <td>1.21906</td>\n",
       "      <td>1.21910</td>\n",
       "      <td>1.21906</td>\n",
       "      <td>1.21908</td>\n",
       "      <td>13</td>\n",
       "      <td>True</td>\n",
       "    </tr>\n",
       "    <tr>\n",
       "      <th>2021-05-30 23:58:00+00:00</th>\n",
       "      <td>1.21909</td>\n",
       "      <td>1.21912</td>\n",
       "      <td>1.21896</td>\n",
       "      <td>1.21900</td>\n",
       "      <td>24</td>\n",
       "      <td>True</td>\n",
       "    </tr>\n",
       "    <tr>\n",
       "      <th>2021-05-30 23:59:00+00:00</th>\n",
       "      <td>1.21900</td>\n",
       "      <td>1.21900</td>\n",
       "      <td>1.21892</td>\n",
       "      <td>1.21895</td>\n",
       "      <td>22</td>\n",
       "      <td>True</td>\n",
       "    </tr>\n",
       "  </tbody>\n",
       "</table>\n",
       "<p>135 rows × 6 columns</p>\n",
       "</div>"
      ],
      "text/plain": [
       "                                 o        h        l        c  volume  \\\n",
       "time                                                                    \n",
       "2021-05-30 21:00:00+00:00  1.22010  1.22010  1.21961  1.22010       3   \n",
       "2021-05-30 21:02:00+00:00  1.22010  1.22010  1.22010  1.22010       2   \n",
       "2021-05-30 21:04:00+00:00  1.21995  1.22002  1.21995  1.21996       3   \n",
       "2021-05-30 21:05:00+00:00  1.21984  1.22006  1.21960  1.21960      12   \n",
       "2021-05-30 21:06:00+00:00  1.21953  1.21960  1.21951  1.21951       3   \n",
       "...                            ...      ...      ...      ...     ...   \n",
       "2021-05-30 23:55:00+00:00  1.21910  1.21910  1.21906  1.21910      17   \n",
       "2021-05-30 23:56:00+00:00  1.21909  1.21910  1.21902  1.21904      14   \n",
       "2021-05-30 23:57:00+00:00  1.21906  1.21910  1.21906  1.21908      13   \n",
       "2021-05-30 23:58:00+00:00  1.21909  1.21912  1.21896  1.21900      24   \n",
       "2021-05-30 23:59:00+00:00  1.21900  1.21900  1.21892  1.21895      22   \n",
       "\n",
       "                           complete  \n",
       "time                                 \n",
       "2021-05-30 21:00:00+00:00      True  \n",
       "2021-05-30 21:02:00+00:00      True  \n",
       "2021-05-30 21:04:00+00:00      True  \n",
       "2021-05-30 21:05:00+00:00      True  \n",
       "2021-05-30 21:06:00+00:00      True  \n",
       "...                             ...  \n",
       "2021-05-30 23:55:00+00:00      True  \n",
       "2021-05-30 23:56:00+00:00      True  \n",
       "2021-05-30 23:57:00+00:00      True  \n",
       "2021-05-30 23:58:00+00:00      True  \n",
       "2021-05-30 23:59:00+00:00      True  \n",
       "\n",
       "[135 rows x 6 columns]"
      ]
     },
     "execution_count": 6,
     "metadata": {},
     "output_type": "execute_result"
    }
   ],
   "source": [
    "api.get_history(instrument = \"EUR_USD\", start = \"2021-05-29\", end = \"2021-05-31\",\n",
    "                granularity = \"M1\", price = \"M\", localize = False)"
   ]
  },
  {
   "cell_type": "markdown",
   "metadata": {},
   "source": [
    "__Streaming ticks / real-time Data__"
   ]
  },
  {
   "cell_type": "code",
   "execution_count": 7,
   "metadata": {
    "scrolled": true
   },
   "outputs": [
    {
     "name": "stdout",
     "output_type": "stream",
     "text": [
      "2021-07-06T01:06:16.135628564Z 1.18604 1.18618\n",
      "2021-07-06T01:06:28.250513825Z 1.18605 1.18619\n",
      "2021-07-06T01:06:29.069297795Z 1.18608 1.18623\n",
      "2021-07-06T01:06:29.384545401Z 1.18608 1.18622\n",
      "2021-07-06T01:06:29.517615698Z 1.18607 1.18621\n",
      "2021-07-06T01:06:29.784285151Z 1.18608 1.18622\n",
      "2021-07-06T01:06:34.889242083Z 1.18603 1.18618\n",
      "2021-07-06T01:06:35.684056114Z 1.18605 1.18618\n",
      "2021-07-06T01:06:42.105330816Z 1.18607 1.18621\n",
      "2021-07-06T01:06:42.436863872Z 1.18606 1.1862\n",
      "2021-07-06T01:06:43.304619416Z 1.18608 1.18621\n",
      "2021-07-06T01:06:46.000470872Z 1.18608 1.18621\n",
      "2021-07-06T01:06:46.398734318Z 1.18607 1.1862\n",
      "2021-07-06T01:06:46.695235644Z 1.18608 1.18621\n",
      "2021-07-06T01:06:49.119220037Z 1.18607 1.1862\n",
      "2021-07-06T01:06:51.694145162Z 1.18604 1.18617\n",
      "2021-07-06T01:06:52.186030165Z 1.18604 1.18617\n",
      "2021-07-06T01:06:55.053283431Z 1.18605 1.18619\n",
      "2021-07-06T01:06:55.343986006Z 1.18607 1.1862\n",
      "2021-07-06T01:07:04.189442695Z 1.18603 1.18617\n"
     ]
    }
   ],
   "source": [
    "api.stream_data(\"EUR_USD\", stop = 20) "
   ]
  },
  {
   "cell_type": "markdown",
   "metadata": {},
   "source": [
    "__Orders & Trades__"
   ]
  },
  {
   "cell_type": "code",
   "execution_count": 8,
   "metadata": {},
   "outputs": [
    {
     "name": "stdout",
     "output_type": "stream",
     "text": [
      "\n",
      "\n",
      " {'id': '115', 'time': '2021-07-06T01:09:08.660867059Z', 'userID': 18793455, 'accountID': '101-001-18793455-001', 'batchID': '114', 'requestID': '60861178231168532', 'type': 'ORDER_FILL', 'orderID': '114', 'instrument': 'EUR_USD', 'units': '100000.0', 'gainQuoteHomeConversionFactor': '1.0', 'lossQuoteHomeConversionFactor': '1.0', 'price': 1.18617, 'fullVWAP': 1.18617, 'fullPrice': {'type': 'PRICE', 'bids': [{'price': 1.18602, 'liquidity': '10000000'}], 'asks': [{'price': 1.18617, 'liquidity': '10000000'}], 'closeoutBid': 1.18602, 'closeoutAsk': 1.18617}, 'reason': 'MARKET_ORDER', 'pl': '659.0', 'financing': '0.0', 'commission': '0.0', 'guaranteedExecutionFee': '0.0', 'accountBalance': '100797.444', 'tradesClosed': [{'tradeID': '100', 'units': '100000.0', 'price': 1.18617, 'realizedPL': '659.0', 'financing': '0.0', 'guaranteedExecutionFee': '0.0', 'halfSpreadCost': '7.5'}], 'halfSpreadCost': '7.5'} \n",
      "\n"
     ]
    }
   ],
   "source": [
    "api.create_order(instrument = \"EUR_USD\", units = 100000)"
   ]
  },
  {
   "cell_type": "code",
   "execution_count": 9,
   "metadata": {},
   "outputs": [
    {
     "data": {
      "text/plain": [
       "[]"
      ]
     },
     "execution_count": 9,
     "metadata": {},
     "output_type": "execute_result"
    }
   ],
   "source": [
    "api.get_positions()"
   ]
  },
  {
   "cell_type": "code",
   "execution_count": 10,
   "metadata": {},
   "outputs": [
    {
     "name": "stdout",
     "output_type": "stream",
     "text": [
      "\n",
      "\n",
      " {'id': '118', 'time': '2021-07-06T01:09:18.016794232Z', 'userID': 18793455, 'accountID': '101-001-18793455-001', 'batchID': '117', 'requestID': '60861178273126438', 'type': 'ORDER_FILL', 'orderID': '117', 'instrument': 'EUR_USD', 'units': '-100000.0', 'gainQuoteHomeConversionFactor': '1.0', 'lossQuoteHomeConversionFactor': '1.0', 'price': 1.18599, 'fullVWAP': 1.18599, 'fullPrice': {'type': 'PRICE', 'bids': [{'price': 1.18599, 'liquidity': '10000000'}], 'asks': [{'price': 1.18614, 'liquidity': '10000000'}], 'closeoutBid': 1.18599, 'closeoutAsk': 1.18614}, 'reason': 'MARKET_ORDER', 'pl': '0.0', 'financing': '0.0', 'commission': '0.0', 'guaranteedExecutionFee': '0.0', 'accountBalance': '100797.444', 'tradeOpened': {'tradeID': '118', 'units': '-100000.0', 'price': 1.18599, 'guaranteedExecutionFee': '0.0', 'halfSpreadCost': '7.5', 'initialMarginRequired': '2372.12'}, 'halfSpreadCost': '7.5'} \n",
      "\n"
     ]
    }
   ],
   "source": [
    "api.create_order(instrument = \"EUR_USD\", units = -100000)"
   ]
  },
  {
   "cell_type": "code",
   "execution_count": 11,
   "metadata": {},
   "outputs": [
    {
     "data": {
      "text/plain": [
       "{'id': '101-001-18793455-001',\n",
       " 'alias': 'Primary',\n",
       " 'currency': 'USD',\n",
       " 'balance': '100797.444',\n",
       " 'createdByUserID': 18793455,\n",
       " 'createdTime': '2021-04-07T22:13:29.145604328Z',\n",
       " 'guaranteedStopLossOrderMode': 'DISABLED',\n",
       " 'pl': '1199.973',\n",
       " 'resettablePL': '1199.973',\n",
       " 'resettablePLTime': '0',\n",
       " 'financing': '-402.529',\n",
       " 'commission': '0.0',\n",
       " 'guaranteedExecutionFees': '0.0',\n",
       " 'marginRate': '0.02',\n",
       " 'openTradeCount': 1,\n",
       " 'openPositionCount': 1,\n",
       " 'pendingOrderCount': 0,\n",
       " 'hedgingEnabled': False,\n",
       " 'unrealizedPL': '-15.0',\n",
       " 'NAV': '100782.444',\n",
       " 'marginUsed': '2372.12',\n",
       " 'marginAvailable': '98410.324',\n",
       " 'positionValue': '118606.0',\n",
       " 'marginCloseoutUnrealizedPL': '-7.0',\n",
       " 'marginCloseoutNAV': '100790.444',\n",
       " 'marginCloseoutMarginUsed': '2372.12',\n",
       " 'marginCloseoutPercent': '0.01177',\n",
       " 'marginCloseoutPositionValue': '118606.0',\n",
       " 'withdrawalLimit': '98410.324',\n",
       " 'marginCallMarginUsed': '2372.12',\n",
       " 'marginCallPercent': '0.02354',\n",
       " 'lastTransactionID': '118'}"
      ]
     },
     "execution_count": 11,
     "metadata": {},
     "output_type": "execute_result"
    }
   ],
   "source": [
    "api.get_account_summary()"
   ]
  },
  {
   "cell_type": "code",
   "execution_count": 12,
   "metadata": {
    "scrolled": true
   },
   "outputs": [
    {
     "data": {
      "text/plain": [
       "[{'id': '1',\n",
       "  'time': '2021-04-07T22:13:29.145604328Z',\n",
       "  'userID': 18793455,\n",
       "  'accountID': '101-001-18793455-001',\n",
       "  'batchID': '1',\n",
       "  'requestID': '1790211138416963562',\n",
       "  'type': 'CREATE',\n",
       "  'divisionID': 1,\n",
       "  'siteID': 101,\n",
       "  'accountUserID': 18793455,\n",
       "  'accountNumber': 1,\n",
       "  'homeCurrency': 'USD'},\n",
       " {'id': '2',\n",
       "  'time': '2021-04-07T22:13:29.145604328Z',\n",
       "  'userID': 18793455,\n",
       "  'accountID': '101-001-18793455-001',\n",
       "  'batchID': '1',\n",
       "  'requestID': '1790211138416963562',\n",
       "  'type': 'CLIENT_CONFIGURE',\n",
       "  'alias': 'Primary',\n",
       "  'marginRate': '0.02'},\n",
       " {'id': '3',\n",
       "  'time': '2021-04-07T22:13:30.423324556Z',\n",
       "  'userID': 18793455,\n",
       "  'accountID': '101-001-18793455-001',\n",
       "  'batchID': '3',\n",
       "  'requestID': '1754182341402238947',\n",
       "  'type': 'TRANSFER_FUNDS',\n",
       "  'amount': '100000.0',\n",
       "  'fundingReason': 'CLIENT_FUNDING',\n",
       "  'accountBalance': '100000.0'},\n",
       " {'id': '4',\n",
       "  'time': '2021-04-07T22:17:46.501777125Z',\n",
       "  'userID': 18793455,\n",
       "  'accountID': '101-001-18793455-001',\n",
       "  'batchID': '4',\n",
       "  'requestID': '60828882587688423',\n",
       "  'type': 'MARKET_ORDER',\n",
       "  'instrument': 'EUR_USD',\n",
       "  'units': '100000.0',\n",
       "  'timeInForce': 'FOK',\n",
       "  'positionFill': 'DEFAULT',\n",
       "  'reason': 'CLIENT_ORDER'},\n",
       " {'id': '5',\n",
       "  'time': '2021-04-07T22:17:46.501777125Z',\n",
       "  'userID': 18793455,\n",
       "  'accountID': '101-001-18793455-001',\n",
       "  'batchID': '4',\n",
       "  'requestID': '60828882587688423',\n",
       "  'type': 'ORDER_FILL',\n",
       "  'orderID': '4',\n",
       "  'instrument': 'EUR_USD',\n",
       "  'units': '100000.0',\n",
       "  'gainQuoteHomeConversionFactor': '1.0',\n",
       "  'lossQuoteHomeConversionFactor': '1.0',\n",
       "  'price': 1.18736,\n",
       "  'fullVWAP': 1.18736,\n",
       "  'fullPrice': {'type': 'PRICE',\n",
       "   'bids': [{'price': 1.18722, 'liquidity': '10000000'}],\n",
       "   'asks': [{'price': 1.18736, 'liquidity': '10000000'}],\n",
       "   'closeoutBid': 1.18722,\n",
       "   'closeoutAsk': 1.18736},\n",
       "  'reason': 'MARKET_ORDER',\n",
       "  'pl': '0.0',\n",
       "  'financing': '0.0',\n",
       "  'commission': '0.0',\n",
       "  'guaranteedExecutionFee': '0.0',\n",
       "  'accountBalance': '100000.0',\n",
       "  'tradeOpened': {'tradeID': '5',\n",
       "   'units': '100000.0',\n",
       "   'price': 1.18736,\n",
       "   'guaranteedExecutionFee': '0.0',\n",
       "   'halfSpreadCost': '7.0',\n",
       "   'initialMarginRequired': '2374.58'},\n",
       "  'halfSpreadCost': '7.0'},\n",
       " {'id': '6',\n",
       "  'time': '2021-04-08T21:00:00.000000000Z',\n",
       "  'userID': 18793455,\n",
       "  'accountID': '101-001-18793455-001',\n",
       "  'batchID': '6',\n",
       "  'type': 'DAILY_FINANCING',\n",
       "  'financing': '-5.6102',\n",
       "  'accountBalance': '99994.3898',\n",
       "  'positionFinancings': [{'instrument': 'EUR_USD',\n",
       "    'financing': '-5.6102',\n",
       "    'openTradeFinancings': [{'tradeID': '5', 'financing': '-5.6102'}]}]},\n",
       " {'id': '7',\n",
       "  'time': '2021-04-09T21:00:00.000000000Z',\n",
       "  'userID': 18793455,\n",
       "  'accountID': '101-001-18793455-001',\n",
       "  'batchID': '7',\n",
       "  'type': 'DAILY_FINANCING',\n",
       "  'financing': '-5.6028',\n",
       "  'accountBalance': '99988.787',\n",
       "  'positionFinancings': [{'instrument': 'EUR_USD',\n",
       "    'financing': '-5.6028',\n",
       "    'openTradeFinancings': [{'tradeID': '5', 'financing': '-5.6028'}]}]},\n",
       " {'id': '8',\n",
       "  'time': '2021-04-10T21:00:00.000000000Z',\n",
       "  'userID': 18793455,\n",
       "  'accountID': '101-001-18793455-001',\n",
       "  'batchID': '8',\n",
       "  'type': 'DAILY_FINANCING',\n",
       "  'financing': '0.0',\n",
       "  'accountBalance': '99988.787',\n",
       "  'positionFinancings': [{'instrument': 'EUR_USD',\n",
       "    'financing': '0.0',\n",
       "    'openTradeFinancings': [{'tradeID': '5', 'financing': '0.0'}]}]},\n",
       " {'id': '9',\n",
       "  'time': '2021-04-11T21:00:00.000000000Z',\n",
       "  'userID': 18793455,\n",
       "  'accountID': '101-001-18793455-001',\n",
       "  'batchID': '9',\n",
       "  'type': 'DAILY_FINANCING',\n",
       "  'financing': '0.0',\n",
       "  'accountBalance': '99988.787',\n",
       "  'positionFinancings': [{'instrument': 'EUR_USD',\n",
       "    'financing': '0.0',\n",
       "    'openTradeFinancings': [{'tradeID': '5', 'financing': '0.0'}]}]},\n",
       " {'id': '10',\n",
       "  'time': '2021-04-12T21:00:00.000000000Z',\n",
       "  'userID': 18793455,\n",
       "  'accountID': '101-001-18793455-001',\n",
       "  'batchID': '10',\n",
       "  'type': 'DAILY_FINANCING',\n",
       "  'financing': '-5.7067',\n",
       "  'accountBalance': '99983.0803',\n",
       "  'positionFinancings': [{'instrument': 'EUR_USD',\n",
       "    'financing': '-5.7067',\n",
       "    'openTradeFinancings': [{'tradeID': '5', 'financing': '-5.7067'}]}]},\n",
       " {'id': '11',\n",
       "  'time': '2021-04-13T21:00:00.000000000Z',\n",
       "  'userID': 18793455,\n",
       "  'accountID': '101-001-18793455-001',\n",
       "  'batchID': '11',\n",
       "  'type': 'DAILY_FINANCING',\n",
       "  'financing': '-5.7246',\n",
       "  'accountBalance': '99977.3557',\n",
       "  'positionFinancings': [{'instrument': 'EUR_USD',\n",
       "    'financing': '-5.7246',\n",
       "    'openTradeFinancings': [{'tradeID': '5', 'financing': '-5.7246'}]}]},\n",
       " {'id': '12',\n",
       "  'time': '2021-04-14T21:00:00.000000000Z',\n",
       "  'userID': 18793455,\n",
       "  'accountID': '101-001-18793455-001',\n",
       "  'batchID': '12',\n",
       "  'type': 'DAILY_FINANCING',\n",
       "  'financing': '-17.1513',\n",
       "  'accountBalance': '99960.2044',\n",
       "  'positionFinancings': [{'instrument': 'EUR_USD',\n",
       "    'financing': '-17.1513',\n",
       "    'openTradeFinancings': [{'tradeID': '5', 'financing': '-17.1513'}]}]},\n",
       " {'id': '13',\n",
       "  'time': '2021-04-15T21:00:00.000000000Z',\n",
       "  'userID': 18793455,\n",
       "  'accountID': '101-001-18793455-001',\n",
       "  'batchID': '13',\n",
       "  'type': 'DAILY_FINANCING',\n",
       "  'financing': '-5.7002',\n",
       "  'accountBalance': '99954.5042',\n",
       "  'positionFinancings': [{'instrument': 'EUR_USD',\n",
       "    'financing': '-5.7002',\n",
       "    'openTradeFinancings': [{'tradeID': '5', 'financing': '-5.7002'}]}]},\n",
       " {'id': '14',\n",
       "  'time': '2021-04-16T21:00:00.000000000Z',\n",
       "  'userID': 18793455,\n",
       "  'accountID': '101-001-18793455-001',\n",
       "  'batchID': '14',\n",
       "  'type': 'DAILY_FINANCING',\n",
       "  'financing': '-5.6087',\n",
       "  'accountBalance': '99948.8955',\n",
       "  'positionFinancings': [{'instrument': 'EUR_USD',\n",
       "    'financing': '-5.6087',\n",
       "    'openTradeFinancings': [{'tradeID': '5', 'financing': '-5.6087'}]}]},\n",
       " {'id': '15',\n",
       "  'time': '2021-04-17T21:00:00.000000000Z',\n",
       "  'userID': 18793455,\n",
       "  'accountID': '101-001-18793455-001',\n",
       "  'batchID': '15',\n",
       "  'type': 'DAILY_FINANCING',\n",
       "  'financing': '0.0',\n",
       "  'accountBalance': '99948.8955',\n",
       "  'positionFinancings': [{'instrument': 'EUR_USD',\n",
       "    'financing': '0.0',\n",
       "    'openTradeFinancings': [{'tradeID': '5', 'financing': '0.0'}]}]},\n",
       " {'id': '16',\n",
       "  'time': '2021-04-18T21:00:00.000000000Z',\n",
       "  'userID': 18793455,\n",
       "  'accountID': '101-001-18793455-001',\n",
       "  'batchID': '16',\n",
       "  'type': 'DAILY_FINANCING',\n",
       "  'financing': '0.0',\n",
       "  'accountBalance': '99948.8955',\n",
       "  'positionFinancings': [{'instrument': 'EUR_USD',\n",
       "    'financing': '0.0',\n",
       "    'openTradeFinancings': [{'tradeID': '5', 'financing': '0.0'}]}]},\n",
       " {'id': '17',\n",
       "  'time': '2021-04-19T21:00:00.000000000Z',\n",
       "  'userID': 18793455,\n",
       "  'accountID': '101-001-18793455-001',\n",
       "  'batchID': '17',\n",
       "  'type': 'DAILY_FINANCING',\n",
       "  'financing': '-5.6343',\n",
       "  'accountBalance': '99943.2612',\n",
       "  'positionFinancings': [{'instrument': 'EUR_USD',\n",
       "    'financing': '-5.6343',\n",
       "    'openTradeFinancings': [{'tradeID': '5', 'financing': '-5.6343'}]}]},\n",
       " {'id': '18',\n",
       "  'time': '2021-04-20T21:00:00.000000000Z',\n",
       "  'userID': 18793455,\n",
       "  'accountID': '101-001-18793455-001',\n",
       "  'batchID': '18',\n",
       "  'type': 'DAILY_FINANCING',\n",
       "  'financing': '-5.634',\n",
       "  'accountBalance': '99937.6272',\n",
       "  'positionFinancings': [{'instrument': 'EUR_USD',\n",
       "    'financing': '-5.634',\n",
       "    'openTradeFinancings': [{'tradeID': '5', 'financing': '-5.634'}]}]},\n",
       " {'id': '19',\n",
       "  'time': '2021-04-21T21:00:00.000000000Z',\n",
       "  'userID': 18793455,\n",
       "  'accountID': '101-001-18793455-001',\n",
       "  'batchID': '19',\n",
       "  'type': 'DAILY_FINANCING',\n",
       "  'financing': '-16.9',\n",
       "  'accountBalance': '99920.7272',\n",
       "  'positionFinancings': [{'instrument': 'EUR_USD',\n",
       "    'financing': '-16.9',\n",
       "    'openTradeFinancings': [{'tradeID': '5', 'financing': '-16.9'}]}]},\n",
       " {'id': '20',\n",
       "  'time': '2021-04-22T21:00:00.000000000Z',\n",
       "  'userID': 18793455,\n",
       "  'accountID': '101-001-18793455-001',\n",
       "  'batchID': '20',\n",
       "  'type': 'DAILY_FINANCING',\n",
       "  'financing': '-5.6239',\n",
       "  'accountBalance': '99915.1033',\n",
       "  'positionFinancings': [{'instrument': 'EUR_USD',\n",
       "    'financing': '-5.6239',\n",
       "    'openTradeFinancings': [{'tradeID': '5', 'financing': '-5.6239'}]}]},\n",
       " {'id': '21',\n",
       "  'time': '2021-04-23T21:00:00.000000000Z',\n",
       "  'userID': 18793455,\n",
       "  'accountID': '101-001-18793455-001',\n",
       "  'batchID': '21',\n",
       "  'type': 'DAILY_FINANCING',\n",
       "  'financing': '-5.5624',\n",
       "  'accountBalance': '99909.5409',\n",
       "  'positionFinancings': [{'instrument': 'EUR_USD',\n",
       "    'financing': '-5.5624',\n",
       "    'openTradeFinancings': [{'tradeID': '5', 'financing': '-5.5624'}]}]},\n",
       " {'id': '22',\n",
       "  'time': '2021-04-24T21:00:00.000000000Z',\n",
       "  'userID': 18793455,\n",
       "  'accountID': '101-001-18793455-001',\n",
       "  'batchID': '22',\n",
       "  'type': 'DAILY_FINANCING',\n",
       "  'financing': '0.0',\n",
       "  'accountBalance': '99909.5409',\n",
       "  'positionFinancings': [{'instrument': 'EUR_USD',\n",
       "    'financing': '0.0',\n",
       "    'openTradeFinancings': [{'tradeID': '5', 'financing': '0.0'}]}]},\n",
       " {'id': '23',\n",
       "  'time': '2021-04-25T21:00:00.000000000Z',\n",
       "  'userID': 18793455,\n",
       "  'accountID': '101-001-18793455-001',\n",
       "  'batchID': '23',\n",
       "  'type': 'DAILY_FINANCING',\n",
       "  'financing': '0.0',\n",
       "  'accountBalance': '99909.5409',\n",
       "  'positionFinancings': [{'instrument': 'EUR_USD',\n",
       "    'financing': '0.0',\n",
       "    'openTradeFinancings': [{'tradeID': '5', 'financing': '0.0'}]}]},\n",
       " {'id': '24',\n",
       "  'time': '2021-04-26T21:00:00.000000000Z',\n",
       "  'userID': 18793455,\n",
       "  'accountID': '101-001-18793455-001',\n",
       "  'batchID': '24',\n",
       "  'type': 'DAILY_FINANCING',\n",
       "  'financing': '-5.5241',\n",
       "  'accountBalance': '99904.0168',\n",
       "  'positionFinancings': [{'instrument': 'EUR_USD',\n",
       "    'financing': '-5.5241',\n",
       "    'openTradeFinancings': [{'tradeID': '5', 'financing': '-5.5241'}]}]},\n",
       " {'id': '25',\n",
       "  'time': '2021-04-27T21:00:00.000000000Z',\n",
       "  'userID': 18793455,\n",
       "  'accountID': '101-001-18793455-001',\n",
       "  'batchID': '25',\n",
       "  'type': 'DAILY_FINANCING',\n",
       "  'financing': '-5.56',\n",
       "  'accountBalance': '99898.4568',\n",
       "  'positionFinancings': [{'instrument': 'EUR_USD',\n",
       "    'financing': '-5.56',\n",
       "    'openTradeFinancings': [{'tradeID': '5', 'financing': '-5.56'}]}]},\n",
       " {'id': '26',\n",
       "  'time': '2021-04-28T21:00:00.000000000Z',\n",
       "  'userID': 18793455,\n",
       "  'accountID': '101-001-18793455-001',\n",
       "  'batchID': '26',\n",
       "  'type': 'DAILY_FINANCING',\n",
       "  'financing': '-16.9942',\n",
       "  'accountBalance': '99881.4626',\n",
       "  'positionFinancings': [{'instrument': 'EUR_USD',\n",
       "    'financing': '-16.9942',\n",
       "    'openTradeFinancings': [{'tradeID': '5', 'financing': '-16.9942'}]}]},\n",
       " {'id': '27',\n",
       "  'time': '2021-04-29T21:00:00.000000000Z',\n",
       "  'userID': 18793455,\n",
       "  'accountID': '101-001-18793455-001',\n",
       "  'batchID': '27',\n",
       "  'type': 'DAILY_FINANCING',\n",
       "  'financing': '-5.6397',\n",
       "  'accountBalance': '99875.8229',\n",
       "  'positionFinancings': [{'instrument': 'EUR_USD',\n",
       "    'financing': '-5.6397',\n",
       "    'openTradeFinancings': [{'tradeID': '5', 'financing': '-5.6397'}]}]},\n",
       " {'id': '28',\n",
       "  'time': '2021-04-30T21:00:00.000000000Z',\n",
       "  'userID': 18793455,\n",
       "  'accountID': '101-001-18793455-001',\n",
       "  'batchID': '28',\n",
       "  'type': 'DAILY_FINANCING',\n",
       "  'financing': '-5.494',\n",
       "  'accountBalance': '99870.3289',\n",
       "  'positionFinancings': [{'instrument': 'EUR_USD',\n",
       "    'financing': '-5.494',\n",
       "    'openTradeFinancings': [{'tradeID': '5', 'financing': '-5.494'}]}]},\n",
       " {'id': '29',\n",
       "  'time': '2021-05-01T21:00:00.000000000Z',\n",
       "  'userID': 18793455,\n",
       "  'accountID': '101-001-18793455-001',\n",
       "  'batchID': '29',\n",
       "  'type': 'DAILY_FINANCING',\n",
       "  'financing': '0.0',\n",
       "  'accountBalance': '99870.3289',\n",
       "  'positionFinancings': [{'instrument': 'EUR_USD',\n",
       "    'financing': '0.0',\n",
       "    'openTradeFinancings': [{'tradeID': '5', 'financing': '0.0'}]}]},\n",
       " {'id': '30',\n",
       "  'time': '2021-05-02T21:00:00.000000000Z',\n",
       "  'userID': 18793455,\n",
       "  'accountID': '101-001-18793455-001',\n",
       "  'batchID': '30',\n",
       "  'type': 'DAILY_FINANCING',\n",
       "  'financing': '0.0',\n",
       "  'accountBalance': '99870.3289',\n",
       "  'positionFinancings': [{'instrument': 'EUR_USD',\n",
       "    'financing': '0.0',\n",
       "    'openTradeFinancings': [{'tradeID': '5', 'financing': '0.0'}]}]},\n",
       " {'id': '31',\n",
       "  'time': '2021-05-03T21:00:00.000000000Z',\n",
       "  'userID': 18793455,\n",
       "  'accountID': '101-001-18793455-001',\n",
       "  'batchID': '31',\n",
       "  'type': 'DAILY_FINANCING',\n",
       "  'financing': '-5.6468',\n",
       "  'accountBalance': '99864.6821',\n",
       "  'positionFinancings': [{'instrument': 'EUR_USD',\n",
       "    'financing': '-5.6468',\n",
       "    'openTradeFinancings': [{'tradeID': '5', 'financing': '-5.6468'}]}]},\n",
       " {'id': '32',\n",
       "  'time': '2021-05-04T21:00:00.000000000Z',\n",
       "  'userID': 18793455,\n",
       "  'accountID': '101-001-18793455-001',\n",
       "  'batchID': '32',\n",
       "  'type': 'DAILY_FINANCING',\n",
       "  'financing': '-5.6232',\n",
       "  'accountBalance': '99859.0589',\n",
       "  'positionFinancings': [{'instrument': 'EUR_USD',\n",
       "    'financing': '-5.6232',\n",
       "    'openTradeFinancings': [{'tradeID': '5', 'financing': '-5.6232'}]}]},\n",
       " {'id': '33',\n",
       "  'time': '2021-05-05T21:00:00.000000000Z',\n",
       "  'userID': 18793455,\n",
       "  'accountID': '101-001-18793455-001',\n",
       "  'batchID': '33',\n",
       "  'type': 'DAILY_FINANCING',\n",
       "  'financing': '-16.5602',\n",
       "  'accountBalance': '99842.4987',\n",
       "  'positionFinancings': [{'instrument': 'EUR_USD',\n",
       "    'financing': '-16.5602',\n",
       "    'openTradeFinancings': [{'tradeID': '5', 'financing': '-16.5602'}]}]},\n",
       " {'id': '34',\n",
       "  'time': '2021-05-06T21:00:00.000000000Z',\n",
       "  'userID': 18793455,\n",
       "  'accountID': '101-001-18793455-001',\n",
       "  'batchID': '34',\n",
       "  'type': 'DAILY_FINANCING',\n",
       "  'financing': '-5.5479',\n",
       "  'accountBalance': '99836.9508',\n",
       "  'positionFinancings': [{'instrument': 'EUR_USD',\n",
       "    'financing': '-5.5479',\n",
       "    'openTradeFinancings': [{'tradeID': '5', 'financing': '-5.5479'}]}]},\n",
       " {'id': '35',\n",
       "  'time': '2021-05-07T21:00:00.000000000Z',\n",
       "  'userID': 18793455,\n",
       "  'accountID': '101-001-18793455-001',\n",
       "  'batchID': '35',\n",
       "  'type': 'DAILY_FINANCING',\n",
       "  'financing': '-5.5594',\n",
       "  'accountBalance': '99831.3914',\n",
       "  'positionFinancings': [{'instrument': 'EUR_USD',\n",
       "    'financing': '-5.5594',\n",
       "    'openTradeFinancings': [{'tradeID': '5', 'financing': '-5.5594'}]}]},\n",
       " {'id': '36',\n",
       "  'time': '2021-05-08T21:00:00.000000000Z',\n",
       "  'userID': 18793455,\n",
       "  'accountID': '101-001-18793455-001',\n",
       "  'batchID': '36',\n",
       "  'type': 'DAILY_FINANCING',\n",
       "  'financing': '0.0',\n",
       "  'accountBalance': '99831.3914',\n",
       "  'positionFinancings': [{'instrument': 'EUR_USD',\n",
       "    'financing': '0.0',\n",
       "    'openTradeFinancings': [{'tradeID': '5', 'financing': '0.0'}]}]},\n",
       " {'id': '37',\n",
       "  'time': '2021-05-09T21:00:00.000000000Z',\n",
       "  'userID': 18793455,\n",
       "  'accountID': '101-001-18793455-001',\n",
       "  'batchID': '37',\n",
       "  'type': 'DAILY_FINANCING',\n",
       "  'financing': '0.0',\n",
       "  'accountBalance': '99831.3914',\n",
       "  'positionFinancings': [{'instrument': 'EUR_USD',\n",
       "    'financing': '0.0',\n",
       "    'openTradeFinancings': [{'tradeID': '5', 'financing': '0.0'}]}]},\n",
       " {'id': '38',\n",
       "  'time': '2021-05-10T21:00:00.000000000Z',\n",
       "  'userID': 18793455,\n",
       "  'accountID': '101-001-18793455-001',\n",
       "  'batchID': '38',\n",
       "  'type': 'DAILY_FINANCING',\n",
       "  'financing': '-5.6439',\n",
       "  'accountBalance': '99825.7475',\n",
       "  'positionFinancings': [{'instrument': 'EUR_USD',\n",
       "    'financing': '-5.6439',\n",
       "    'openTradeFinancings': [{'tradeID': '5', 'financing': '-5.6439'}]}]},\n",
       " {'id': '39',\n",
       "  'time': '2021-05-11T21:00:00.000000000Z',\n",
       "  'userID': 18793455,\n",
       "  'accountID': '101-001-18793455-001',\n",
       "  'batchID': '39',\n",
       "  'type': 'DAILY_FINANCING',\n",
       "  'financing': '-5.653',\n",
       "  'accountBalance': '99820.0945',\n",
       "  'positionFinancings': [{'instrument': 'EUR_USD',\n",
       "    'financing': '-5.653',\n",
       "    'openTradeFinancings': [{'tradeID': '5', 'financing': '-5.653'}]}]},\n",
       " {'id': '40',\n",
       "  'time': '2021-05-12T21:00:00.000000000Z',\n",
       "  'userID': 18793455,\n",
       "  'accountID': '101-001-18793455-001',\n",
       "  'batchID': '40',\n",
       "  'type': 'DAILY_FINANCING',\n",
       "  'financing': '-16.5873',\n",
       "  'accountBalance': '99803.5072',\n",
       "  'positionFinancings': [{'instrument': 'EUR_USD',\n",
       "    'financing': '-16.5873',\n",
       "    'openTradeFinancings': [{'tradeID': '5', 'financing': '-16.5873'}]}]},\n",
       " {'id': '41',\n",
       "  'time': '2021-05-13T21:00:00.000000000Z',\n",
       "  'userID': 18793455,\n",
       "  'accountID': '101-001-18793455-001',\n",
       "  'batchID': '41',\n",
       "  'type': 'DAILY_FINANCING',\n",
       "  'financing': '-5.5209',\n",
       "  'accountBalance': '99797.9863',\n",
       "  'positionFinancings': [{'instrument': 'EUR_USD',\n",
       "    'financing': '-5.5209',\n",
       "    'openTradeFinancings': [{'tradeID': '5', 'financing': '-5.5209'}]}]},\n",
       " {'id': '42',\n",
       "  'time': '2021-05-14T21:00:00.000000000Z',\n",
       "  'userID': 18793455,\n",
       "  'accountID': '101-001-18793455-001',\n",
       "  'batchID': '42',\n",
       "  'type': 'DAILY_FINANCING',\n",
       "  'financing': '-5.5515',\n",
       "  'accountBalance': '99792.4348',\n",
       "  'positionFinancings': [{'instrument': 'EUR_USD',\n",
       "    'financing': '-5.5515',\n",
       "    'openTradeFinancings': [{'tradeID': '5', 'financing': '-5.5515'}]}]},\n",
       " {'id': '43',\n",
       "  'time': '2021-05-15T21:00:00.000000000Z',\n",
       "  'userID': 18793455,\n",
       "  'accountID': '101-001-18793455-001',\n",
       "  'batchID': '43',\n",
       "  'type': 'DAILY_FINANCING',\n",
       "  'financing': '0.0',\n",
       "  'accountBalance': '99792.4348',\n",
       "  'positionFinancings': [{'instrument': 'EUR_USD',\n",
       "    'financing': '0.0',\n",
       "    'openTradeFinancings': [{'tradeID': '5', 'financing': '0.0'}]}]},\n",
       " {'id': '44',\n",
       "  'time': '2021-05-16T21:00:00.000000000Z',\n",
       "  'userID': 18793455,\n",
       "  'accountID': '101-001-18793455-001',\n",
       "  'batchID': '44',\n",
       "  'type': 'DAILY_FINANCING',\n",
       "  'financing': '0.0',\n",
       "  'accountBalance': '99792.4348',\n",
       "  'positionFinancings': [{'instrument': 'EUR_USD',\n",
       "    'financing': '0.0',\n",
       "    'openTradeFinancings': [{'tradeID': '5', 'financing': '0.0'}]}]},\n",
       " {'id': '45',\n",
       "  'time': '2021-05-17T21:00:00.000000000Z',\n",
       "  'userID': 18793455,\n",
       "  'accountID': '101-001-18793455-001',\n",
       "  'batchID': '45',\n",
       "  'type': 'DAILY_FINANCING',\n",
       "  'financing': '-5.6537',\n",
       "  'accountBalance': '99786.7811',\n",
       "  'positionFinancings': [{'instrument': 'EUR_USD',\n",
       "    'financing': '-5.6537',\n",
       "    'openTradeFinancings': [{'tradeID': '5', 'financing': '-5.6537'}]}]},\n",
       " {'id': '46',\n",
       "  'time': '2021-05-18T21:00:00.000000000Z',\n",
       "  'userID': 18793455,\n",
       "  'accountID': '101-001-18793455-001',\n",
       "  'batchID': '46',\n",
       "  'type': 'DAILY_FINANCING',\n",
       "  'financing': '-5.6875',\n",
       "  'accountBalance': '99781.0936',\n",
       "  'positionFinancings': [{'instrument': 'EUR_USD',\n",
       "    'financing': '-5.6875',\n",
       "    'openTradeFinancings': [{'tradeID': '5', 'financing': '-5.6875'}]}]},\n",
       " {'id': '47',\n",
       "  'time': '2021-05-19T21:00:00.000000000Z',\n",
       "  'userID': 18793455,\n",
       "  'accountID': '101-001-18793455-001',\n",
       "  'batchID': '47',\n",
       "  'type': 'DAILY_FINANCING',\n",
       "  'financing': '-16.662',\n",
       "  'accountBalance': '99764.4316',\n",
       "  'positionFinancings': [{'instrument': 'EUR_USD',\n",
       "    'financing': '-16.662',\n",
       "    'openTradeFinancings': [{'tradeID': '5', 'financing': '-16.662'}]}]},\n",
       " {'id': '48',\n",
       "  'time': '2021-05-20T21:00:00.000000000Z',\n",
       "  'userID': 18793455,\n",
       "  'accountID': '101-001-18793455-001',\n",
       "  'batchID': '48',\n",
       "  'type': 'DAILY_FINANCING',\n",
       "  'financing': '-5.5893',\n",
       "  'accountBalance': '99758.8423',\n",
       "  'positionFinancings': [{'instrument': 'EUR_USD',\n",
       "    'financing': '-5.5893',\n",
       "    'openTradeFinancings': [{'tradeID': '5', 'financing': '-5.5893'}]}]},\n",
       " {'id': '49',\n",
       "  'time': '2021-05-21T21:00:00.000000000Z',\n",
       "  'userID': 18793455,\n",
       "  'accountID': '101-001-18793455-001',\n",
       "  'batchID': '49',\n",
       "  'type': 'DAILY_FINANCING',\n",
       "  'financing': '-5.6685',\n",
       "  'accountBalance': '99753.1738',\n",
       "  'positionFinancings': [{'instrument': 'EUR_USD',\n",
       "    'financing': '-5.6685',\n",
       "    'openTradeFinancings': [{'tradeID': '5', 'financing': '-5.6685'}]}]},\n",
       " {'id': '50',\n",
       "  'time': '2021-05-22T21:00:00.000000000Z',\n",
       "  'userID': 18793455,\n",
       "  'accountID': '101-001-18793455-001',\n",
       "  'batchID': '50',\n",
       "  'type': 'DAILY_FINANCING',\n",
       "  'financing': '0.0',\n",
       "  'accountBalance': '99753.1738',\n",
       "  'positionFinancings': [{'instrument': 'EUR_USD',\n",
       "    'financing': '0.0',\n",
       "    'openTradeFinancings': [{'tradeID': '5', 'financing': '0.0'}]}]},\n",
       " {'id': '51',\n",
       "  'time': '2021-05-23T21:00:00.000000000Z',\n",
       "  'userID': 18793455,\n",
       "  'accountID': '101-001-18793455-001',\n",
       "  'batchID': '51',\n",
       "  'type': 'DAILY_FINANCING',\n",
       "  'financing': '0.0',\n",
       "  'accountBalance': '99753.1738',\n",
       "  'positionFinancings': [{'instrument': 'EUR_USD',\n",
       "    'financing': '0.0',\n",
       "    'openTradeFinancings': [{'tradeID': '5', 'financing': '0.0'}]}]},\n",
       " {'id': '52',\n",
       "  'time': '2021-05-24T04:49:56.732378237Z',\n",
       "  'userID': 18793455,\n",
       "  'accountID': '101-001-18793455-001',\n",
       "  'batchID': '52',\n",
       "  'requestID': '24816854102051939',\n",
       "  'type': 'MARKET_ORDER',\n",
       "  'instrument': 'EUR_USD',\n",
       "  'units': '100.0',\n",
       "  'timeInForce': 'FOK',\n",
       "  'positionFill': 'DEFAULT',\n",
       "  'reason': 'CLIENT_ORDER',\n",
       "  'stopLossOnFill': {'distance': '0.1', 'timeInForce': 'GTC'}},\n",
       " {'id': '53',\n",
       "  'time': '2021-05-24T04:49:56.732378237Z',\n",
       "  'userID': 18793455,\n",
       "  'accountID': '101-001-18793455-001',\n",
       "  'batchID': '52',\n",
       "  'requestID': '24816854102051939',\n",
       "  'type': 'ORDER_FILL',\n",
       "  'orderID': '52',\n",
       "  'instrument': 'EUR_USD',\n",
       "  'units': '100.0',\n",
       "  'gainQuoteHomeConversionFactor': '1.0',\n",
       "  'lossQuoteHomeConversionFactor': '1.0',\n",
       "  'price': 1.21811,\n",
       "  'fullVWAP': 1.21811,\n",
       "  'fullPrice': {'type': 'PRICE',\n",
       "   'bids': [{'price': 1.21797, 'liquidity': '10000000'}],\n",
       "   'asks': [{'price': 1.21811, 'liquidity': '10000000'}],\n",
       "   'closeoutBid': 1.21797,\n",
       "   'closeoutAsk': 1.21811},\n",
       "  'reason': 'MARKET_ORDER',\n",
       "  'pl': '0.0',\n",
       "  'financing': '0.0',\n",
       "  'commission': '0.0',\n",
       "  'guaranteedExecutionFee': '0.0',\n",
       "  'accountBalance': '99753.1738',\n",
       "  'tradeOpened': {'tradeID': '53',\n",
       "   'units': '100.0',\n",
       "   'price': 1.21811,\n",
       "   'guaranteedExecutionFee': '0.0',\n",
       "   'halfSpreadCost': '0.007',\n",
       "   'initialMarginRequired': '2.4361'},\n",
       "  'halfSpreadCost': '0.007'},\n",
       " {'id': '54',\n",
       "  'time': '2021-05-24T04:49:56.732378237Z',\n",
       "  'userID': 18793455,\n",
       "  'accountID': '101-001-18793455-001',\n",
       "  'batchID': '52',\n",
       "  'requestID': '24816854102051939',\n",
       "  'type': 'STOP_LOSS_ORDER',\n",
       "  'tradeID': '53',\n",
       "  'price': 1.11811,\n",
       "  'distance': '0.1',\n",
       "  'timeInForce': 'GTC',\n",
       "  'triggerCondition': 'DEFAULT',\n",
       "  'reason': 'ON_FILL'},\n",
       " {'id': '55',\n",
       "  'time': '2021-05-24T04:50:06.828319389Z',\n",
       "  'userID': 18793455,\n",
       "  'accountID': '101-001-18793455-001',\n",
       "  'batchID': '55',\n",
       "  'requestID': '24816854144008575',\n",
       "  'type': 'MARKET_ORDER',\n",
       "  'instrument': 'EUR_USD',\n",
       "  'units': '-100.0',\n",
       "  'timeInForce': 'FOK',\n",
       "  'positionFill': 'DEFAULT',\n",
       "  'reason': 'CLIENT_ORDER',\n",
       "  'stopLossOnFill': {'distance': '0.1', 'timeInForce': 'GTC'}},\n",
       " {'id': '56',\n",
       "  'time': '2021-05-24T04:50:06.828319389Z',\n",
       "  'userID': 18793455,\n",
       "  'accountID': '101-001-18793455-001',\n",
       "  'batchID': '55',\n",
       "  'requestID': '24816854144008575',\n",
       "  'type': 'ORDER_FILL',\n",
       "  'orderID': '55',\n",
       "  'instrument': 'EUR_USD',\n",
       "  'units': '-100.0',\n",
       "  'gainQuoteHomeConversionFactor': '1.0',\n",
       "  'lossQuoteHomeConversionFactor': '1.0',\n",
       "  'price': 1.21798,\n",
       "  'fullVWAP': 1.21798,\n",
       "  'fullPrice': {'type': 'PRICE',\n",
       "   'bids': [{'price': 1.21798, 'liquidity': '10000000'}],\n",
       "   'asks': [{'price': 1.2181, 'liquidity': '10000000'}],\n",
       "   'closeoutBid': 1.21798,\n",
       "   'closeoutAsk': 1.2181},\n",
       "  'reason': 'MARKET_ORDER',\n",
       "  'pl': '3.062',\n",
       "  'financing': '0.0',\n",
       "  'commission': '0.0',\n",
       "  'guaranteedExecutionFee': '0.0',\n",
       "  'accountBalance': '99756.2358',\n",
       "  'tradeReduced': {'tradeID': '5',\n",
       "   'units': '-100.0',\n",
       "   'price': 1.21798,\n",
       "   'realizedPL': '3.062',\n",
       "   'financing': '0.0',\n",
       "   'guaranteedExecutionFee': '0.0',\n",
       "   'halfSpreadCost': '0.006'},\n",
       "  'halfSpreadCost': '0.006'},\n",
       " {'id': '57',\n",
       "  'time': '2021-05-24T21:00:00.000000000Z',\n",
       "  'userID': 18793455,\n",
       "  'accountID': '101-001-18793455-001',\n",
       "  'batchID': '57',\n",
       "  'type': 'DAILY_FINANCING',\n",
       "  'financing': '-5.6848',\n",
       "  'accountBalance': '99750.551',\n",
       "  'positionFinancings': [{'instrument': 'EUR_USD',\n",
       "    'financing': '-5.6848',\n",
       "    'openTradeFinancings': [{'tradeID': '5', 'financing': '-5.6791'},\n",
       "     {'tradeID': '53', 'financing': '-0.0057'}]}]},\n",
       " {'id': '58',\n",
       "  'time': '2021-05-25T21:00:00.000000000Z',\n",
       "  'userID': 18793455,\n",
       "  'accountID': '101-001-18793455-001',\n",
       "  'batchID': '58',\n",
       "  'type': 'DAILY_FINANCING',\n",
       "  'financing': '-5.7013',\n",
       "  'accountBalance': '99744.8497',\n",
       "  'positionFinancings': [{'instrument': 'EUR_USD',\n",
       "    'financing': '-5.7013',\n",
       "    'openTradeFinancings': [{'tradeID': '5', 'financing': '-5.6956'},\n",
       "     {'tradeID': '53', 'financing': '-0.0057'}]}]},\n",
       " {'id': '59',\n",
       "  'time': '2021-05-26T21:00:00.000000000Z',\n",
       "  'userID': 18793455,\n",
       "  'accountID': '101-001-18793455-001',\n",
       "  'batchID': '59',\n",
       "  'type': 'DAILY_FINANCING',\n",
       "  'financing': '-23.0305',\n",
       "  'accountBalance': '99721.8192',\n",
       "  'positionFinancings': [{'instrument': 'EUR_USD',\n",
       "    'financing': '-23.0305',\n",
       "    'openTradeFinancings': [{'tradeID': '5', 'financing': '-23.0075'},\n",
       "     {'tradeID': '53', 'financing': '-0.023'}]}]},\n",
       " {'id': '60',\n",
       "  'time': '2021-05-27T21:00:00.000000000Z',\n",
       "  'userID': 18793455,\n",
       "  'accountID': '101-001-18793455-001',\n",
       "  'batchID': '60',\n",
       "  'type': 'DAILY_FINANCING',\n",
       "  'financing': '0.0',\n",
       "  'accountBalance': '99721.8192',\n",
       "  'positionFinancings': [{'instrument': 'EUR_USD',\n",
       "    'financing': '0.0',\n",
       "    'openTradeFinancings': [{'tradeID': '5', 'financing': '0.0'},\n",
       "     {'tradeID': '53', 'financing': '0.0'}]}]},\n",
       " {'id': '61',\n",
       "  'time': '2021-05-28T21:00:00.000000000Z',\n",
       "  'userID': 18793455,\n",
       "  'accountID': '101-001-18793455-001',\n",
       "  'batchID': '61',\n",
       "  'type': 'DAILY_FINANCING',\n",
       "  'financing': '-5.5727',\n",
       "  'accountBalance': '99716.2465',\n",
       "  'positionFinancings': [{'instrument': 'EUR_USD',\n",
       "    'financing': '-5.5727',\n",
       "    'openTradeFinancings': [{'tradeID': '5', 'financing': '-5.5671'},\n",
       "     {'tradeID': '53', 'financing': '-0.0056'}]}]},\n",
       " {'id': '62',\n",
       "  'time': '2021-05-29T21:00:00.000000000Z',\n",
       "  'userID': 18793455,\n",
       "  'accountID': '101-001-18793455-001',\n",
       "  'batchID': '62',\n",
       "  'type': 'DAILY_FINANCING',\n",
       "  'financing': '0.0',\n",
       "  'accountBalance': '99716.2465',\n",
       "  'positionFinancings': [{'instrument': 'EUR_USD',\n",
       "    'financing': '0.0',\n",
       "    'openTradeFinancings': [{'tradeID': '5', 'financing': '0.0'},\n",
       "     {'tradeID': '53', 'financing': '0.0'}]}]},\n",
       " {'id': '63',\n",
       "  'time': '2021-05-30T21:00:00.000000000Z',\n",
       "  'userID': 18793455,\n",
       "  'accountID': '101-001-18793455-001',\n",
       "  'batchID': '63',\n",
       "  'type': 'DAILY_FINANCING',\n",
       "  'financing': '0.0',\n",
       "  'accountBalance': '99716.2465',\n",
       "  'positionFinancings': [{'instrument': 'EUR_USD',\n",
       "    'financing': '0.0',\n",
       "    'openTradeFinancings': [{'tradeID': '5', 'financing': '0.0'},\n",
       "     {'tradeID': '53', 'financing': '0.0'}]}]},\n",
       " {'id': '64',\n",
       "  'time': '2021-05-31T21:00:00.000000000Z',\n",
       "  'userID': 18793455,\n",
       "  'accountID': '101-001-18793455-001',\n",
       "  'batchID': '64',\n",
       "  'type': 'DAILY_FINANCING',\n",
       "  'financing': '-5.689',\n",
       "  'accountBalance': '99710.5575',\n",
       "  'positionFinancings': [{'instrument': 'EUR_USD',\n",
       "    'financing': '-5.689',\n",
       "    'openTradeFinancings': [{'tradeID': '5', 'financing': '-5.6833'},\n",
       "     {'tradeID': '53', 'financing': '-0.0057'}]}]},\n",
       " {'id': '65',\n",
       "  'time': '2021-06-01T21:00:00.000000000Z',\n",
       "  'userID': 18793455,\n",
       "  'accountID': '101-001-18793455-001',\n",
       "  'batchID': '65',\n",
       "  'type': 'DAILY_FINANCING',\n",
       "  'financing': '-5.6834',\n",
       "  'accountBalance': '99704.8741',\n",
       "  'positionFinancings': [{'instrument': 'EUR_USD',\n",
       "    'financing': '-5.6834',\n",
       "    'openTradeFinancings': [{'tradeID': '5', 'financing': '-5.6777'},\n",
       "     {'tradeID': '53', 'financing': '-0.0057'}]}]},\n",
       " {'id': '66',\n",
       "  'time': '2021-06-02T21:00:00.000000000Z',\n",
       "  'userID': 18793455,\n",
       "  'accountID': '101-001-18793455-001',\n",
       "  'batchID': '66',\n",
       "  'type': 'DAILY_FINANCING',\n",
       "  'financing': '-17.0119',\n",
       "  'accountBalance': '99687.8622',\n",
       "  'positionFinancings': [{'instrument': 'EUR_USD',\n",
       "    'financing': '-17.0119',\n",
       "    'openTradeFinancings': [{'tradeID': '5', 'financing': '-16.9949'},\n",
       "     {'tradeID': '53', 'financing': '-0.017'}]}]},\n",
       " {'id': '67',\n",
       "  'time': '2021-06-03T21:00:00.000000000Z',\n",
       "  'userID': 18793455,\n",
       "  'accountID': '101-001-18793455-001',\n",
       "  'batchID': '67',\n",
       "  'type': 'DAILY_FINANCING',\n",
       "  'financing': '-5.643',\n",
       "  'accountBalance': '99682.2192',\n",
       "  'positionFinancings': [{'instrument': 'EUR_USD',\n",
       "    'financing': '-5.643',\n",
       "    'openTradeFinancings': [{'tradeID': '5', 'financing': '-5.6374'},\n",
       "     {'tradeID': '53', 'financing': '-0.0056'}]}]},\n",
       " {'id': '68',\n",
       "  'time': '2021-06-04T21:00:00.000000000Z',\n",
       "  'userID': 18793455,\n",
       "  'accountID': '101-001-18793455-001',\n",
       "  'batchID': '68',\n",
       "  'type': 'DAILY_FINANCING',\n",
       "  'financing': '-5.5611',\n",
       "  'accountBalance': '99676.6581',\n",
       "  'positionFinancings': [{'instrument': 'EUR_USD',\n",
       "    'financing': '-5.5611',\n",
       "    'openTradeFinancings': [{'tradeID': '5', 'financing': '-5.5555'},\n",
       "     {'tradeID': '53', 'financing': '-0.0056'}]}]},\n",
       " {'id': '69',\n",
       "  'time': '2021-06-05T21:00:00.000000000Z',\n",
       "  'userID': 18793455,\n",
       "  'accountID': '101-001-18793455-001',\n",
       "  'batchID': '69',\n",
       "  'type': 'DAILY_FINANCING',\n",
       "  'financing': '0.0',\n",
       "  'accountBalance': '99676.6581',\n",
       "  'positionFinancings': [{'instrument': 'EUR_USD',\n",
       "    'financing': '0.0',\n",
       "    'openTradeFinancings': [{'tradeID': '5', 'financing': '0.0'},\n",
       "     {'tradeID': '53', 'financing': '0.0'}]}]},\n",
       " {'id': '70',\n",
       "  'time': '2021-06-06T21:00:00.000000000Z',\n",
       "  'userID': 18793455,\n",
       "  'accountID': '101-001-18793455-001',\n",
       "  'batchID': '70',\n",
       "  'type': 'DAILY_FINANCING',\n",
       "  'financing': '0.0',\n",
       "  'accountBalance': '99676.6581',\n",
       "  'positionFinancings': [{'instrument': 'EUR_USD',\n",
       "    'financing': '0.0',\n",
       "    'openTradeFinancings': [{'tradeID': '5', 'financing': '0.0'},\n",
       "     {'tradeID': '53', 'financing': '0.0'}]}]},\n",
       " {'id': '71',\n",
       "  'time': '2021-06-07T21:00:00.000000000Z',\n",
       "  'userID': 18793455,\n",
       "  'accountID': '101-001-18793455-001',\n",
       "  'batchID': '71',\n",
       "  'type': 'DAILY_FINANCING',\n",
       "  'financing': '-5.5714',\n",
       "  'accountBalance': '99671.0867',\n",
       "  'positionFinancings': [{'instrument': 'EUR_USD',\n",
       "    'financing': '-5.5714',\n",
       "    'openTradeFinancings': [{'tradeID': '5', 'financing': '-5.5658'},\n",
       "     {'tradeID': '53', 'financing': '-0.0056'}]}]},\n",
       " {'id': '72',\n",
       "  'time': '2021-06-08T21:00:00.000000000Z',\n",
       "  'userID': 18793455,\n",
       "  'accountID': '101-001-18793455-001',\n",
       "  'batchID': '72',\n",
       "  'type': 'DAILY_FINANCING',\n",
       "  'financing': '-5.5639',\n",
       "  'accountBalance': '99665.5228',\n",
       "  'positionFinancings': [{'instrument': 'EUR_USD',\n",
       "    'financing': '-5.5639',\n",
       "    'openTradeFinancings': [{'tradeID': '5', 'financing': '-5.5583'},\n",
       "     {'tradeID': '53', 'financing': '-0.0056'}]}]},\n",
       " {'id': '73',\n",
       "  'time': '2021-06-09T21:00:00.000000000Z',\n",
       "  'userID': 18793455,\n",
       "  'accountID': '101-001-18793455-001',\n",
       "  'batchID': '73',\n",
       "  'type': 'DAILY_FINANCING',\n",
       "  'financing': '-5.5669',\n",
       "  'accountBalance': '99659.9559',\n",
       "  'positionFinancings': [{'instrument': 'EUR_USD',\n",
       "    'financing': '-5.5669',\n",
       "    'openTradeFinancings': [{'tradeID': '5', 'financing': '-5.5613'},\n",
       "     {'tradeID': '53', 'financing': '-0.0056'}]}]},\n",
       " {'id': '74',\n",
       "  'time': '2021-06-10T21:00:00.000000000Z',\n",
       "  'userID': 18793455,\n",
       "  'accountID': '101-001-18793455-001',\n",
       "  'batchID': '74',\n",
       "  'type': 'DAILY_FINANCING',\n",
       "  'financing': '-5.5653',\n",
       "  'accountBalance': '99654.3906',\n",
       "  'positionFinancings': [{'instrument': 'EUR_USD',\n",
       "    'financing': '-5.5653',\n",
       "    'openTradeFinancings': [{'tradeID': '5', 'financing': '-5.5597'},\n",
       "     {'tradeID': '53', 'financing': '-0.0056'}]}]},\n",
       " {'id': '75',\n",
       "  'time': '2021-06-11T21:00:00.000000000Z',\n",
       "  'userID': 18793455,\n",
       "  'accountID': '101-001-18793455-001',\n",
       "  'batchID': '75',\n",
       "  'type': 'DAILY_FINANCING',\n",
       "  'financing': '-5.5346',\n",
       "  'accountBalance': '99648.856',\n",
       "  'positionFinancings': [{'instrument': 'EUR_USD',\n",
       "    'financing': '-5.5346',\n",
       "    'openTradeFinancings': [{'tradeID': '5', 'financing': '-5.5291'},\n",
       "     {'tradeID': '53', 'financing': '-0.0055'}]}]},\n",
       " {'id': '76',\n",
       "  'time': '2021-06-12T21:00:00.000000000Z',\n",
       "  'userID': 18793455,\n",
       "  'accountID': '101-001-18793455-001',\n",
       "  'batchID': '76',\n",
       "  'type': 'DAILY_FINANCING',\n",
       "  'financing': '0.0',\n",
       "  'accountBalance': '99648.856',\n",
       "  'positionFinancings': [{'instrument': 'EUR_USD',\n",
       "    'financing': '0.0',\n",
       "    'openTradeFinancings': [{'tradeID': '5', 'financing': '0.0'},\n",
       "     {'tradeID': '53', 'financing': '0.0'}]}]},\n",
       " {'id': '77',\n",
       "  'time': '2021-06-13T21:00:00.000000000Z',\n",
       "  'userID': 18793455,\n",
       "  'accountID': '101-001-18793455-001',\n",
       "  'batchID': '77',\n",
       "  'type': 'DAILY_FINANCING',\n",
       "  'financing': '0.0',\n",
       "  'accountBalance': '99648.856',\n",
       "  'positionFinancings': [{'instrument': 'EUR_USD',\n",
       "    'financing': '0.0',\n",
       "    'openTradeFinancings': [{'tradeID': '5', 'financing': '0.0'},\n",
       "     {'tradeID': '53', 'financing': '0.0'}]}]},\n",
       " {'id': '78',\n",
       "  'time': '2021-06-14T21:00:00.000000000Z',\n",
       "  'userID': 18793455,\n",
       "  'accountID': '101-001-18793455-001',\n",
       "  'batchID': '78',\n",
       "  'type': 'DAILY_FINANCING',\n",
       "  'financing': '-5.5397',\n",
       "  'accountBalance': '99643.3163',\n",
       "  'positionFinancings': [{'instrument': 'EUR_USD',\n",
       "    'financing': '-5.5397',\n",
       "    'openTradeFinancings': [{'tradeID': '5', 'financing': '-5.5342'},\n",
       "     {'tradeID': '53', 'financing': '-0.0055'}]}]},\n",
       " {'id': '79',\n",
       "  'time': '2021-06-15T21:00:00.000000000Z',\n",
       "  'userID': 18793455,\n",
       "  'accountID': '101-001-18793455-001',\n",
       "  'batchID': '79',\n",
       "  'type': 'DAILY_FINANCING',\n",
       "  'financing': '-5.5424',\n",
       "  'accountBalance': '99637.7739',\n",
       "  'positionFinancings': [{'instrument': 'EUR_USD',\n",
       "    'financing': '-5.5424',\n",
       "    'openTradeFinancings': [{'tradeID': '5', 'financing': '-5.5369'},\n",
       "     {'tradeID': '53', 'financing': '-0.0055'}]}]},\n",
       " {'id': '80',\n",
       "  'time': '2021-06-16T21:00:00.000000000Z',\n",
       "  'userID': 18793455,\n",
       "  'accountID': '101-001-18793455-001',\n",
       "  'batchID': '80',\n",
       "  'type': 'DAILY_FINANCING',\n",
       "  'financing': '-5.4826',\n",
       "  'accountBalance': '99632.2913',\n",
       "  'positionFinancings': [{'instrument': 'EUR_USD',\n",
       "    'financing': '-5.4826',\n",
       "    'openTradeFinancings': [{'tradeID': '5', 'financing': '-5.4771'},\n",
       "     {'tradeID': '53', 'financing': '-0.0055'}]}]},\n",
       " {'id': '81',\n",
       "  'time': '2021-06-17T21:00:00.000000000Z',\n",
       "  'userID': 18793455,\n",
       "  'accountID': '101-001-18793455-001',\n",
       "  'batchID': '81',\n",
       "  'type': 'DAILY_FINANCING',\n",
       "  'financing': '-5.5735',\n",
       "  'accountBalance': '99626.7178',\n",
       "  'positionFinancings': [{'instrument': 'EUR_USD',\n",
       "    'financing': '-5.5735',\n",
       "    'openTradeFinancings': [{'tradeID': '5', 'financing': '-5.5679'},\n",
       "     {'tradeID': '53', 'financing': '-0.0056'}]}]},\n",
       " {'id': '82',\n",
       "  'time': '2021-06-18T21:00:00.000000000Z',\n",
       "  'userID': 18793455,\n",
       "  'accountID': '101-001-18793455-001',\n",
       "  'batchID': '82',\n",
       "  'type': 'DAILY_FINANCING',\n",
       "  'financing': '-5.5535',\n",
       "  'accountBalance': '99621.1643',\n",
       "  'positionFinancings': [{'instrument': 'EUR_USD',\n",
       "    'financing': '-5.5535',\n",
       "    'openTradeFinancings': [{'tradeID': '5', 'financing': '-5.5479'},\n",
       "     {'tradeID': '53', 'financing': '-0.0056'}]}]},\n",
       " {'id': '83',\n",
       "  'time': '2021-06-19T21:00:00.000000000Z',\n",
       "  'userID': 18793455,\n",
       "  'accountID': '101-001-18793455-001',\n",
       "  'batchID': '83',\n",
       "  'type': 'DAILY_FINANCING',\n",
       "  'financing': '0.0',\n",
       "  'accountBalance': '99621.1643',\n",
       "  'positionFinancings': [{'instrument': 'EUR_USD',\n",
       "    'financing': '0.0',\n",
       "    'openTradeFinancings': [{'tradeID': '5', 'financing': '0.0'},\n",
       "     {'tradeID': '53', 'financing': '0.0'}]}]},\n",
       " {'id': '84',\n",
       "  'time': '2021-06-20T21:00:00.000000000Z',\n",
       "  'userID': 18793455,\n",
       "  'accountID': '101-001-18793455-001',\n",
       "  'batchID': '84',\n",
       "  'type': 'DAILY_FINANCING',\n",
       "  'financing': '0.0',\n",
       "  'accountBalance': '99621.1643',\n",
       "  'positionFinancings': [{'instrument': 'EUR_USD',\n",
       "    'financing': '0.0',\n",
       "    'openTradeFinancings': [{'tradeID': '5', 'financing': '0.0'},\n",
       "     {'tradeID': '53', 'financing': '0.0'}]}]},\n",
       " {'id': '85',\n",
       "  'time': '2021-06-21T21:00:00.000000000Z',\n",
       "  'userID': 18793455,\n",
       "  'accountID': '101-001-18793455-001',\n",
       "  'batchID': '85',\n",
       "  'type': 'DAILY_FINANCING',\n",
       "  'financing': '-5.7098',\n",
       "  'accountBalance': '99615.4545',\n",
       "  'positionFinancings': [{'instrument': 'EUR_USD',\n",
       "    'financing': '-5.7098',\n",
       "    'openTradeFinancings': [{'tradeID': '5', 'financing': '-5.7041'},\n",
       "     {'tradeID': '53', 'financing': '-0.0057'}]}]},\n",
       " {'id': '86',\n",
       "  'time': '2021-06-22T21:00:00.000000000Z',\n",
       "  'userID': 18793455,\n",
       "  'accountID': '101-001-18793455-001',\n",
       "  'batchID': '86',\n",
       "  'type': 'DAILY_FINANCING',\n",
       "  'financing': '-5.6223',\n",
       "  'accountBalance': '99609.8322',\n",
       "  'positionFinancings': [{'instrument': 'EUR_USD',\n",
       "    'financing': '-5.6223',\n",
       "    'openTradeFinancings': [{'tradeID': '5', 'financing': '-5.6167'},\n",
       "     {'tradeID': '53', 'financing': '-0.0056'}]}]},\n",
       " {'id': '87',\n",
       "  'time': '2021-06-23T21:00:00.000000000Z',\n",
       "  'userID': 18793455,\n",
       "  'accountID': '101-001-18793455-001',\n",
       "  'batchID': '87',\n",
       "  'type': 'DAILY_FINANCING',\n",
       "  'financing': '-5.4841',\n",
       "  'accountBalance': '99604.3481',\n",
       "  'positionFinancings': [{'instrument': 'EUR_USD',\n",
       "    'financing': '-5.4841',\n",
       "    'openTradeFinancings': [{'tradeID': '5', 'financing': '-5.4786'},\n",
       "     {'tradeID': '53', 'financing': '-0.0055'}]}]},\n",
       " {'id': '88',\n",
       "  'time': '2021-06-24T15:02:43.045271985Z',\n",
       "  'userID': 18793455,\n",
       "  'accountID': '101-001-18793455-001',\n",
       "  'batchID': '88',\n",
       "  'requestID': '24828242337049247',\n",
       "  'type': 'MARKET_ORDER',\n",
       "  'instrument': 'EUR_USD',\n",
       "  'units': '100.0',\n",
       "  'timeInForce': 'FOK',\n",
       "  'positionFill': 'DEFAULT',\n",
       "  'reason': 'CLIENT_ORDER',\n",
       "  'stopLossOnFill': {'distance': '0.1', 'timeInForce': 'GTC'}},\n",
       " {'id': '89',\n",
       "  'time': '2021-06-24T15:02:43.045271985Z',\n",
       "  'userID': 18793455,\n",
       "  'accountID': '101-001-18793455-001',\n",
       "  'batchID': '88',\n",
       "  'requestID': '24828242337049247',\n",
       "  'type': 'ORDER_CANCEL',\n",
       "  'orderID': '88',\n",
       "  'reason': 'FIFO_VIOLATION_SAFEGUARD_VIOLATION'},\n",
       " {'id': '90',\n",
       "  'time': '2021-06-24T15:04:15.933096424Z',\n",
       "  'userID': 18793455,\n",
       "  'accountID': '101-001-18793455-001',\n",
       "  'batchID': '90',\n",
       "  'requestID': '24828242723133202',\n",
       "  'type': 'MARKET_ORDER',\n",
       "  'instrument': 'EUR_USD',\n",
       "  'units': '-100000.0',\n",
       "  'timeInForce': 'FOK',\n",
       "  'positionFill': 'DEFAULT',\n",
       "  'reason': 'CLIENT_ORDER',\n",
       "  'stopLossOnFill': {'distance': '0.1', 'timeInForce': 'GTC'}},\n",
       " {'id': '91',\n",
       "  'time': '2021-06-24T15:04:15.933096424Z',\n",
       "  'userID': 18793455,\n",
       "  'accountID': '101-001-18793455-001',\n",
       "  'batchID': '90',\n",
       "  'requestID': '24828242723133202',\n",
       "  'type': 'ORDER_FILL',\n",
       "  'orderID': '90',\n",
       "  'instrument': 'EUR_USD',\n",
       "  'units': '-100000.0',\n",
       "  'gainQuoteHomeConversionFactor': '1.0',\n",
       "  'lossQuoteHomeConversionFactor': '1.0',\n",
       "  'price': 1.19277,\n",
       "  'fullVWAP': 1.19277,\n",
       "  'fullPrice': {'type': 'PRICE',\n",
       "   'bids': [{'price': 1.19277, 'liquidity': '10000000'}],\n",
       "   'asks': [{'price': 1.1929, 'liquidity': '10000000'}],\n",
       "   'closeoutBid': 1.19277,\n",
       "   'closeoutAsk': 1.1929},\n",
       "  'reason': 'MARKET_ORDER',\n",
       "  'pl': '537.925',\n",
       "  'financing': '0.0',\n",
       "  'commission': '0.0',\n",
       "  'guaranteedExecutionFee': '0.0',\n",
       "  'accountBalance': '100142.2731',\n",
       "  'tradesClosed': [{'tradeID': '5',\n",
       "    'units': '-99900.0',\n",
       "    'price': 1.19277,\n",
       "    'realizedPL': '540.459',\n",
       "    'financing': '0.0',\n",
       "    'guaranteedExecutionFee': '0.0',\n",
       "    'halfSpreadCost': '6.4935'},\n",
       "   {'tradeID': '53',\n",
       "    'units': '-100.0',\n",
       "    'price': 1.19277,\n",
       "    'realizedPL': '-2.534',\n",
       "    'financing': '0.0',\n",
       "    'guaranteedExecutionFee': '0.0',\n",
       "    'halfSpreadCost': '0.0065'}],\n",
       "  'halfSpreadCost': '6.5'},\n",
       " {'id': '92',\n",
       "  'time': '2021-06-24T15:04:15.933096424Z',\n",
       "  'userID': 18793455,\n",
       "  'accountID': '101-001-18793455-001',\n",
       "  'batchID': '90',\n",
       "  'requestID': '24828242723133202',\n",
       "  'type': 'ORDER_CANCEL',\n",
       "  'orderID': '54',\n",
       "  'reason': 'LINKED_TRADE_CLOSED'},\n",
       " {'id': '93',\n",
       "  'time': '2021-06-24T15:04:41.061542308Z',\n",
       "  'userID': 18793455,\n",
       "  'accountID': '101-001-18793455-001',\n",
       "  'batchID': '93',\n",
       "  'requestID': '24828242832240024',\n",
       "  'type': 'MARKET_ORDER',\n",
       "  'instrument': 'EUR_USD',\n",
       "  'units': '-100.0',\n",
       "  'timeInForce': 'FOK',\n",
       "  'positionFill': 'DEFAULT',\n",
       "  'reason': 'CLIENT_ORDER',\n",
       "  'stopLossOnFill': {'distance': '0.1', 'timeInForce': 'GTC'}},\n",
       " {'id': '94',\n",
       "  'time': '2021-06-24T15:04:41.061542308Z',\n",
       "  'userID': 18793455,\n",
       "  'accountID': '101-001-18793455-001',\n",
       "  'batchID': '93',\n",
       "  'requestID': '24828242832240024',\n",
       "  'type': 'ORDER_FILL',\n",
       "  'orderID': '93',\n",
       "  'instrument': 'EUR_USD',\n",
       "  'units': '-100.0',\n",
       "  'gainQuoteHomeConversionFactor': '1.0',\n",
       "  'lossQuoteHomeConversionFactor': '1.0',\n",
       "  'price': 1.19276,\n",
       "  'fullVWAP': 1.19276,\n",
       "  'fullPrice': {'type': 'PRICE',\n",
       "   'bids': [{'price': 1.19276, 'liquidity': '10000000'}],\n",
       "   'asks': [{'price': 1.1929, 'liquidity': '10000000'}],\n",
       "   'closeoutBid': 1.19276,\n",
       "   'closeoutAsk': 1.1929},\n",
       "  'reason': 'MARKET_ORDER',\n",
       "  'pl': '0.0',\n",
       "  'financing': '0.0',\n",
       "  'commission': '0.0',\n",
       "  'guaranteedExecutionFee': '0.0',\n",
       "  'accountBalance': '100142.2731',\n",
       "  'tradeOpened': {'tradeID': '94',\n",
       "   'units': '-100.0',\n",
       "   'price': 1.19276,\n",
       "   'guaranteedExecutionFee': '0.0',\n",
       "   'halfSpreadCost': '0.007',\n",
       "   'initialMarginRequired': '2.3857'},\n",
       "  'halfSpreadCost': '0.007'},\n",
       " {'id': '95',\n",
       "  'time': '2021-06-24T15:04:41.061542308Z',\n",
       "  'userID': 18793455,\n",
       "  'accountID': '101-001-18793455-001',\n",
       "  'batchID': '93',\n",
       "  'requestID': '24828242832240024',\n",
       "  'type': 'STOP_LOSS_ORDER',\n",
       "  'tradeID': '94',\n",
       "  'price': 1.29276,\n",
       "  'distance': '0.1',\n",
       "  'timeInForce': 'GTC',\n",
       "  'triggerCondition': 'DEFAULT',\n",
       "  'reason': 'ON_FILL'},\n",
       " {'id': '96',\n",
       "  'time': '2021-06-24T15:04:45.581327775Z',\n",
       "  'userID': 18793455,\n",
       "  'accountID': '101-001-18793455-001',\n",
       "  'batchID': '96',\n",
       "  'requestID': '24828242849027056',\n",
       "  'type': 'MARKET_ORDER',\n",
       "  'instrument': 'EUR_USD',\n",
       "  'units': '100.0',\n",
       "  'timeInForce': 'FOK',\n",
       "  'positionFill': 'DEFAULT',\n",
       "  'reason': 'CLIENT_ORDER',\n",
       "  'stopLossOnFill': {'distance': '0.1', 'timeInForce': 'GTC'}},\n",
       " {'id': '97',\n",
       "  'time': '2021-06-24T15:04:45.581327775Z',\n",
       "  'userID': 18793455,\n",
       "  'accountID': '101-001-18793455-001',\n",
       "  'batchID': '96',\n",
       "  'requestID': '24828242849027056',\n",
       "  'type': 'ORDER_FILL',\n",
       "  'orderID': '96',\n",
       "  'instrument': 'EUR_USD',\n",
       "  'units': '100.0',\n",
       "  'gainQuoteHomeConversionFactor': '1.0',\n",
       "  'lossQuoteHomeConversionFactor': '1.0',\n",
       "  'price': 1.1929,\n",
       "  'fullVWAP': 1.1929,\n",
       "  'fullPrice': {'type': 'PRICE',\n",
       "   'bids': [{'price': 1.19276, 'liquidity': '9999900'}],\n",
       "   'asks': [{'price': 1.1929, 'liquidity': '10000000'}],\n",
       "   'closeoutBid': 1.19276,\n",
       "   'closeoutAsk': 1.1929},\n",
       "  'reason': 'MARKET_ORDER',\n",
       "  'pl': '-0.014',\n",
       "  'financing': '0.0',\n",
       "  'commission': '0.0',\n",
       "  'guaranteedExecutionFee': '0.0',\n",
       "  'accountBalance': '100142.2591',\n",
       "  'tradesClosed': [{'tradeID': '94',\n",
       "    'units': '100.0',\n",
       "    'price': 1.1929,\n",
       "    'realizedPL': '-0.014',\n",
       "    'financing': '0.0',\n",
       "    'guaranteedExecutionFee': '0.0',\n",
       "    'halfSpreadCost': '0.007'}],\n",
       "  'halfSpreadCost': '0.007'},\n",
       " {'id': '98',\n",
       "  'time': '2021-06-24T15:04:45.581327775Z',\n",
       "  'userID': 18793455,\n",
       "  'accountID': '101-001-18793455-001',\n",
       "  'batchID': '96',\n",
       "  'requestID': '24828242849027056',\n",
       "  'type': 'ORDER_CANCEL',\n",
       "  'orderID': '95',\n",
       "  'reason': 'LINKED_TRADE_CLOSED'},\n",
       " {'id': '99',\n",
       "  'time': '2021-06-24T15:04:48.041307753Z',\n",
       "  'userID': 18793455,\n",
       "  'accountID': '101-001-18793455-001',\n",
       "  'batchID': '99',\n",
       "  'requestID': '24828242861615311',\n",
       "  'type': 'MARKET_ORDER',\n",
       "  'instrument': 'EUR_USD',\n",
       "  'units': '-100000.0',\n",
       "  'timeInForce': 'FOK',\n",
       "  'positionFill': 'DEFAULT',\n",
       "  'reason': 'CLIENT_ORDER',\n",
       "  'stopLossOnFill': {'distance': '0.1', 'timeInForce': 'GTC'}},\n",
       " {'id': '100',\n",
       "  'time': '2021-06-24T15:04:48.041307753Z',\n",
       "  'userID': 18793455,\n",
       "  'accountID': '101-001-18793455-001',\n",
       "  'batchID': '99',\n",
       "  'requestID': '24828242861615311',\n",
       "  'type': 'ORDER_FILL',\n",
       "  'orderID': '99',\n",
       "  'instrument': 'EUR_USD',\n",
       "  'units': '-100000.0',\n",
       "  'gainQuoteHomeConversionFactor': '1.0',\n",
       "  'lossQuoteHomeConversionFactor': '1.0',\n",
       "  'price': 1.19276,\n",
       "  'fullVWAP': 1.19276,\n",
       "  'fullPrice': {'type': 'PRICE',\n",
       "   'bids': [{'price': 1.19276, 'liquidity': '9999900'}],\n",
       "   'asks': [{'price': 1.1929, 'liquidity': '9999900'}],\n",
       "   'closeoutBid': 1.19276,\n",
       "   'closeoutAsk': 1.1929},\n",
       "  'reason': 'MARKET_ORDER',\n",
       "  'pl': '0.0',\n",
       "  'financing': '0.0',\n",
       "  'commission': '0.0',\n",
       "  'guaranteedExecutionFee': '0.0',\n",
       "  'accountBalance': '100142.2591',\n",
       "  'tradeOpened': {'tradeID': '100',\n",
       "   'units': '-100000.0',\n",
       "   'price': 1.19276,\n",
       "   'guaranteedExecutionFee': '0.0',\n",
       "   'halfSpreadCost': '7.0',\n",
       "   'initialMarginRequired': '2385.66'},\n",
       "  'halfSpreadCost': '7.0'},\n",
       " {'id': '101',\n",
       "  'time': '2021-06-24T15:04:48.041307753Z',\n",
       "  'userID': 18793455,\n",
       "  'accountID': '101-001-18793455-001',\n",
       "  'batchID': '99',\n",
       "  'requestID': '24828242861615311',\n",
       "  'type': 'STOP_LOSS_ORDER',\n",
       "  'tradeID': '100',\n",
       "  'price': 1.29276,\n",
       "  'distance': '0.1',\n",
       "  'timeInForce': 'GTC',\n",
       "  'triggerCondition': 'DEFAULT',\n",
       "  'reason': 'ON_FILL'},\n",
       " {'id': '102',\n",
       "  'time': '2021-06-24T21:00:00.000000000Z',\n",
       "  'userID': 18793455,\n",
       "  'accountID': '101-001-18793455-001',\n",
       "  'batchID': '102',\n",
       "  'type': 'DAILY_FINANCING',\n",
       "  'financing': '-1.0841',\n",
       "  'accountBalance': '100141.175',\n",
       "  'positionFinancings': [{'instrument': 'EUR_USD',\n",
       "    'financing': '-1.0841',\n",
       "    'openTradeFinancings': [{'tradeID': '100', 'financing': '-1.0841'}]}]},\n",
       " {'id': '103',\n",
       "  'time': '2021-06-25T21:00:00.000000000Z',\n",
       "  'userID': 18793455,\n",
       "  'accountID': '101-001-18793455-001',\n",
       "  'batchID': '103',\n",
       "  'type': 'DAILY_FINANCING',\n",
       "  'financing': '-1.0846',\n",
       "  'accountBalance': '100140.0904',\n",
       "  'positionFinancings': [{'instrument': 'EUR_USD',\n",
       "    'financing': '-1.0846',\n",
       "    'openTradeFinancings': [{'tradeID': '100', 'financing': '-1.0846'}]}]},\n",
       " {'id': '104',\n",
       "  'time': '2021-06-26T21:00:00.000000000Z',\n",
       "  'userID': 18793455,\n",
       "  'accountID': '101-001-18793455-001',\n",
       "  'batchID': '104',\n",
       "  'type': 'DAILY_FINANCING',\n",
       "  'financing': '0.0',\n",
       "  'accountBalance': '100140.0904',\n",
       "  'positionFinancings': [{'instrument': 'EUR_USD',\n",
       "    'financing': '0.0',\n",
       "    'openTradeFinancings': [{'tradeID': '100', 'financing': '0.0'}]}]},\n",
       " {'id': '105',\n",
       "  'time': '2021-06-27T21:00:00.000000000Z',\n",
       "  'userID': 18793455,\n",
       "  'accountID': '101-001-18793455-001',\n",
       "  'batchID': '105',\n",
       "  'type': 'DAILY_FINANCING',\n",
       "  'financing': '0.0',\n",
       "  'accountBalance': '100140.0904',\n",
       "  'positionFinancings': [{'instrument': 'EUR_USD',\n",
       "    'financing': '0.0',\n",
       "    'openTradeFinancings': [{'tradeID': '100', 'financing': '0.0'}]}]},\n",
       " {'id': '106',\n",
       "  'time': '2021-06-28T21:00:00.000000000Z',\n",
       "  'userID': 18793455,\n",
       "  'accountID': '101-001-18793455-001',\n",
       "  'batchID': '106',\n",
       "  'type': 'DAILY_FINANCING',\n",
       "  'financing': '2.2104',\n",
       "  'accountBalance': '100142.3008',\n",
       "  'positionFinancings': [{'instrument': 'EUR_USD',\n",
       "    'financing': '2.2104',\n",
       "    'openTradeFinancings': [{'tradeID': '100', 'financing': '2.2104'}]}]},\n",
       " {'id': '107',\n",
       "  'time': '2021-06-29T21:00:00.000000000Z',\n",
       "  'userID': 18793455,\n",
       "  'accountID': '101-001-18793455-001',\n",
       "  'batchID': '107',\n",
       "  'type': 'DAILY_FINANCING',\n",
       "  'financing': '-0.9827',\n",
       "  'accountBalance': '100141.3181',\n",
       "  'positionFinancings': [{'instrument': 'EUR_USD',\n",
       "    'financing': '-0.9827',\n",
       "    'openTradeFinancings': [{'tradeID': '100', 'financing': '-0.9827'}]}]},\n",
       " {'id': '108',\n",
       "  'time': '2021-06-30T21:00:00.000000000Z',\n",
       "  'userID': 18793455,\n",
       "  'accountID': '101-001-18793455-001',\n",
       "  'batchID': '108',\n",
       "  'type': 'DAILY_FINANCING',\n",
       "  'financing': '-0.8814',\n",
       "  'accountBalance': '100140.4367',\n",
       "  'positionFinancings': [{'instrument': 'EUR_USD',\n",
       "    'financing': '-0.8814',\n",
       "    'openTradeFinancings': [{'tradeID': '100', 'financing': '-0.8814'}]}]},\n",
       " {'id': '109',\n",
       "  'time': '2021-07-01T21:00:00.000000000Z',\n",
       "  'userID': 18793455,\n",
       "  'accountID': '101-001-18793455-001',\n",
       "  'batchID': '109',\n",
       "  'type': 'DAILY_FINANCING',\n",
       "  'financing': '0.0',\n",
       "  'accountBalance': '100140.4367',\n",
       "  'positionFinancings': [{'instrument': 'EUR_USD',\n",
       "    'financing': '0.0',\n",
       "    'openTradeFinancings': [{'tradeID': '100', 'financing': '0.0'}]}]},\n",
       " {'id': '110',\n",
       "  'time': '2021-07-02T21:00:00.000000000Z',\n",
       "  'userID': 18793455,\n",
       "  'accountID': '101-001-18793455-001',\n",
       "  'batchID': '110',\n",
       "  'type': 'DAILY_FINANCING',\n",
       "  'financing': '-0.9474',\n",
       "  'accountBalance': '100139.4893',\n",
       "  'positionFinancings': [{'instrument': 'EUR_USD',\n",
       "    'financing': '-0.9474',\n",
       "    'openTradeFinancings': [{'tradeID': '100', 'financing': '-0.9474'}]}]},\n",
       " {'id': '111',\n",
       "  'time': '2021-07-03T21:00:00.000000000Z',\n",
       "  'userID': 18793455,\n",
       "  'accountID': '101-001-18793455-001',\n",
       "  'batchID': '111',\n",
       "  'type': 'DAILY_FINANCING',\n",
       "  'financing': '0.0',\n",
       "  'accountBalance': '100139.4893',\n",
       "  'positionFinancings': [{'instrument': 'EUR_USD',\n",
       "    'financing': '0.0',\n",
       "    'openTradeFinancings': [{'tradeID': '100', 'financing': '0.0'}]}]},\n",
       " {'id': '112',\n",
       "  'time': '2021-07-04T21:00:00.000000000Z',\n",
       "  'userID': 18793455,\n",
       "  'accountID': '101-001-18793455-001',\n",
       "  'batchID': '112',\n",
       "  'type': 'DAILY_FINANCING',\n",
       "  'financing': '0.0',\n",
       "  'accountBalance': '100139.4893',\n",
       "  'positionFinancings': [{'instrument': 'EUR_USD',\n",
       "    'financing': '0.0',\n",
       "    'openTradeFinancings': [{'tradeID': '100', 'financing': '0.0'}]}]},\n",
       " {'id': '113',\n",
       "  'time': '2021-07-05T21:00:00.000000000Z',\n",
       "  'userID': 18793455,\n",
       "  'accountID': '101-001-18793455-001',\n",
       "  'batchID': '113',\n",
       "  'type': 'DAILY_FINANCING',\n",
       "  'financing': '-1.0453',\n",
       "  'accountBalance': '100138.444',\n",
       "  'positionFinancings': [{'instrument': 'EUR_USD',\n",
       "    'financing': '-1.0453',\n",
       "    'openTradeFinancings': [{'tradeID': '100', 'financing': '-1.0453'}]}]},\n",
       " {'id': '114',\n",
       "  'time': '2021-07-06T01:09:08.660867059Z',\n",
       "  'userID': 18793455,\n",
       "  'accountID': '101-001-18793455-001',\n",
       "  'batchID': '114',\n",
       "  'requestID': '60861178231168532',\n",
       "  'type': 'MARKET_ORDER',\n",
       "  'instrument': 'EUR_USD',\n",
       "  'units': '100000.0',\n",
       "  'timeInForce': 'FOK',\n",
       "  'positionFill': 'DEFAULT',\n",
       "  'reason': 'CLIENT_ORDER'},\n",
       " {'id': '115',\n",
       "  'time': '2021-07-06T01:09:08.660867059Z',\n",
       "  'userID': 18793455,\n",
       "  'accountID': '101-001-18793455-001',\n",
       "  'batchID': '114',\n",
       "  'requestID': '60861178231168532',\n",
       "  'type': 'ORDER_FILL',\n",
       "  'orderID': '114',\n",
       "  'instrument': 'EUR_USD',\n",
       "  'units': '100000.0',\n",
       "  'gainQuoteHomeConversionFactor': '1.0',\n",
       "  'lossQuoteHomeConversionFactor': '1.0',\n",
       "  'price': 1.18617,\n",
       "  'fullVWAP': 1.18617,\n",
       "  'fullPrice': {'type': 'PRICE',\n",
       "   'bids': [{'price': 1.18602, 'liquidity': '10000000'}],\n",
       "   'asks': [{'price': 1.18617, 'liquidity': '10000000'}],\n",
       "   'closeoutBid': 1.18602,\n",
       "   'closeoutAsk': 1.18617},\n",
       "  'reason': 'MARKET_ORDER',\n",
       "  'pl': '659.0',\n",
       "  'financing': '0.0',\n",
       "  'commission': '0.0',\n",
       "  'guaranteedExecutionFee': '0.0',\n",
       "  'accountBalance': '100797.444',\n",
       "  'tradesClosed': [{'tradeID': '100',\n",
       "    'units': '100000.0',\n",
       "    'price': 1.18617,\n",
       "    'realizedPL': '659.0',\n",
       "    'financing': '0.0',\n",
       "    'guaranteedExecutionFee': '0.0',\n",
       "    'halfSpreadCost': '7.5'}],\n",
       "  'halfSpreadCost': '7.5'},\n",
       " {'id': '116',\n",
       "  'time': '2021-07-06T01:09:08.660867059Z',\n",
       "  'userID': 18793455,\n",
       "  'accountID': '101-001-18793455-001',\n",
       "  'batchID': '114',\n",
       "  'requestID': '60861178231168532',\n",
       "  'type': 'ORDER_CANCEL',\n",
       "  'orderID': '101',\n",
       "  'reason': 'LINKED_TRADE_CLOSED'},\n",
       " {'id': '117',\n",
       "  'time': '2021-07-06T01:09:18.016794232Z',\n",
       "  'userID': 18793455,\n",
       "  'accountID': '101-001-18793455-001',\n",
       "  'batchID': '117',\n",
       "  'requestID': '60861178273126438',\n",
       "  'type': 'MARKET_ORDER',\n",
       "  'instrument': 'EUR_USD',\n",
       "  'units': '-100000.0',\n",
       "  'timeInForce': 'FOK',\n",
       "  'positionFill': 'DEFAULT',\n",
       "  'reason': 'CLIENT_ORDER'},\n",
       " {'id': '118',\n",
       "  'time': '2021-07-06T01:09:18.016794232Z',\n",
       "  'userID': 18793455,\n",
       "  'accountID': '101-001-18793455-001',\n",
       "  'batchID': '117',\n",
       "  'requestID': '60861178273126438',\n",
       "  'type': 'ORDER_FILL',\n",
       "  'orderID': '117',\n",
       "  'instrument': 'EUR_USD',\n",
       "  'units': '-100000.0',\n",
       "  'gainQuoteHomeConversionFactor': '1.0',\n",
       "  'lossQuoteHomeConversionFactor': '1.0',\n",
       "  'price': 1.18599,\n",
       "  'fullVWAP': 1.18599,\n",
       "  'fullPrice': {'type': 'PRICE',\n",
       "   'bids': [{'price': 1.18599, 'liquidity': '10000000'}],\n",
       "   'asks': [{'price': 1.18614, 'liquidity': '10000000'}],\n",
       "   'closeoutBid': 1.18599,\n",
       "   'closeoutAsk': 1.18614},\n",
       "  'reason': 'MARKET_ORDER',\n",
       "  'pl': '0.0',\n",
       "  'financing': '0.0',\n",
       "  'commission': '0.0',\n",
       "  'guaranteedExecutionFee': '0.0',\n",
       "  'accountBalance': '100797.444',\n",
       "  'tradeOpened': {'tradeID': '118',\n",
       "   'units': '-100000.0',\n",
       "   'price': 1.18599,\n",
       "   'guaranteedExecutionFee': '0.0',\n",
       "   'halfSpreadCost': '7.5',\n",
       "   'initialMarginRequired': '2372.12'},\n",
       "  'halfSpreadCost': '7.5'}]"
      ]
     },
     "execution_count": 12,
     "metadata": {},
     "output_type": "execute_result"
    }
   ],
   "source": [
    "api.get_transactions()"
   ]
  },
  {
   "cell_type": "code",
   "execution_count": 13,
   "metadata": {},
   "outputs": [
    {
     "name": "stdout",
     "output_type": "stream",
     "text": [
      "   5 | 2021-04-07T22:17:46.50 | EUR_USD | 100000.0 |      0.0\n",
      "  53 | 2021-05-24T04:49:56.73 | EUR_USD |    100.0 |      0.0\n",
      "  56 | 2021-05-24T04:50:06.82 | EUR_USD |   -100.0 |    3.062\n",
      "  91 | 2021-06-24T15:04:15.93 | EUR_USD | -100000.0 |  537.925\n",
      "  94 | 2021-06-24T15:04:41.06 | EUR_USD |   -100.0 |      0.0\n",
      "  97 | 2021-06-24T15:04:45.58 | EUR_USD |    100.0 |   -0.014\n",
      " 100 | 2021-06-24T15:04:48.04 | EUR_USD | -100000.0 |      0.0\n",
      " 115 | 2021-07-06T01:09:08.66 | EUR_USD | 100000.0 |    659.0\n",
      " 118 | 2021-07-06T01:09:18.01 | EUR_USD | -100000.0 |      0.0\n"
     ]
    }
   ],
   "source": [
    "api.print_transactions()"
   ]
  },
  {
   "cell_type": "code",
   "execution_count": 14,
   "metadata": {},
   "outputs": [],
   "source": [
    "order = api.create_order(instrument = \"EUR_USD\", units = 100000, suppress = True, ret = True)"
   ]
  },
  {
   "cell_type": "code",
   "execution_count": 15,
   "metadata": {},
   "outputs": [
    {
     "data": {
      "text/plain": [
       "{'id': '120',\n",
       " 'time': '2021-07-06T01:09:22.672589717Z',\n",
       " 'userID': 18793455,\n",
       " 'accountID': '101-001-18793455-001',\n",
       " 'batchID': '119',\n",
       " 'requestID': '60861178289911400',\n",
       " 'type': 'ORDER_FILL',\n",
       " 'orderID': '119',\n",
       " 'instrument': 'EUR_USD',\n",
       " 'units': '100000.0',\n",
       " 'gainQuoteHomeConversionFactor': '1.0',\n",
       " 'lossQuoteHomeConversionFactor': '1.0',\n",
       " 'price': 1.18612,\n",
       " 'fullVWAP': 1.18612,\n",
       " 'fullPrice': {'type': 'PRICE',\n",
       "  'bids': [{'price': 1.18599, 'liquidity': '9900000'}],\n",
       "  'asks': [{'price': 1.18612, 'liquidity': '10000000'}],\n",
       "  'closeoutBid': 1.18599,\n",
       "  'closeoutAsk': 1.18612},\n",
       " 'reason': 'MARKET_ORDER',\n",
       " 'pl': '-13.0',\n",
       " 'financing': '0.0',\n",
       " 'commission': '0.0',\n",
       " 'guaranteedExecutionFee': '0.0',\n",
       " 'accountBalance': '100784.444',\n",
       " 'tradesClosed': [{'tradeID': '118',\n",
       "   'units': '100000.0',\n",
       "   'price': 1.18612,\n",
       "   'realizedPL': '-13.0',\n",
       "   'financing': '0.0',\n",
       "   'guaranteedExecutionFee': '0.0',\n",
       "   'halfSpreadCost': '6.5'}],\n",
       " 'halfSpreadCost': '6.5'}"
      ]
     },
     "execution_count": 15,
     "metadata": {},
     "output_type": "execute_result"
    }
   ],
   "source": [
    "order"
   ]
  },
  {
   "cell_type": "code",
   "execution_count": 16,
   "metadata": {},
   "outputs": [
    {
     "data": {
      "text/plain": [
       "1.18612"
      ]
     },
     "execution_count": 16,
     "metadata": {},
     "output_type": "execute_result"
    }
   ],
   "source": [
    "order[\"price\"]"
   ]
  },
  {
   "cell_type": "code",
   "execution_count": 17,
   "metadata": {},
   "outputs": [],
   "source": [
    "order2 = api.create_order(instrument = \"EUR_USD\", units = -100000, suppress = True, ret = True)"
   ]
  },
  {
   "cell_type": "code",
   "execution_count": 18,
   "metadata": {},
   "outputs": [
    {
     "data": {
      "text/plain": [
       "{'id': '122',\n",
       " 'time': '2021-07-06T01:09:26.484016768Z',\n",
       " 'userID': 18793455,\n",
       " 'accountID': '101-001-18793455-001',\n",
       " 'batchID': '121',\n",
       " 'requestID': '60861178306694467',\n",
       " 'type': 'ORDER_FILL',\n",
       " 'orderID': '121',\n",
       " 'instrument': 'EUR_USD',\n",
       " 'units': '-100000.0',\n",
       " 'gainQuoteHomeConversionFactor': '1.0',\n",
       " 'lossQuoteHomeConversionFactor': '1.0',\n",
       " 'price': 1.18598,\n",
       " 'fullVWAP': 1.18598,\n",
       " 'fullPrice': {'type': 'PRICE',\n",
       "  'bids': [{'price': 1.18598, 'liquidity': '9900000'}],\n",
       "  'asks': [{'price': 1.18611, 'liquidity': '9900000'}],\n",
       "  'closeoutBid': 1.18598,\n",
       "  'closeoutAsk': 1.18611},\n",
       " 'reason': 'MARKET_ORDER',\n",
       " 'pl': '0.0',\n",
       " 'financing': '0.0',\n",
       " 'commission': '0.0',\n",
       " 'guaranteedExecutionFee': '0.0',\n",
       " 'accountBalance': '100784.444',\n",
       " 'tradeOpened': {'tradeID': '122',\n",
       "  'units': '-100000.0',\n",
       "  'price': 1.18598,\n",
       "  'guaranteedExecutionFee': '0.0',\n",
       "  'halfSpreadCost': '6.5',\n",
       "  'initialMarginRequired': '2372.08'},\n",
       " 'halfSpreadCost': '6.5'}"
      ]
     },
     "execution_count": 18,
     "metadata": {},
     "output_type": "execute_result"
    }
   ],
   "source": [
    "order2 "
   ]
  },
  {
   "cell_type": "code",
   "execution_count": 19,
   "metadata": {},
   "outputs": [
    {
     "data": {
      "text/plain": [
       "1.18598"
      ]
     },
     "execution_count": 19,
     "metadata": {},
     "output_type": "execute_result"
    }
   ],
   "source": [
    "order2[\"price\"]"
   ]
  },
  {
   "cell_type": "code",
   "execution_count": 20,
   "metadata": {},
   "outputs": [
    {
     "data": {
      "text/plain": [
       "0.0"
      ]
     },
     "execution_count": 20,
     "metadata": {},
     "output_type": "execute_result"
    }
   ],
   "source": [
    "float(order2[\"pl\"])"
   ]
  },
  {
   "cell_type": "code",
   "execution_count": 21,
   "metadata": {},
   "outputs": [
    {
     "data": {
      "text/plain": [
       "'2021-07-06T01:09:26.484016768Z'"
      ]
     },
     "execution_count": 21,
     "metadata": {},
     "output_type": "execute_result"
    }
   ],
   "source": [
    "order2[\"time\"]"
   ]
  },
  {
   "cell_type": "code",
   "execution_count": 22,
   "metadata": {},
   "outputs": [
    {
     "data": {
      "text/plain": [
       "'-100000.0'"
      ]
     },
     "execution_count": 22,
     "metadata": {},
     "output_type": "execute_result"
    }
   ],
   "source": [
    "order2[\"units\"]"
   ]
  },
  {
   "cell_type": "code",
   "execution_count": 23,
   "metadata": {},
   "outputs": [
    {
     "data": {
      "text/plain": [
       "'122'"
      ]
     },
     "execution_count": 23,
     "metadata": {},
     "output_type": "execute_result"
    }
   ],
   "source": [
    "order2[\"id\"]"
   ]
  },
  {
   "cell_type": "code",
   "execution_count": null,
   "metadata": {},
   "outputs": [],
   "source": []
  },
  {
   "cell_type": "markdown",
   "metadata": {},
   "source": [
    "## Preview: A Trader Class live in action"
   ]
  },
  {
   "cell_type": "code",
   "execution_count": 24,
   "metadata": {},
   "outputs": [],
   "source": [
    "import pandas as pd\n",
    "import numpy as np\n",
    "import tpqoa\n",
    "from datetime import datetime, timedelta\n",
    "import time"
   ]
  },
  {
   "cell_type": "code",
   "execution_count": 26,
   "metadata": {},
   "outputs": [],
   "source": [
    "class ConTrader(tpqoa.tpqoa):\n",
    "    def __init__(self, conf_file, instrument, bar_length, window, units):\n",
    "        super().__init__(conf_file)\n",
    "        self.instrument = instrument\n",
    "        self.bar_length = pd.to_timedelta(bar_length)\n",
    "        self.tick_data = pd.DataFrame()\n",
    "        self.raw_data = None\n",
    "        self.data = None \n",
    "        self.last_bar = None\n",
    "        self.units = units\n",
    "        self.position = 0\n",
    "        self.profits = []\n",
    "        \n",
    "        #*****************add strategy-specific attributes here******************\n",
    "        self.window = window\n",
    "        #************************************************************************\n",
    "    \n",
    "    def get_most_recent(self, days = 5):\n",
    "        while True:\n",
    "            time.sleep(2)\n",
    "            now = datetime.utcnow()\n",
    "            now = now - timedelta(microseconds = now.microsecond)\n",
    "            past = now - timedelta(days = days)\n",
    "            df = self.get_history(instrument = self.instrument, start = past, end = now,\n",
    "                                   granularity = \"S5\", price = \"M\", localize = False).c.dropna().to_frame()\n",
    "            df.rename(columns = {\"c\":self.instrument}, inplace = True)\n",
    "            df = df.resample(self.bar_length, label = \"right\").last().dropna().iloc[:-1]\n",
    "            self.raw_data = df.copy()\n",
    "            self.last_bar = self.raw_data.index[-1]\n",
    "            if pd.to_datetime(datetime.utcnow()).tz_localize(\"UTC\") - self.last_bar < self.bar_length:\n",
    "                break\n",
    "                \n",
    "    def on_success(self, time, bid, ask):\n",
    "        print(self.ticks, end = \" \")\n",
    "        \n",
    "        recent_tick = pd.to_datetime(time)\n",
    "        df = pd.DataFrame({self.instrument:(ask + bid)/2}, \n",
    "                          index = [recent_tick])\n",
    "        self.tick_data = self.tick_data.append(df)\n",
    "        \n",
    "        if recent_tick - self.last_bar > self.bar_length:\n",
    "            self.resample_and_join()\n",
    "            self.define_strategy()\n",
    "            self.execute_trades()\n",
    "    \n",
    "    def resample_and_join(self):\n",
    "        self.raw_data = self.raw_data.append(self.tick_data.resample(self.bar_length, \n",
    "                                                                  label=\"right\").last().ffill().iloc[:-1])\n",
    "        self.tick_data = self.tick_data.iloc[-1:]\n",
    "        self.last_bar = self.raw_data.index[-1]\n",
    "    \n",
    "    def define_strategy(self): # \"strategy-specific\"\n",
    "        df = self.raw_data.copy()\n",
    "        \n",
    "        #******************** define your strategy here ************************\n",
    "        df[\"returns\"] = np.log(df[self.instrument] / df[self.instrument].shift())\n",
    "        df[\"position\"] = -np.sign(df.returns.rolling(self.window).mean())\n",
    "        #***********************************************************************\n",
    "        \n",
    "        self.data = df.copy()\n",
    "    \n",
    "    def execute_trades(self):\n",
    "        if self.data[\"position\"].iloc[-1] == 1:\n",
    "            if self.position == 0:\n",
    "                order = self.create_order(self.instrument, self.units, suppress = True, ret = True)\n",
    "                self.report_trade(order, \"GOING LONG\")\n",
    "            elif self.position == -1:\n",
    "                order = self.create_order(self.instrument, self.units * 2, suppress = True, ret = True) \n",
    "                self.report_trade(order, \"GOING LONG\")\n",
    "            self.position = 1\n",
    "        elif self.data[\"position\"].iloc[-1] == -1: \n",
    "            if self.position == 0:\n",
    "                order = self.create_order(self.instrument, -self.units, suppress = True, ret = True)\n",
    "                self.report_trade(order, \"GOING SHORT\")\n",
    "            elif self.position == 1:\n",
    "                order = self.create_order(self.instrument, -self.units * 2, suppress = True, ret = True)\n",
    "                self.report_trade(order, \"GOING SHORT\")\n",
    "            self.position = -1\n",
    "        elif self.data[\"position\"].iloc[-1] == 0:\n",
    "            if self.position == -1:\n",
    "                order = self.create_order(self.instrument, self.units, suppress = True, ret = True) \n",
    "                self.report_trade(order, \"GOING NEUTRAL\")\n",
    "            elif self.position == 1:\n",
    "                order = self.create_order(self.instrument, -self.units, suppress = True, ret = True) \n",
    "                self.report_trade(order, \"GOING NEUTRAL\")\n",
    "            self.position = 0\n",
    "    \n",
    "    def report_trade(self, order, going):\n",
    "        time = order[\"time\"]\n",
    "        units = order[\"units\"]\n",
    "        price = order[\"price\"]\n",
    "        pl = float(order[\"pl\"])\n",
    "        self.profits.append(pl)\n",
    "        cumpl = sum(self.profits)\n",
    "        print(\"\\n\" + 100* \"-\")\n",
    "        print(\"{} | {}\".format(time, going))\n",
    "        print(\"{} | units = {} | price = {} | P&L = {} | Cum P&L = {}\".format(time, units, price, pl, cumpl))\n",
    "        print(100 * \"-\" + \"\\n\")  \n",
    "    "
   ]
  },
  {
   "cell_type": "markdown",
   "metadata": {},
   "source": [
    "__Simple Contrarian: Bar_lenght = 1min | Window = 1 (1 minute)__"
   ]
  },
  {
   "cell_type": "code",
   "execution_count": 27,
   "metadata": {},
   "outputs": [],
   "source": [
    "trader = ConTrader(\"oanda.cfg\", \"EUR_USD\", bar_length = \"1min\", window = 1, units = 100000)"
   ]
  },
  {
   "cell_type": "code",
   "execution_count": 28,
   "metadata": {
    "scrolled": false
   },
   "outputs": [
    {
     "name": "stdout",
     "output_type": "stream",
     "text": [
      "1 2 3 4 5 6 7 8 9 10 11 12 13 14 15 16 \n",
      "----------------------------------------------------------------------------------------------------\n",
      "2021-07-06T01:12:07.179036037Z | GOING SHORT\n",
      "2021-07-06T01:12:07.179036037Z | units = -100000.0 | price = 1.18592 | P&L = 0.0 | Cum P&L = 0.0\n",
      "----------------------------------------------------------------------------------------------------\n",
      "\n",
      "17 18 19 20 21 22 23 24 25 26 27 28 29 30 31 32 33 34 35 36 37 38 39 40 41 \n",
      "----------------------------------------------------------------------------------------------------\n",
      "2021-07-06T01:14:00.312452221Z | GOING LONG\n",
      "2021-07-06T01:14:00.312452221Z | units = 200000.0 | price = 1.18603 | P&L = -16.0 | Cum P&L = -16.0\n",
      "----------------------------------------------------------------------------------------------------\n",
      "\n",
      "42 43 44 45 46 47 48 49 50 51 52 53 54 55 56 57 58 59 60 61 62 63 64 65 66 67 68 69 70 71 72 73 74 75 76 77 78 79 80 81 82 83 84 85 86 87 88 89 90 91 92 93 94 95 96 97 98 99 100 101 102 103 104 105 106 107 108 109 110 \n",
      "----------------------------------------------------------------------------------------------------\n",
      "2021-07-06T01:16:06.872047927Z | GOING SHORT\n",
      "2021-07-06T01:16:06.872047927Z | units = -200000.0 | price = 1.18584 | P&L = 0.0 | Cum P&L = -16.0\n",
      "----------------------------------------------------------------------------------------------------\n",
      "\n",
      "111 112 113 114 115 116 117 118 119 120 121 122 123 124 125 126 127 128 129 130 131 132 133 134 135 136 137 138 139 140 141 142 143 144 145 146 147 148 149 150 151 152 153 154 155 156 157 158 159 160 161 162 163 164 165 166 167 168 169 170 171 172 \n",
      "----------------------------------------------------------------------------------------------------\n",
      "2021-07-06T01:20:01.443359020Z | GOING LONG\n",
      "2021-07-06T01:20:01.443359020Z | units = 200000.0 | price = 1.18603 | P&L = -38.0 | Cum P&L = -54.0\n",
      "----------------------------------------------------------------------------------------------------\n",
      "\n",
      "173 174 175 176 177 178 179 180 181 182 183 184 185 186 187 188 189 190 \n",
      "----------------------------------------------------------------------------------------------------\n",
      "2021-07-06T01:21:15.087382604Z | GOING SHORT\n",
      "2021-07-06T01:21:15.087382604Z | units = -200000.0 | price = 1.18594 | P&L = 0.0 | Cum P&L = -54.0\n",
      "----------------------------------------------------------------------------------------------------\n",
      "\n",
      "191 192 193 194 195 196 197 198 199 200 \n",
      "----------------------------------------------------------------------------------------------------\n",
      "2021-07-06T01:21:25.214300686Z | GOING NEUTRAL\n",
      "2021-07-06T01:21:25.214300686Z | units = 100000.0 | price = 1.18608 | P&L = -14.0 | Cum P&L = -68.0\n",
      "----------------------------------------------------------------------------------------------------\n",
      "\n"
     ]
    }
   ],
   "source": [
    "trader.get_most_recent()\n",
    "trader.stream_data(trader.instrument, stop = 200)\n",
    "if trader.position != 0: # if we have a final open position\n",
    "    close_order = trader.create_order(trader.instrument, units = -trader.position * trader.units, \n",
    "                                      suppress = True, ret = True) \n",
    "    trader.report_trade(close_order, \"GOING NEUTRAL\")\n",
    "    trader.position = 0"
   ]
  },
  {
   "cell_type": "code",
   "execution_count": null,
   "metadata": {},
   "outputs": [],
   "source": []
  },
  {
   "cell_type": "markdown",
   "metadata": {},
   "source": [
    "__Simple Contrarian: Bar_length = 1min | Window = 60 (1 hour)__"
   ]
  },
  {
   "cell_type": "code",
   "execution_count": 29,
   "metadata": {},
   "outputs": [],
   "source": [
    "trader = ConTrader(\"oanda.cfg\", \"EUR_USD\", bar_length = \"1min\", window = 60, units = 100000)"
   ]
  },
  {
   "cell_type": "code",
   "execution_count": 30,
   "metadata": {
    "scrolled": false
   },
   "outputs": [
    {
     "name": "stdout",
     "output_type": "stream",
     "text": [
      "1 2 3 4 5 6 7 8 9 10 11 12 13 14 15 \n",
      "----------------------------------------------------------------------------------------------------\n",
      "2021-07-06T01:23:06.809057845Z | GOING LONG\n",
      "2021-07-06T01:23:06.809057845Z | units = 100000.0 | price = 1.18602 | P&L = -8.0 | Cum P&L = -8.0\n",
      "----------------------------------------------------------------------------------------------------\n",
      "\n",
      "16 17 18 19 20 21 22 23 24 25 26 27 28 29 30 31 32 33 34 35 36 37 38 39 40 41 42 43 44 45 46 47 48 49 50 51 52 53 54 55 56 57 58 59 60 61 62 63 64 65 66 67 68 69 70 71 72 73 74 75 76 77 78 79 80 81 82 83 84 85 86 87 88 89 90 91 92 93 94 95 96 97 98 99 100 101 102 103 104 105 106 107 108 109 110 111 112 113 114 115 116 117 118 119 120 121 122 123 124 125 126 127 128 129 130 131 132 133 134 135 136 137 138 139 140 141 142 143 144 145 146 147 148 149 150 151 152 153 154 155 156 157 158 159 160 161 162 163 \n",
      "----------------------------------------------------------------------------------------------------\n",
      "2021-07-06T01:30:00.449694005Z | GOING SHORT\n",
      "2021-07-06T01:30:00.449694005Z | units = -200000.0 | price = 1.18602 | P&L = 0.0 | Cum P&L = -8.0\n",
      "----------------------------------------------------------------------------------------------------\n",
      "\n",
      "164 165 166 167 168 169 170 171 172 173 174 175 176 177 178 179 180 181 182 183 184 185 186 187 188 189 190 191 192 193 194 195 196 197 198 199 200 \n",
      "----------------------------------------------------------------------------------------------------\n",
      "2021-07-06T01:30:57.258243459Z | GOING NEUTRAL\n",
      "2021-07-06T01:30:57.258243459Z | units = 100000.0 | price = 1.18612 | P&L = -10.0 | Cum P&L = -18.0\n",
      "----------------------------------------------------------------------------------------------------\n",
      "\n"
     ]
    }
   ],
   "source": [
    "trader.get_most_recent()\n",
    "trader.stream_data(trader.instrument, stop = 200)\n",
    "if trader.position != 0: # if we have a final open position\n",
    "    close_order = trader.create_order(trader.instrument, units = -trader.position * trader.units, \n",
    "                                      suppress = True, ret = True) \n",
    "    trader.report_trade(close_order, \"GOING NEUTRAL\")\n",
    "    trader.position = 0"
   ]
  },
  {
   "cell_type": "code",
   "execution_count": null,
   "metadata": {},
   "outputs": [],
   "source": []
  },
  {
   "cell_type": "markdown",
   "metadata": {},
   "source": [
    "## Collecting and storing real-time tick data"
   ]
  },
  {
   "cell_type": "code",
   "execution_count": 31,
   "metadata": {},
   "outputs": [],
   "source": [
    "import pandas as pd\n",
    "import tpqoa"
   ]
  },
  {
   "cell_type": "code",
   "execution_count": 32,
   "metadata": {},
   "outputs": [],
   "source": [
    "api = tpqoa.tpqoa(\"oanda.cfg\")"
   ]
  },
  {
   "cell_type": "code",
   "execution_count": 33,
   "metadata": {},
   "outputs": [
    {
     "name": "stdout",
     "output_type": "stream",
     "text": [
      "2021-07-06T05:33:59.191663947Z 1.18776 1.18791\n",
      "2021-07-06T05:34:05.312122323Z 1.18778 1.18791\n",
      "2021-07-06T05:34:16.010961370Z 1.18779 1.18793\n",
      "2021-07-06T05:34:16.303359437Z 1.18779 1.18793\n",
      "2021-07-06T05:34:17.894892411Z 1.1878 1.18794\n",
      "2021-07-06T05:34:18.118222812Z 1.1878 1.18794\n",
      "2021-07-06T05:34:23.940077382Z 1.18777 1.18793\n",
      "2021-07-06T05:34:27.951533865Z 1.1878 1.18796\n",
      "2021-07-06T05:34:28.364269828Z 1.18778 1.18795\n",
      "2021-07-06T05:34:28.988599616Z 1.18778 1.18792\n"
     ]
    }
   ],
   "source": [
    "api.stream_data(\"EUR_USD\", stop = 10)"
   ]
  },
  {
   "cell_type": "code",
   "execution_count": null,
   "metadata": {},
   "outputs": [],
   "source": [
    "# two steps: 1) Retrieve tick data 2) call on_sucess() method to print tick data\n",
    "api.stream_data??"
   ]
  },
  {
   "cell_type": "code",
   "execution_count": null,
   "metadata": {},
   "outputs": [],
   "source": [
    "# called by stream_data() when new data is retrieved \n",
    "api.on_success??"
   ]
  },
  {
   "cell_type": "code",
   "execution_count": null,
   "metadata": {},
   "outputs": [],
   "source": [
    "class CloneClass(tpqoa.tpqoa):\n",
    "    \n",
    "    def on_success(self, time, bid, ask):\n",
    "        print(\"Time: {} | Bid: {} | Ask:{}\".format(time, bid, ask))"
   ]
  },
  {
   "cell_type": "code",
   "execution_count": null,
   "metadata": {},
   "outputs": [],
   "source": [
    "api = CloneClass(\"oanda.cfg\")"
   ]
  },
  {
   "cell_type": "code",
   "execution_count": null,
   "metadata": {
    "scrolled": false
   },
   "outputs": [],
   "source": [
    "api.get_instruments()[:5]"
   ]
  },
  {
   "cell_type": "code",
   "execution_count": null,
   "metadata": {},
   "outputs": [],
   "source": [
    "api.stream_data(\"EUR_USD\", stop = 5)"
   ]
  },
  {
   "cell_type": "code",
   "execution_count": null,
   "metadata": {},
   "outputs": [],
   "source": []
  },
  {
   "cell_type": "markdown",
   "metadata": {},
   "source": [
    "## Storing and resampling real-time tick data (Part 1)"
   ]
  },
  {
   "cell_type": "code",
   "execution_count": null,
   "metadata": {},
   "outputs": [],
   "source": [
    "import pandas as pd\n",
    "import tpqoa"
   ]
  },
  {
   "cell_type": "code",
   "execution_count": null,
   "metadata": {},
   "outputs": [],
   "source": [
    "class GetTickData(tpqoa.tpqoa):\n",
    "    \n",
    "    def __init__(self, config_file):\n",
    "        super().__init__(config_file)\n",
    "        self.tick_data = pd.DataFrame()\n",
    "    \n",
    "    def on_success(self, time, bid, ask):\n",
    "        print(time, bid, ask)\n",
    "        df = pd.DataFrame({\"bid\":bid, \"ask\":ask, \"mid\":(ask + bid)/2}, \n",
    "                          index = [pd.to_datetime(time)])\n",
    "        self.tick_data = self.tick_data.append(df)"
   ]
  },
  {
   "cell_type": "code",
   "execution_count": null,
   "metadata": {},
   "outputs": [],
   "source": [
    "td = GetTickData(\"oanda.cfg\")"
   ]
  },
  {
   "cell_type": "code",
   "execution_count": null,
   "metadata": {},
   "outputs": [],
   "source": [
    "td.stream_data(\"EUR_USD\", stop = 10)"
   ]
  },
  {
   "cell_type": "code",
   "execution_count": null,
   "metadata": {},
   "outputs": [],
   "source": [
    "td.tick_data"
   ]
  },
  {
   "cell_type": "code",
   "execution_count": null,
   "metadata": {},
   "outputs": [],
   "source": [
    "td.tick_data.resample(\"1s\", label = \"right\").last().ffill() # resample to 1s bars"
   ]
  },
  {
   "cell_type": "code",
   "execution_count": null,
   "metadata": {},
   "outputs": [],
   "source": [
    "td = GetTickData(\"oanda.cfg\")"
   ]
  },
  {
   "cell_type": "code",
   "execution_count": null,
   "metadata": {},
   "outputs": [],
   "source": [
    "td.stream_data(\"EUR_USD\", stop = 100)"
   ]
  },
  {
   "cell_type": "code",
   "execution_count": null,
   "metadata": {},
   "outputs": [],
   "source": [
    "td.tick_data.resample(\"10s\", label = \"right\").last()#.ffill()"
   ]
  },
  {
   "cell_type": "code",
   "execution_count": null,
   "metadata": {},
   "outputs": [],
   "source": []
  },
  {
   "cell_type": "markdown",
   "metadata": {},
   "source": [
    "## Storing and resampling real-time tick data (Part 2)"
   ]
  },
  {
   "cell_type": "code",
   "execution_count": null,
   "metadata": {},
   "outputs": [],
   "source": [
    "import pandas as pd\n",
    "import tpqoa"
   ]
  },
  {
   "cell_type": "code",
   "execution_count": null,
   "metadata": {},
   "outputs": [],
   "source": [
    "class GetTickData(tpqoa.tpqoa):\n",
    "    \n",
    "    def __init__(self, config_file, bar_length):\n",
    "        super().__init__(config_file)\n",
    "        self.bar_length = bar_length\n",
    "        self.tick_data = pd.DataFrame()\n",
    "    \n",
    "    def on_success(self, time, bid, ask):\n",
    "        print(time, bid, ask)\n",
    "        df = pd.DataFrame({\"bid\":bid, \"ask\":ask, \"mid\":(ask + bid)/2}, \n",
    "                          index = [pd.to_datetime(time)])\n",
    "        self.tick_data = self.tick_data.append(df)\n",
    "        self.data = self.tick_data.resample(self.bar_length, label = \"right\").last().ffill().iloc[:-1]"
   ]
  },
  {
   "cell_type": "code",
   "execution_count": null,
   "metadata": {},
   "outputs": [],
   "source": [
    "td = GetTickData(\"oanda.cfg\", \"5s\")"
   ]
  },
  {
   "cell_type": "code",
   "execution_count": null,
   "metadata": {},
   "outputs": [],
   "source": [
    "td.stream_data(\"EUR_USD\", stop = 20)"
   ]
  },
  {
   "cell_type": "code",
   "execution_count": null,
   "metadata": {},
   "outputs": [],
   "source": [
    "td.data"
   ]
  },
  {
   "cell_type": "code",
   "execution_count": null,
   "metadata": {},
   "outputs": [],
   "source": [
    "td.tick_data"
   ]
  },
  {
   "cell_type": "code",
   "execution_count": null,
   "metadata": {},
   "outputs": [],
   "source": []
  },
  {
   "cell_type": "markdown",
   "metadata": {},
   "source": [
    "## Storing and resampling real-time tick data (Part 3)"
   ]
  },
  {
   "cell_type": "code",
   "execution_count": null,
   "metadata": {},
   "outputs": [],
   "source": [
    "import pandas as pd\n",
    "import tpqoa"
   ]
  },
  {
   "cell_type": "code",
   "execution_count": null,
   "metadata": {},
   "outputs": [],
   "source": [
    "class ConTrader(tpqoa.tpqoa): # Ultimate Goal: Implementing a simple Contrarian Strategy\n",
    "    \n",
    "    def __init__(self, config_file, instrument, bar_length):\n",
    "        super().__init__(config_file)\n",
    "        self.instrument = instrument # define instrument\n",
    "        self.bar_length = bar_length\n",
    "        self.tick_data = pd.DataFrame()\n",
    "    \n",
    "    def on_success(self, time, bid, ask):\n",
    "        print(self.ticks, end = \" \") # Print running Tick number\n",
    "        \n",
    "        # collect and store tick data\n",
    "        df = pd.DataFrame({self.instrument:(ask + bid)/2}, \n",
    "                          index = [pd.to_datetime(time)]) # mid price only\n",
    "        self.tick_data = self.tick_data.append(df)\n",
    "        \n",
    "        self.resample_and_join() # NEW\n",
    "        \n",
    "    def resample_and_join(self): # NEW\n",
    "        self.data = self.tick_data.resample(self.bar_length, label = \"right\").last().ffill().iloc[:-1]"
   ]
  },
  {
   "cell_type": "code",
   "execution_count": null,
   "metadata": {},
   "outputs": [],
   "source": [
    "for i in range(10):\n",
    "    print(i, end = \" \")"
   ]
  },
  {
   "cell_type": "code",
   "execution_count": null,
   "metadata": {},
   "outputs": [],
   "source": [
    "trader = ConTrader(\"oanda.cfg\", \"EUR_USD\", \"5s\")"
   ]
  },
  {
   "cell_type": "code",
   "execution_count": null,
   "metadata": {},
   "outputs": [],
   "source": [
    "trader.stream_data(\"EUR_USD\", stop = 20)"
   ]
  },
  {
   "cell_type": "code",
   "execution_count": null,
   "metadata": {},
   "outputs": [],
   "source": [
    "trader.data"
   ]
  },
  {
   "cell_type": "code",
   "execution_count": null,
   "metadata": {},
   "outputs": [],
   "source": [
    "trader.tick_data"
   ]
  },
  {
   "cell_type": "code",
   "execution_count": null,
   "metadata": {},
   "outputs": [],
   "source": []
  },
  {
   "cell_type": "markdown",
   "metadata": {},
   "source": [
    "## Storing and resampling real-time tick data (Part 4)"
   ]
  },
  {
   "cell_type": "markdown",
   "metadata": {},
   "source": [
    "__When should we resample?__ -> Only when a __full new bar__ is available!<br>\n",
    "-> Whenever there are more than 5s (__bar_length__) between the __most recent tick__ and __last full bar__. "
   ]
  },
  {
   "cell_type": "code",
   "execution_count": null,
   "metadata": {},
   "outputs": [],
   "source": [
    "import pandas as pd\n",
    "import tpqoa\n",
    "from datetime import datetime"
   ]
  },
  {
   "cell_type": "code",
   "execution_count": null,
   "metadata": {},
   "outputs": [],
   "source": [
    "class ConTrader(tpqoa.tpqoa):\n",
    "    \n",
    "    def __init__(self, config_file, instrument, bar_length):\n",
    "        super().__init__(config_file)\n",
    "        self.instrument = instrument\n",
    "        self.bar_length = pd.to_timedelta(bar_length) # Pandas Timedelta Object\n",
    "        self.tick_data = pd.DataFrame()\n",
    "        self.last_bar = pd.to_datetime(datetime.utcnow()).tz_localize(\"UTC\") # UTC time at instantiation\n",
    "    \n",
    "    def on_success(self, time, bid, ask):\n",
    "        print(self.ticks, end = \" \")\n",
    "        \n",
    "        # collect and store tick data\n",
    "        recent_tick = pd.to_datetime(time) # Pandas Timestamp Object\n",
    "        df = pd.DataFrame({self.instrument:(ask + bid)/2}, \n",
    "                          index = [recent_tick])\n",
    "        self.tick_data = self.tick_data.append(df)\n",
    "        \n",
    "        # if a time longer than the bar_lenght has elapsed between last full bar and the most recent tick\n",
    "        if recent_tick - self.last_bar > self.bar_length:\n",
    "            self.resample_and_join()\n",
    "    \n",
    "    def resample_and_join(self):\n",
    "        self.data = self.tick_data.resample(self.bar_length, label = \"right\").last().ffill().iloc[:-1]\n",
    "        self.last_bar = self.data.index[-1]  # update time of last full bar\n",
    "    "
   ]
  },
  {
   "cell_type": "code",
   "execution_count": null,
   "metadata": {},
   "outputs": [],
   "source": [
    "datetime.utcnow()"
   ]
  },
  {
   "cell_type": "code",
   "execution_count": null,
   "metadata": {},
   "outputs": [],
   "source": [
    "pd.to_datetime(datetime.utcnow()).tz_localize(\"UTC\")"
   ]
  },
  {
   "cell_type": "code",
   "execution_count": null,
   "metadata": {},
   "outputs": [],
   "source": [
    "pd.to_timedelta(\"5s\")"
   ]
  },
  {
   "cell_type": "code",
   "execution_count": null,
   "metadata": {},
   "outputs": [],
   "source": [
    "trader = ConTrader(\"oanda.cfg\", \"EUR_USD\", \"5s\")\n",
    "trader.stream_data(trader.instrument, stop = 20)"
   ]
  },
  {
   "cell_type": "code",
   "execution_count": null,
   "metadata": {},
   "outputs": [],
   "source": [
    "trader.data"
   ]
  },
  {
   "cell_type": "code",
   "execution_count": null,
   "metadata": {},
   "outputs": [],
   "source": [
    "trader.tick_data"
   ]
  },
  {
   "cell_type": "code",
   "execution_count": null,
   "metadata": {},
   "outputs": [],
   "source": []
  },
  {
   "cell_type": "markdown",
   "metadata": {},
   "source": [
    "## Storing and resampling real-time tick data (Part 5)"
   ]
  },
  {
   "cell_type": "code",
   "execution_count": null,
   "metadata": {},
   "outputs": [],
   "source": [
    "import pandas as pd\n",
    "import tpqoa\n",
    "from datetime import datetime"
   ]
  },
  {
   "cell_type": "markdown",
   "metadata": {},
   "source": [
    "Goal: Once we have added a new full bar...<br>\n",
    "- delete the correpsonding ticks from self.tick_data\n",
    "- only keep the latest tick (next bar)"
   ]
  },
  {
   "cell_type": "markdown",
   "metadata": {},
   "source": [
    "(Recap: receiving the first tick of the next bar is the signal to resample)"
   ]
  },
  {
   "cell_type": "code",
   "execution_count": null,
   "metadata": {},
   "outputs": [],
   "source": [
    "class ConTrader(tpqoa.tpqoa):\n",
    "    \n",
    "    def __init__(self, config_file, instrument, bar_length):\n",
    "        super().__init__(config_file)\n",
    "        self.instrument = instrument \n",
    "        self.bar_length = pd.to_timedelta(bar_length)\n",
    "        self.tick_data = pd.DataFrame()\n",
    "        self.data = pd.DataFrame() # NEW\n",
    "        self.last_bar = pd.to_datetime(datetime.utcnow()).tz_localize(\"UTC\")\n",
    "    \n",
    "    def on_success(self, time, bid, ask):\n",
    "        print(self.ticks, end = \" \") \n",
    "        \n",
    "        # collect and store tick data\n",
    "        recent_tick = pd.to_datetime(time)\n",
    "        df = pd.DataFrame({self.instrument:(ask + bid)/2}, \n",
    "                          index = [recent_tick]) \n",
    "        self.tick_data = self.tick_data.append(df)\n",
    "        \n",
    "        # if a time longer than the bar_lenght has elapsed between last full bar and the most recent tick\n",
    "        if recent_tick - self.last_bar > self.bar_length:\n",
    "            self.resample_and_join()\n",
    "    \n",
    "    def resample_and_join(self):\n",
    "        #self.data = self.tick_data.resample(self.bar_length, label = \"right\").last().ffill().iloc[:-1]\n",
    "        # NEW: append the most recent ticks (resampled) to self.data\n",
    "        self.data = self.data.append(self.tick_data.resample(self.bar_length, \n",
    "                                                             label=\"right\").last().ffill().iloc[:-1])\n",
    "        self.tick_data = self.tick_data.iloc[-1:] # NEW: only keep the latest tick (next bar)\n",
    "        self.last_bar = self.data.index[-1] "
   ]
  },
  {
   "cell_type": "code",
   "execution_count": null,
   "metadata": {},
   "outputs": [],
   "source": [
    "trader = ConTrader(\"oanda.cfg\", \"EUR_USD\", \"5s\")\n",
    "trader.stream_data(trader.instrument, stop = 20)"
   ]
  },
  {
   "cell_type": "code",
   "execution_count": null,
   "metadata": {},
   "outputs": [],
   "source": [
    "trader.data"
   ]
  },
  {
   "cell_type": "code",
   "execution_count": null,
   "metadata": {},
   "outputs": [],
   "source": [
    "trader.tick_data # only most recent ticks since last full bar"
   ]
  },
  {
   "cell_type": "code",
   "execution_count": null,
   "metadata": {},
   "outputs": [],
   "source": []
  },
  {
   "cell_type": "markdown",
   "metadata": {},
   "source": [
    "## Working with historical data and real-time tick data (Part 1)"
   ]
  },
  {
   "cell_type": "code",
   "execution_count": null,
   "metadata": {},
   "outputs": [],
   "source": [
    "import pandas as pd\n",
    "import tpqoa\n",
    "from datetime import datetime, timedelta"
   ]
  },
  {
   "cell_type": "code",
   "execution_count": null,
   "metadata": {},
   "outputs": [],
   "source": [
    "now = datetime.utcnow()\n",
    "now"
   ]
  },
  {
   "cell_type": "code",
   "execution_count": null,
   "metadata": {},
   "outputs": [],
   "source": [
    "now = now - timedelta(microseconds = now.microsecond)\n",
    "now"
   ]
  },
  {
   "cell_type": "code",
   "execution_count": null,
   "metadata": {},
   "outputs": [],
   "source": [
    "yesterday = now - timedelta(days = 1)\n",
    "yesterday"
   ]
  },
  {
   "cell_type": "code",
   "execution_count": null,
   "metadata": {},
   "outputs": [],
   "source": [
    "api = tpqoa.tpqoa(\"oanda.cfg\")"
   ]
  },
  {
   "cell_type": "code",
   "execution_count": null,
   "metadata": {},
   "outputs": [],
   "source": [
    "instrument = \"EUR_USD\""
   ]
  },
  {
   "cell_type": "code",
   "execution_count": null,
   "metadata": {},
   "outputs": [],
   "source": [
    "df = api.get_history(instrument = instrument, start = yesterday, end = now,\n",
    "                     granularity = \"S5\", price = \"M\", localize = False)\n",
    "df"
   ]
  },
  {
   "cell_type": "code",
   "execution_count": null,
   "metadata": {},
   "outputs": [],
   "source": [
    "df = df.c.dropna().to_frame()\n",
    "df"
   ]
  },
  {
   "cell_type": "code",
   "execution_count": null,
   "metadata": {},
   "outputs": [],
   "source": [
    "df.rename(columns = {\"c\":instrument}, inplace = True)\n",
    "df"
   ]
  },
  {
   "cell_type": "code",
   "execution_count": null,
   "metadata": {},
   "outputs": [],
   "source": [
    "df = df.resample(\"1min\", label = \"right\").last().dropna().iloc[:-1]\n",
    "df"
   ]
  },
  {
   "cell_type": "code",
   "execution_count": null,
   "metadata": {},
   "outputs": [],
   "source": [
    "last_bar = df.index[-1]\n",
    "last_bar"
   ]
  },
  {
   "cell_type": "code",
   "execution_count": null,
   "metadata": {},
   "outputs": [],
   "source": []
  },
  {
   "cell_type": "markdown",
   "metadata": {},
   "source": [
    "## Working with historical data and real-time tick data (Part 2)"
   ]
  },
  {
   "cell_type": "code",
   "execution_count": null,
   "metadata": {},
   "outputs": [],
   "source": [
    "import pandas as pd\n",
    "import tpqoa\n",
    "from datetime import datetime, timedelta"
   ]
  },
  {
   "cell_type": "code",
   "execution_count": null,
   "metadata": {},
   "outputs": [],
   "source": [
    "class ConTrader(tpqoa.tpqoa):\n",
    "    def __init__(self, conf_file, instrument, bar_length):\n",
    "        super().__init__(conf_file)\n",
    "        self.instrument = instrument\n",
    "        self.bar_length = pd.to_timedelta(bar_length)\n",
    "        self.tick_data = pd.DataFrame()\n",
    "        self.data = None # first defined in get_most_recent()\n",
    "        self.last_bar = None # first defined in get_most_recent()\n",
    "    \n",
    "    def get_most_recent(self, days = 5): # NEW\n",
    "        now = datetime.utcnow()\n",
    "        now = now - timedelta(microseconds = now.microsecond)\n",
    "        past = now - timedelta(days = days)\n",
    "        df = self.get_history(instrument = self.instrument, start = past, end = now,\n",
    "                              granularity = \"S5\", price = \"M\", localize = False).c.dropna().to_frame()\n",
    "        df.rename(columns = {\"c\":self.instrument}, inplace = True)\n",
    "        df = df.resample(self.bar_length, label = \"right\").last().dropna().iloc[:-1]\n",
    "        self.data = df.copy() # first defined\n",
    "        self.last_bar = self.data.index[-1] # first defined\n",
    "            \n",
    "    def on_success(self, time, bid, ask):\n",
    "        print(self.ticks, end = \" \")\n",
    "        \n",
    "        # collect and store tick data\n",
    "        recent_tick = pd.to_datetime(time)\n",
    "        df = pd.DataFrame({self.instrument:(ask + bid)/2}, \n",
    "                          index = [recent_tick])\n",
    "        self.tick_data = self.tick_data.append(df)\n",
    "        \n",
    "        # if a time longer than the bar_lenght has elapsed between last full bar and the most recent tick\n",
    "        if recent_tick - self.last_bar > self.bar_length:\n",
    "            self.resample_and_join()\n",
    "            \n",
    "    def resample_and_join(self):\n",
    "        self.data = self.data.append(self.tick_data.resample(self.bar_length, \n",
    "                                                                  label=\"right\").last().ffill().iloc[:-1])\n",
    "        self.tick_data = self.tick_data.iloc[-1:]\n",
    "        self.last_bar = self.data.index[-1]"
   ]
  },
  {
   "cell_type": "code",
   "execution_count": null,
   "metadata": {},
   "outputs": [],
   "source": [
    "trader = ConTrader(\"oanda.cfg\", \"EUR_USD\", \"1m\")"
   ]
  },
  {
   "cell_type": "code",
   "execution_count": null,
   "metadata": {},
   "outputs": [],
   "source": [
    "print(datetime.utcnow())\n",
    "trader.get_most_recent()\n",
    "trader.stream_data(trader.instrument, stop = 50)"
   ]
  },
  {
   "cell_type": "code",
   "execution_count": null,
   "metadata": {},
   "outputs": [],
   "source": [
    "trader.data#.tail(10)"
   ]
  },
  {
   "cell_type": "code",
   "execution_count": null,
   "metadata": {},
   "outputs": [],
   "source": [
    "trader.tick_data"
   ]
  },
  {
   "cell_type": "code",
   "execution_count": null,
   "metadata": {},
   "outputs": [],
   "source": []
  },
  {
   "cell_type": "markdown",
   "metadata": {},
   "source": [
    "## Working with historical data and real-time tick data (Part 3)"
   ]
  },
  {
   "cell_type": "code",
   "execution_count": null,
   "metadata": {},
   "outputs": [],
   "source": [
    "import pandas as pd\n",
    "import tpqoa\n",
    "from datetime import datetime, timedelta\n",
    "import time"
   ]
  },
  {
   "cell_type": "code",
   "execution_count": null,
   "metadata": {},
   "outputs": [],
   "source": [
    "class ConTrader(tpqoa.tpqoa):\n",
    "    def __init__(self, conf_file, instrument, bar_length):\n",
    "        super().__init__(conf_file)\n",
    "        self.instrument = instrument\n",
    "        self.bar_length = pd.to_timedelta(bar_length)\n",
    "        self.tick_data = pd.DataFrame()\n",
    "        self.data = None \n",
    "        self.last_bar = None\n",
    "        \n",
    "        self.count = 0 # for demonstration purposes only\n",
    "    \n",
    "    def get_most_recent(self, days = 5):\n",
    "        while True: # repeat until we get all historical bars\n",
    "            self.count += 1 # for demonstration purposes only\n",
    "            time.sleep(2)\n",
    "            now = datetime.utcnow()\n",
    "            now = now - timedelta(microseconds = now.microsecond)\n",
    "            past = now - timedelta(days = days)\n",
    "            df = self.get_history(instrument = self.instrument, start = past, end = now,\n",
    "                                   granularity = \"S5\", price = \"M\", localize = False).c.dropna().to_frame()\n",
    "            df.rename(columns = {\"c\":self.instrument}, inplace = True)\n",
    "            df = df.resample(self.bar_length, label = \"right\").last().dropna().iloc[:-1]\n",
    "            self.data = df.copy()\n",
    "            self.last_bar = self.data.index[-1]\n",
    "            # accept, if less than [bar_lenght] has elapsed since the last full historical bar and now\n",
    "            if pd.to_datetime(datetime.utcnow()).tz_localize(\"UTC\") - self.last_bar < self.bar_length:\n",
    "                break\n",
    "            \n",
    "    def on_success(self, time, bid, ask):\n",
    "        print(self.ticks, end = \" \")\n",
    "        \n",
    "        # collect and store tick data\n",
    "        recent_tick = pd.to_datetime(time)\n",
    "        df = pd.DataFrame({self.instrument:(ask + bid)/2}, \n",
    "                          index = [recent_tick])\n",
    "        self.tick_data = self.tick_data.append(df)\n",
    "        \n",
    "        # if a time longer than the bar_lenght has elapsed between last full bar and the most recent tick\n",
    "        if recent_tick - self.last_bar >= self.bar_length:\n",
    "            self.resample_and_join()\n",
    "            \n",
    "    def resample_and_join(self):\n",
    "        self.data = self.data.append(self.tick_data.resample(self.bar_length, \n",
    "                                                                  label=\"right\").last().ffill().iloc[:-1])\n",
    "        self.tick_data = self.tick_data.iloc[-1:]\n",
    "        self.last_bar = self.data.index[-1]"
   ]
  },
  {
   "cell_type": "code",
   "execution_count": null,
   "metadata": {},
   "outputs": [],
   "source": [
    "trader = ConTrader(\"oanda.cfg\", \"EUR_USD\", \"1m\")"
   ]
  },
  {
   "cell_type": "code",
   "execution_count": null,
   "metadata": {},
   "outputs": [],
   "source": [
    "print(datetime.utcnow())\n",
    "trader.get_most_recent()\n",
    "trader.stream_data(trader.instrument, stop = 50)"
   ]
  },
  {
   "cell_type": "code",
   "execution_count": null,
   "metadata": {},
   "outputs": [],
   "source": [
    "trader.data#.tail(10)"
   ]
  },
  {
   "cell_type": "code",
   "execution_count": null,
   "metadata": {},
   "outputs": [],
   "source": [
    "trader.count"
   ]
  },
  {
   "cell_type": "code",
   "execution_count": null,
   "metadata": {},
   "outputs": [],
   "source": []
  },
  {
   "cell_type": "markdown",
   "metadata": {},
   "source": [
    "## Defining a Simple Contrarian Trading Strategy"
   ]
  },
  {
   "cell_type": "code",
   "execution_count": null,
   "metadata": {},
   "outputs": [],
   "source": [
    "import pandas as pd\n",
    "import numpy as np\n",
    "import tpqoa\n",
    "from datetime import datetime, timedelta\n",
    "import time"
   ]
  },
  {
   "cell_type": "code",
   "execution_count": null,
   "metadata": {},
   "outputs": [],
   "source": [
    "class ConTrader(tpqoa.tpqoa):\n",
    "    def __init__(self, conf_file, instrument, bar_length, window):\n",
    "        super().__init__(conf_file)\n",
    "        self.instrument = instrument\n",
    "        self.bar_length = pd.to_timedelta(bar_length)\n",
    "        self.tick_data = pd.DataFrame()\n",
    "        self.raw_data = None # NEW\n",
    "        self.data = None \n",
    "        self.last_bar = None\n",
    "        \n",
    "        #*****************add strategy-specific attributes here******************\n",
    "        self.window = window\n",
    "        #************************************************************************\n",
    "    \n",
    "    def get_most_recent(self, days = 5):\n",
    "        while True:\n",
    "            time.sleep(2)\n",
    "            now = datetime.utcnow()\n",
    "            now = now - timedelta(microseconds = now.microsecond)\n",
    "            past = now - timedelta(days = days)\n",
    "            df = self.get_history(instrument = self.instrument, start = past, end = now,\n",
    "                                   granularity = \"S5\", price = \"M\", localize = False).c.dropna().to_frame()\n",
    "            df.rename(columns = {\"c\":self.instrument}, inplace = True)\n",
    "            df = df.resample(self.bar_length, label = \"right\").last().dropna().iloc[:-1]\n",
    "            self.raw_data = df.copy() # raw!\n",
    "            self.last_bar = self.raw_data.index[-1] # raw!\n",
    "            if pd.to_datetime(datetime.utcnow()).tz_localize(\"UTC\") - self.last_bar < self.bar_length:\n",
    "                break\n",
    "            \n",
    "    def on_success(self, time, bid, ask):\n",
    "        print(self.ticks, end = \" \")\n",
    "        \n",
    "        # collect and store tick data\n",
    "        recent_tick = pd.to_datetime(time)\n",
    "        df = pd.DataFrame({self.instrument:(ask + bid)/2}, \n",
    "                          index = [recent_tick])\n",
    "        self.tick_data = self.tick_data.append(df)\n",
    "        \n",
    "        # if a time longer than the bar_lenght has elapsed between last full bar and the most recent tick\n",
    "        if recent_tick - self.last_bar >= self.bar_length:\n",
    "            self.resample_and_join()\n",
    "            self.define_strategy() # Prepare Data / Strategy Features\n",
    "            \n",
    "    def resample_and_join(self):\n",
    "        self.raw_data = self.raw_data.append(self.tick_data.resample(self.bar_length, \n",
    "                                                                  label=\"right\").last().ffill().iloc[:-1]) # raw!\n",
    "        self.tick_data = self.tick_data.iloc[-1:]\n",
    "        self.last_bar = self.raw_data.index[-1] # raw! \n",
    "        \n",
    "    def define_strategy(self): # \"strategy-specific\"\n",
    "        df = self.raw_data.copy() # self.raw_data new!\n",
    "        \n",
    "        #******************** define your strategy here ************************\n",
    "        df[\"returns\"] = np.log(df[self.instrument] / df[self.instrument].shift())\n",
    "        df[\"position\"] = -np.sign(df.returns.rolling(self.window).mean())\n",
    "        #***********************************************************************\n",
    "        \n",
    "        self.data = df.copy() # first defined here\n"
   ]
  },
  {
   "cell_type": "code",
   "execution_count": null,
   "metadata": {},
   "outputs": [],
   "source": [
    "trader = ConTrader(\"oanda.cfg\", \"EUR_USD\", \"1min\", window = 1)"
   ]
  },
  {
   "cell_type": "code",
   "execution_count": null,
   "metadata": {},
   "outputs": [],
   "source": [
    "print(datetime.utcnow())\n",
    "trader.get_most_recent()\n",
    "trader.stream_data(trader.instrument, stop = 100)"
   ]
  },
  {
   "cell_type": "code",
   "execution_count": null,
   "metadata": {},
   "outputs": [],
   "source": [
    "trader.raw_data"
   ]
  },
  {
   "cell_type": "code",
   "execution_count": null,
   "metadata": {},
   "outputs": [],
   "source": [
    "trader.data"
   ]
  },
  {
   "cell_type": "code",
   "execution_count": null,
   "metadata": {},
   "outputs": [],
   "source": []
  },
  {
   "cell_type": "markdown",
   "metadata": {},
   "source": [
    "## Placing Orders and Executing Trades"
   ]
  },
  {
   "cell_type": "code",
   "execution_count": null,
   "metadata": {},
   "outputs": [],
   "source": [
    "import pandas as pd\n",
    "import numpy as np\n",
    "import tpqoa\n",
    "from datetime import datetime, timedelta\n",
    "import time"
   ]
  },
  {
   "cell_type": "code",
   "execution_count": null,
   "metadata": {},
   "outputs": [],
   "source": [
    "class ConTrader(tpqoa.tpqoa):\n",
    "    def __init__(self, conf_file, instrument, bar_length, window, units):\n",
    "        super().__init__(conf_file)\n",
    "        self.instrument = instrument\n",
    "        self.bar_length = pd.to_timedelta(bar_length)\n",
    "        self.tick_data = pd.DataFrame()\n",
    "        self.raw_data = None\n",
    "        self.data = None \n",
    "        self.last_bar = None\n",
    "        self.units = units # NEW\n",
    "        self.position = 0 # NEW\n",
    "        \n",
    "        #*****************add strategy-specific attributes here******************\n",
    "        self.window = window\n",
    "        #************************************************************************\n",
    "    \n",
    "    def get_most_recent(self, days = 5):\n",
    "        while True:\n",
    "            time.sleep(2)\n",
    "            now = datetime.utcnow()\n",
    "            now = now - timedelta(microseconds = now.microsecond)\n",
    "            past = now - timedelta(days = days)\n",
    "            df = self.get_history(instrument = self.instrument, start = past, end = now,\n",
    "                                   granularity = \"S5\", price = \"M\", localize = False).c.dropna().to_frame()\n",
    "            df.rename(columns = {\"c\":self.instrument}, inplace = True)\n",
    "            df = df.resample(self.bar_length, label = \"right\").last().dropna().iloc[:-1]\n",
    "            self.raw_data = df.copy()\n",
    "            self.last_bar = self.raw_data.index[-1]\n",
    "            if pd.to_datetime(datetime.utcnow()).tz_localize(\"UTC\") - self.last_bar < self.bar_length:\n",
    "                break\n",
    "            \n",
    "    def on_success(self, time, bid, ask):\n",
    "        print(self.ticks, end = \" \")\n",
    "        \n",
    "        # collect and store tick data\n",
    "        recent_tick = pd.to_datetime(time)\n",
    "        df = pd.DataFrame({self.instrument:(ask + bid)/2}, \n",
    "                          index = [recent_tick])\n",
    "        self.tick_data = self.tick_data.append(df)\n",
    "        \n",
    "        # if a time longer than the bar_lenght has elapsed between last full bar and the most recent tick\n",
    "        if recent_tick - self.last_bar >= self.bar_length:\n",
    "            self.resample_and_join()\n",
    "            self.define_strategy()\n",
    "            self.execute_trades() # NEW!\n",
    "            \n",
    "    def resample_and_join(self):\n",
    "        self.raw_data = self.raw_data.append(self.tick_data.resample(self.bar_length, \n",
    "                                                                  label=\"right\").last().ffill().iloc[:-1])\n",
    "        self.tick_data = self.tick_data.iloc[-1:]\n",
    "        self.last_bar = self.raw_data.index[-1]\n",
    "        \n",
    "    def define_strategy(self): # \"strategy-specific\"\n",
    "        df = self.raw_data.copy()\n",
    "        \n",
    "        #******************** define your strategy here ************************\n",
    "        df[\"returns\"] = np.log(df[self.instrument] / df[self.instrument].shift())\n",
    "        df[\"position\"] = -np.sign(df.returns.rolling(self.window).mean())\n",
    "        #***********************************************************************\n",
    "        \n",
    "        self.data = df.copy()\n",
    "        \n",
    "    def execute_trades(self): # NEW!\n",
    "        if self.data[\"position\"].iloc[-1] == 1: # if position is long -> go/stay long\n",
    "            if self.position == 0:\n",
    "                order = self.create_order(self.instrument, self.units, suppress = True, ret = True)\n",
    "                print(\"GOING LONG\")\n",
    "            elif self.position == -1:\n",
    "                order = self.create_order(self.instrument, self.units * 2, suppress = True, ret = True) \n",
    "                print(\"GOING LONG\")\n",
    "            self.position = 1\n",
    "        elif self.data[\"position\"].iloc[-1] == -1: # if position is short -> go/stay short\n",
    "            if self.position == 0:\n",
    "                order = self.create_order(self.instrument, -self.units, suppress = True, ret = True)\n",
    "                print(\"GOING SHORT\")\n",
    "            elif self.position == 1:\n",
    "                order = self.create_order(self.instrument, -self.units * 2, suppress = True, ret = True)\n",
    "                print(\"GOING SHORT\")\n",
    "            self.position = -1\n",
    "        elif self.data[\"position\"].iloc[-1] == 0:  # if position is neutral -> go/stay neutral\n",
    "            if self.position == -1:\n",
    "                order = self.create_order(self.instrument, self.units, suppress = True, ret = True) \n",
    "                print(\"GOING NEUTRAL\")\n",
    "            elif self.position == 1:\n",
    "                order = self.create_order(self.instrument, -self.units, suppress = True, ret = True)\n",
    "                print(\"GOING NEUTRAL\")\n",
    "            self.position = 0"
   ]
  },
  {
   "cell_type": "code",
   "execution_count": null,
   "metadata": {},
   "outputs": [],
   "source": [
    "trader = ConTrader(\"oanda.cfg\", \"EUR_USD\", \"1min\", window = 1, units = 100000)"
   ]
  },
  {
   "cell_type": "code",
   "execution_count": null,
   "metadata": {},
   "outputs": [],
   "source": [
    "trader.get_most_recent()\n",
    "trader.stream_data(trader.instrument, stop = 100)"
   ]
  },
  {
   "cell_type": "code",
   "execution_count": null,
   "metadata": {},
   "outputs": [],
   "source": [
    "trader.position"
   ]
  },
  {
   "cell_type": "code",
   "execution_count": null,
   "metadata": {},
   "outputs": [],
   "source": [
    "trader.units"
   ]
  },
  {
   "cell_type": "code",
   "execution_count": null,
   "metadata": {},
   "outputs": [],
   "source": [
    "trader.get_positions()"
   ]
  },
  {
   "cell_type": "code",
   "execution_count": null,
   "metadata": {},
   "outputs": [],
   "source": [
    "if trader.position != 0: # if we have a final open position\n",
    "    order = trader.create_order(trader.instrument, units = -trader.position * trader.units, \n",
    "                                      suppress = True, ret = True) \n",
    "    trader.position = 0"
   ]
  },
  {
   "cell_type": "code",
   "execution_count": null,
   "metadata": {},
   "outputs": [],
   "source": [
    "trader.data"
   ]
  },
  {
   "cell_type": "code",
   "execution_count": null,
   "metadata": {},
   "outputs": [],
   "source": []
  },
  {
   "cell_type": "markdown",
   "metadata": {},
   "source": [
    "## Trade Monitoring and Reporting"
   ]
  },
  {
   "cell_type": "code",
   "execution_count": null,
   "metadata": {},
   "outputs": [],
   "source": [
    "import pandas as pd\n",
    "import numpy as np\n",
    "import tpqoa\n",
    "from datetime import datetime, timedelta\n",
    "import time"
   ]
  },
  {
   "cell_type": "code",
   "execution_count": null,
   "metadata": {},
   "outputs": [],
   "source": [
    "class ConTrader(tpqoa.tpqoa):\n",
    "    def __init__(self, conf_file, instrument, bar_length, window, units):\n",
    "        super().__init__(conf_file)\n",
    "        self.instrument = instrument\n",
    "        self.bar_length = pd.to_timedelta(bar_length)\n",
    "        self.tick_data = pd.DataFrame()\n",
    "        self.raw_data = None\n",
    "        self.data = None \n",
    "        self.last_bar = None\n",
    "        self.units = units\n",
    "        self.position = 0\n",
    "        self.profits = [] # NEW\n",
    "        \n",
    "        #*****************add strategy-specific attributes here******************\n",
    "        self.window = window\n",
    "        #************************************************************************\n",
    "    \n",
    "    def get_most_recent(self, days = 5):\n",
    "        while True:\n",
    "            time.sleep(2)\n",
    "            now = datetime.utcnow()\n",
    "            now = now - timedelta(microseconds = now.microsecond)\n",
    "            past = now - timedelta(days = days)\n",
    "            df = self.get_history(instrument = self.instrument, start = past, end = now,\n",
    "                                   granularity = \"S5\", price = \"M\", localize = False).c.dropna().to_frame()\n",
    "            df.rename(columns = {\"c\":self.instrument}, inplace = True)\n",
    "            df = df.resample(self.bar_length, label = \"right\").last().dropna().iloc[:-1]\n",
    "            self.raw_data = df.copy()\n",
    "            self.last_bar = self.raw_data.index[-1]\n",
    "            if pd.to_datetime(datetime.utcnow()).tz_localize(\"UTC\") - self.last_bar < self.bar_length:\n",
    "                break\n",
    "            \n",
    "    def on_success(self, time, bid, ask):\n",
    "        print(self.ticks, end = \" \")\n",
    "        \n",
    "        # collect and store tick data\n",
    "        recent_tick = pd.to_datetime(time)\n",
    "        df = pd.DataFrame({self.instrument:(ask + bid)/2}, \n",
    "                          index = [recent_tick])\n",
    "        self.tick_data = self.tick_data.append(df)\n",
    "        \n",
    "        # if a time longer than the bar_lenght has elapsed between last full bar and the most recent tick\n",
    "        if recent_tick - self.last_bar >= self.bar_length:\n",
    "            self.resample_and_join()\n",
    "            self.define_strategy()\n",
    "            self.execute_trades()\n",
    "            \n",
    "    def resample_and_join(self):\n",
    "        self.raw_data = self.raw_data.append(self.tick_data.resample(self.bar_length, \n",
    "                                                                  label=\"right\").last().ffill().iloc[:-1])\n",
    "        self.tick_data = self.tick_data.iloc[-1:]\n",
    "        self.last_bar = self.raw_data.index[-1]\n",
    "        \n",
    "    def define_strategy(self): # \"strategy-specific\"\n",
    "        df = self.raw_data.copy()\n",
    "        \n",
    "        #******************** define your strategy here ************************\n",
    "        df[\"returns\"] = np.log(df[self.instrument] / df[self.instrument].shift())\n",
    "        df[\"position\"] = -np.sign(df.returns.rolling(self.window).mean())\n",
    "        #***********************************************************************\n",
    "        \n",
    "        self.data = df.copy()\n",
    "        \n",
    "    def execute_trades(self):\n",
    "        if self.data[\"position\"].iloc[-1] == 1:\n",
    "            if self.position == 0:\n",
    "                order = self.create_order(self.instrument, self.units, suppress = True, ret = True)\n",
    "                self.report_trade(order, \"GOING LONG\")  # NEW\n",
    "            elif self.position == -1:\n",
    "                order = self.create_order(self.instrument, self.units * 2, suppress = True, ret = True) \n",
    "                self.report_trade(order, \"GOING LONG\")  # NEW\n",
    "            self.position = 1\n",
    "        elif self.data[\"position\"].iloc[-1] == -1: \n",
    "            if self.position == 0:\n",
    "                order = self.create_order(self.instrument, -self.units, suppress = True, ret = True)\n",
    "                self.report_trade(order, \"GOING SHORT\")  # NEW\n",
    "            elif self.position == 1:\n",
    "                order = self.create_order(self.instrument, -self.units * 2, suppress = True, ret = True)\n",
    "                self.report_trade(order, \"GOING SHORT\")  # NEW\n",
    "            self.position = -1\n",
    "        elif self.data[\"position\"].iloc[-1] == 0: \n",
    "            if self.position == -1:\n",
    "                order = self.create_order(self.instrument, self.units, suppress = True, ret = True) \n",
    "                self.report_trade(order, \"GOING NEUTRAL\")  # NEW\n",
    "            elif self.position == 1:\n",
    "                order = self.create_order(self.instrument, -self.units, suppress = True, ret = True)\n",
    "                self.report_trade(order, \"GOING NEUTRAL\")  # NEW\n",
    "            self.position = 0\n",
    "    \n",
    "    def report_trade(self, order, going):  # NEW\n",
    "        time = order[\"time\"]\n",
    "        units = order[\"units\"]\n",
    "        price = order[\"price\"]\n",
    "        pl = float(order[\"pl\"])\n",
    "        self.profits.append(pl)\n",
    "        cumpl = sum(self.profits)\n",
    "        print(\"\\n\" + 100* \"-\")\n",
    "        print(\"{} | {}\".format(time, going))\n",
    "        print(\"{} | units = {} | price = {} | P&L = {} | Cum P&L = {}\".format(time, units, price, pl, cumpl))\n",
    "        print(100 * \"-\" + \"\\n\")  \n",
    "    "
   ]
  },
  {
   "cell_type": "code",
   "execution_count": null,
   "metadata": {},
   "outputs": [],
   "source": [
    "trader = ConTrader(\"oanda.cfg\", \"EUR_USD\", \"1min\", window = 1, units = 100000)"
   ]
  },
  {
   "cell_type": "code",
   "execution_count": null,
   "metadata": {},
   "outputs": [],
   "source": [
    "trader.get_most_recent()\n",
    "trader.stream_data(trader.instrument, stop = 150)\n",
    "if trader.position != 0: # if we have a final open position\n",
    "    close_order = trader.create_order(trader.instrument, units = -trader.position * trader.units, \n",
    "                                      suppress = True, ret = True) \n",
    "    trader.report_trade(close_order, \"GOING NEUTRAL\")\n",
    "    trader.position = 0"
   ]
  },
  {
   "cell_type": "code",
   "execution_count": null,
   "metadata": {},
   "outputs": [],
   "source": [
    "trader.get_positions()"
   ]
  },
  {
   "cell_type": "code",
   "execution_count": null,
   "metadata": {},
   "outputs": [],
   "source": [
    "trader.profits"
   ]
  },
  {
   "cell_type": "code",
   "execution_count": null,
   "metadata": {},
   "outputs": [],
   "source": [
    "sum(trader.profits)"
   ]
  },
  {
   "cell_type": "code",
   "execution_count": null,
   "metadata": {},
   "outputs": [],
   "source": [
    "trader.data.tail(10)"
   ]
  },
  {
   "cell_type": "code",
   "execution_count": null,
   "metadata": {},
   "outputs": [],
   "source": [
    "trader.tick_data"
   ]
  },
  {
   "cell_type": "code",
   "execution_count": null,
   "metadata": {},
   "outputs": [],
   "source": []
  },
  {
   "cell_type": "markdown",
   "metadata": {},
   "source": [
    "## Trading other Strategies - Coding Challenge"
   ]
  },
  {
   "cell_type": "code",
   "execution_count": null,
   "metadata": {},
   "outputs": [],
   "source": [
    "import pandas as pd\n",
    "import numpy as np\n",
    "import tpqoa\n",
    "from datetime import datetime, timedelta\n",
    "import time\n",
    "import matplotlib.pyplot as plt\n",
    "plt.style.use(\"seaborn\")"
   ]
  },
  {
   "cell_type": "markdown",
   "metadata": {},
   "source": [
    "__Strategy 1__: SMA 50/200 (minutes) Crossover (200 ticks)"
   ]
  },
  {
   "cell_type": "markdown",
   "metadata": {},
   "source": [
    "## Stop here if you don´t want to see the solution!"
   ]
  },
  {
   "cell_type": "markdown",
   "metadata": {},
   "source": [
    "###############################################################"
   ]
  },
  {
   "cell_type": "code",
   "execution_count": null,
   "metadata": {},
   "outputs": [],
   "source": []
  },
  {
   "cell_type": "code",
   "execution_count": null,
   "metadata": {},
   "outputs": [],
   "source": []
  },
  {
   "cell_type": "code",
   "execution_count": null,
   "metadata": {},
   "outputs": [],
   "source": [
    "class SMATrader(tpqoa.tpqoa):\n",
    "    def __init__(self, conf_file, instrument, bar_length, SMA_S, SMA_L, units):\n",
    "        super().__init__(conf_file)\n",
    "        self.instrument = instrument\n",
    "        self.bar_length = pd.to_timedelta(bar_length)\n",
    "        self.tick_data = pd.DataFrame()\n",
    "        self.raw_data = None\n",
    "        self.data = None \n",
    "        self.last_bar = None\n",
    "        self.units = units\n",
    "        self.position = 0\n",
    "        self.profits = []\n",
    "        \n",
    "        #*****************add strategy-specific attributes here******************\n",
    "        self.SMA_S = SMA_S\n",
    "        self.SMA_L = SMA_L\n",
    "        #************************************************************************\n",
    "    \n",
    "    def get_most_recent(self, days = 5):\n",
    "        while True:\n",
    "            time.sleep(2)\n",
    "            now = datetime.utcnow()\n",
    "            now = now - timedelta(microseconds = now.microsecond)\n",
    "            past = now - timedelta(days = days)\n",
    "            df = self.get_history(instrument = self.instrument, start = past, end = now,\n",
    "                                   granularity = \"S5\", price = \"M\", localize = False).c.dropna().to_frame()\n",
    "            df.rename(columns = {\"c\":self.instrument}, inplace = True)\n",
    "            df = df.resample(self.bar_length, label = \"right\").last().dropna().iloc[:-1]\n",
    "            self.raw_data = df.copy()\n",
    "            self.last_bar = self.raw_data.index[-1]\n",
    "            if pd.to_datetime(datetime.utcnow()).tz_localize(\"UTC\") - self.last_bar < self.bar_length:\n",
    "                break\n",
    "                \n",
    "    def on_success(self, time, bid, ask):\n",
    "        print(self.ticks, end = \" \")\n",
    "        \n",
    "        recent_tick = pd.to_datetime(time)\n",
    "        df = pd.DataFrame({self.instrument:(ask + bid)/2}, \n",
    "                          index = [recent_tick])\n",
    "        self.tick_data = self.tick_data.append(df)\n",
    "        \n",
    "        if recent_tick - self.last_bar > self.bar_length:\n",
    "            self.resample_and_join()\n",
    "            self.define_strategy()\n",
    "            self.execute_trades()\n",
    "    \n",
    "    def resample_and_join(self):\n",
    "        self.raw_data = self.raw_data.append(self.tick_data.resample(self.bar_length, \n",
    "                                                                  label=\"right\").last().ffill().iloc[:-1])\n",
    "        self.tick_data = self.tick_data.iloc[-1:]\n",
    "        self.last_bar = self.raw_data.index[-1]\n",
    "    \n",
    "    def define_strategy(self): # \"strategy-specific\"\n",
    "        df = self.raw_data.copy()\n",
    "        \n",
    "        #******************** define your strategy here ************************\n",
    "        df[\"SMA_S\"] = df[self.instrument].rolling(self.SMA_S).mean()\n",
    "        df[\"SMA_L\"] = df[self.instrument].rolling(self.SMA_L).mean()\n",
    "        df[\"position\"] = np.where(df[\"SMA_S\"] > df[\"SMA_L\"], 1, -1)\n",
    "        #***********************************************************************\n",
    "        \n",
    "        self.data = df.copy()\n",
    "    \n",
    "    def execute_trades(self):\n",
    "        if self.data[\"position\"].iloc[-1] == 1:\n",
    "            if self.position == 0:\n",
    "                order = self.create_order(self.instrument, self.units, suppress = True, ret = True)\n",
    "                self.report_trade(order, \"GOING LONG\")\n",
    "            elif self.position == -1:\n",
    "                order = self.create_order(self.instrument, self.units * 2, suppress = True, ret = True) \n",
    "                self.report_trade(order, \"GOING LONG\")\n",
    "            self.position = 1\n",
    "        elif self.data[\"position\"].iloc[-1] == -1: \n",
    "            if self.position == 0:\n",
    "                order = self.create_order(self.instrument, -self.units, suppress = True, ret = True)\n",
    "                self.report_trade(order, \"GOING SHORT\")\n",
    "            elif self.position == 1:\n",
    "                order = self.create_order(self.instrument, -self.units * 2, suppress = True, ret = True)\n",
    "                self.report_trade(order, \"GOING SHORT\")\n",
    "            self.position = -1\n",
    "        elif self.data[\"position\"].iloc[-1] == 0: \n",
    "            if self.position == -1:\n",
    "                order = self.create_order(self.instrument, self.units, suppress = True, ret = True)\n",
    "                self.report_trade(order, \"GOING NEUTRAL\")\n",
    "            elif self.position == 1:\n",
    "                order = self.create_order(self.instrument, -self.units, suppress = True, ret = True) \n",
    "                self.report_trade(order, \"GOING NEUTRAL\")\n",
    "            self.position = 0\n",
    "    \n",
    "    def report_trade(self, order, going):\n",
    "        time = order[\"time\"]\n",
    "        units = order[\"units\"]\n",
    "        price = order[\"price\"]\n",
    "        pl = float(order[\"pl\"])\n",
    "        self.profits.append(pl)\n",
    "        cumpl = sum(self.profits)\n",
    "        print(\"\\n\" + 100* \"-\")\n",
    "        print(\"{} | {}\".format(time, going))\n",
    "        print(\"{} | units = {} | price = {} | P&L = {} | Cum P&L = {}\".format(time, units, price, pl, cumpl))\n",
    "        print(100 * \"-\" + \"\\n\")  \n",
    "    "
   ]
  },
  {
   "cell_type": "code",
   "execution_count": null,
   "metadata": {},
   "outputs": [],
   "source": [
    "trader = SMATrader(\"oanda.cfg\", \"EUR_USD\", \"1min\", SMA_S = 50, SMA_L = 200, units = 100000)"
   ]
  },
  {
   "cell_type": "code",
   "execution_count": null,
   "metadata": {},
   "outputs": [],
   "source": [
    "trader.get_most_recent()\n",
    "trader.stream_data(trader.instrument, stop = 200)\n",
    "if trader.position != 0: # if we have a final open position\n",
    "    close_order = trader.create_order(trader.instrument, units = -trader.position * trader.units, \n",
    "                                      suppress = True, ret = True) \n",
    "    trader.report_trade(close_order, \"GOING NEUTRAL\")\n",
    "    trader.position = 0"
   ]
  },
  {
   "cell_type": "code",
   "execution_count": null,
   "metadata": {},
   "outputs": [],
   "source": [
    "trader.data#.tail(20)"
   ]
  },
  {
   "cell_type": "code",
   "execution_count": null,
   "metadata": {},
   "outputs": [],
   "source": [
    "trader.data.tail(30).plot(figsize = (12, 8), secondary_y = \"position\")\n",
    "plt.show()"
   ]
  },
  {
   "cell_type": "code",
   "execution_count": null,
   "metadata": {},
   "outputs": [],
   "source": []
  },
  {
   "cell_type": "markdown",
   "metadata": {},
   "source": [
    "__Strategy 2__: Bollinger Bands SMA 20 (minutes) / 1 Standard Deviation (200 ticks) "
   ]
  },
  {
   "cell_type": "markdown",
   "metadata": {},
   "source": [
    "## Stop here if you don´t want to see the solution!"
   ]
  },
  {
   "cell_type": "markdown",
   "metadata": {},
   "source": [
    "###############################################################"
   ]
  },
  {
   "cell_type": "code",
   "execution_count": null,
   "metadata": {},
   "outputs": [],
   "source": []
  },
  {
   "cell_type": "code",
   "execution_count": null,
   "metadata": {},
   "outputs": [],
   "source": []
  },
  {
   "cell_type": "code",
   "execution_count": null,
   "metadata": {},
   "outputs": [],
   "source": []
  },
  {
   "cell_type": "code",
   "execution_count": null,
   "metadata": {},
   "outputs": [],
   "source": []
  },
  {
   "cell_type": "code",
   "execution_count": null,
   "metadata": {},
   "outputs": [],
   "source": [
    "class BollTrader(tpqoa.tpqoa):\n",
    "    def __init__(self, conf_file, instrument, bar_length, SMA, dev, units):\n",
    "        super().__init__(conf_file)\n",
    "        self.instrument = instrument\n",
    "        self.bar_length = pd.to_timedelta(bar_length)\n",
    "        self.tick_data = pd.DataFrame()\n",
    "        self.raw_data = None\n",
    "        self.data = None \n",
    "        self.last_bar = None\n",
    "        self.units = units\n",
    "        self.position = 0\n",
    "        self.profits = []\n",
    "        \n",
    "        #*****************add strategy-specific attributes here******************\n",
    "        self.SMA = SMA\n",
    "        self.dev = dev\n",
    "        #************************************************************************\n",
    "    \n",
    "    def get_most_recent(self, days = 5):\n",
    "        while True:\n",
    "            time.sleep(2)\n",
    "            now = datetime.utcnow()\n",
    "            now = now - timedelta(microseconds = now.microsecond)\n",
    "            past = now - timedelta(days = days)\n",
    "            df = self.get_history(instrument = self.instrument, start = past, end = now,\n",
    "                                   granularity = \"S5\", price = \"M\", localize = False).c.dropna().to_frame()\n",
    "            df.rename(columns = {\"c\":self.instrument}, inplace = True)\n",
    "            df = df.resample(self.bar_length, label = \"right\").last().dropna().iloc[:-1]\n",
    "            self.raw_data = df.copy()\n",
    "            self.last_bar = self.raw_data.index[-1]\n",
    "            if pd.to_datetime(datetime.utcnow()).tz_localize(\"UTC\") - self.last_bar < self.bar_length:\n",
    "                break\n",
    "                \n",
    "    def on_success(self, time, bid, ask):\n",
    "        print(self.ticks, end = \" \")\n",
    "        \n",
    "        recent_tick = pd.to_datetime(time)\n",
    "        df = pd.DataFrame({self.instrument:(ask + bid)/2}, \n",
    "                          index = [recent_tick])\n",
    "        self.tick_data = self.tick_data.append(df)\n",
    "        \n",
    "        if recent_tick - self.last_bar > self.bar_length:\n",
    "            self.resample_and_join()\n",
    "            self.define_strategy()\n",
    "            self.execute_trades()\n",
    "    \n",
    "    def resample_and_join(self):\n",
    "        self.raw_data = self.raw_data.append(self.tick_data.resample(self.bar_length, \n",
    "                                                                  label=\"right\").last().ffill().iloc[:-1])\n",
    "        self.tick_data = self.tick_data.iloc[-1:]\n",
    "        self.last_bar = self.raw_data.index[-1]\n",
    "    \n",
    "    def define_strategy(self): # \"strategy-specific\"\n",
    "        df = self.raw_data.copy()\n",
    "        \n",
    "        #******************** define your strategy here ************************\n",
    "        df[\"SMA\"] = df[self.instrument].rolling(self.SMA).mean()\n",
    "        df[\"Lower\"] = df[\"SMA\"] - df[self.instrument].rolling(self.SMA).std() * self.dev\n",
    "        df[\"Upper\"] = df[\"SMA\"] + df[self.instrument].rolling(self.SMA).std() * self.dev\n",
    "        df[\"distance\"] = df[self.instrument] - df.SMA\n",
    "        df[\"position\"] = np.where(df[self.instrument] < df.Lower, 1, np.nan)\n",
    "        df[\"position\"] = np.where(df[self.instrument] > df.Upper, -1, df[\"position\"])\n",
    "        df[\"position\"] = np.where(df.distance * df.distance.shift(1) < 0, 0, df[\"position\"])\n",
    "        df[\"position\"] = df.position.ffill().fillna(0)\n",
    "        #***********************************************************************\n",
    "        \n",
    "        self.data = df.copy()\n",
    "    \n",
    "    def execute_trades(self):\n",
    "        if self.data[\"position\"].iloc[-1] == 1:\n",
    "            if self.position == 0:\n",
    "                order = self.create_order(self.instrument, self.units, suppress = True, ret = True)\n",
    "                self.report_trade(order, \"GOING LONG\")\n",
    "            elif self.position == -1:\n",
    "                order = self.create_order(self.instrument, self.units * 2, suppress = True, ret = True) \n",
    "                self.report_trade(order, \"GOING LONG\")\n",
    "            self.position = 1\n",
    "        elif self.data[\"position\"].iloc[-1] == -1: \n",
    "            if self.position == 0:\n",
    "                order = self.create_order(self.instrument, -self.units, suppress = True, ret = True)\n",
    "                self.report_trade(order, \"GOING SHORT\")\n",
    "            elif self.position == 1:\n",
    "                order = self.create_order(self.instrument, -self.units * 2, suppress = True, ret = True)\n",
    "                self.report_trade(order, \"GOING SHORT\")\n",
    "            self.position = -1\n",
    "        elif self.data[\"position\"].iloc[-1] == 0: \n",
    "            if self.position == -1:\n",
    "                order = self.create_order(self.instrument, self.units, suppress = True, ret = True) \n",
    "                self.report_trade(order, \"GOING NEUTRAL\")\n",
    "            elif self.position == 1:\n",
    "                order = self.create_order(self.instrument, -self.units, suppress = True, ret = True)\n",
    "                self.report_trade(order, \"GOING NEUTRAL\")\n",
    "            self.position = 0\n",
    "    \n",
    "    def report_trade(self, order, going):\n",
    "        time = order[\"time\"]\n",
    "        units = order[\"units\"]\n",
    "        price = order[\"price\"]\n",
    "        pl = float(order[\"pl\"])\n",
    "        self.profits.append(pl)\n",
    "        cumpl = sum(self.profits)\n",
    "        print(\"\\n\" + 100* \"-\")\n",
    "        print(\"{} | {}\".format(time, going))\n",
    "        print(\"{} | units = {} | price = {} | P&L = {} | Cum P&L = {}\".format(time, units, price, pl, cumpl))\n",
    "        print(100 * \"-\" + \"\\n\")  \n",
    " "
   ]
  },
  {
   "cell_type": "code",
   "execution_count": null,
   "metadata": {},
   "outputs": [],
   "source": [
    "trader = BollTrader(\"oanda.cfg\", \"EUR_USD\", \"1min\", SMA = 20, dev = 1, units = 100000)"
   ]
  },
  {
   "cell_type": "code",
   "execution_count": null,
   "metadata": {},
   "outputs": [],
   "source": [
    "trader.get_most_recent()\n",
    "trader.stream_data(trader.instrument, stop = 200)\n",
    "if trader.position != 0: # if we have a final open position\n",
    "    close_order = trader.create_order(trader.instrument, units = -trader.position * trader.units, \n",
    "                                      suppress = True, ret = True) \n",
    "    trader.report_trade(close_order, \"GOING NEUTRAL\")\n",
    "    trader.position = 0"
   ]
  },
  {
   "cell_type": "code",
   "execution_count": null,
   "metadata": {},
   "outputs": [],
   "source": [
    "trader.data"
   ]
  },
  {
   "cell_type": "code",
   "execution_count": null,
   "metadata": {},
   "outputs": [],
   "source": [
    "trader.data.tail(20)[[\"EUR_USD\", \"SMA\", \"Lower\", \"Upper\"]].plot(figsize = (12, 8))\n",
    "plt.show()"
   ]
  },
  {
   "cell_type": "code",
   "execution_count": null,
   "metadata": {},
   "outputs": [],
   "source": []
  },
  {
   "cell_type": "markdown",
   "metadata": {},
   "source": [
    "## Machine Learning Strategies (1) - Model Fitting"
   ]
  },
  {
   "cell_type": "code",
   "execution_count": null,
   "metadata": {},
   "outputs": [],
   "source": [
    "import pandas as pd\n",
    "import numpy as np\n",
    "from sklearn.linear_model import LogisticRegression"
   ]
  },
  {
   "cell_type": "code",
   "execution_count": null,
   "metadata": {},
   "outputs": [],
   "source": [
    "data = pd.read_csv(\"five_minute.csv\", parse_dates = [\"time\"], index_col = \"time\")"
   ]
  },
  {
   "cell_type": "code",
   "execution_count": null,
   "metadata": {},
   "outputs": [],
   "source": [
    "data"
   ]
  },
  {
   "cell_type": "code",
   "execution_count": null,
   "metadata": {},
   "outputs": [],
   "source": [
    "data[\"returns\"] = np.log(data.div(data.shift(1)))"
   ]
  },
  {
   "cell_type": "code",
   "execution_count": null,
   "metadata": {},
   "outputs": [],
   "source": [
    "data.dropna(inplace = True)"
   ]
  },
  {
   "cell_type": "code",
   "execution_count": null,
   "metadata": {},
   "outputs": [],
   "source": [
    "data[\"direction\"] = np.sign(data.returns)"
   ]
  },
  {
   "cell_type": "code",
   "execution_count": null,
   "metadata": {},
   "outputs": [],
   "source": [
    "data"
   ]
  },
  {
   "cell_type": "code",
   "execution_count": null,
   "metadata": {},
   "outputs": [],
   "source": [
    "lags = 2"
   ]
  },
  {
   "cell_type": "code",
   "execution_count": null,
   "metadata": {},
   "outputs": [],
   "source": [
    "cols = []\n",
    "for lag in range(1, lags + 1):\n",
    "    col = \"lag{}\".format(lag)\n",
    "    data[col] = data.returns.shift(lag)\n",
    "    cols.append(col)\n",
    "data.dropna(inplace = True)"
   ]
  },
  {
   "cell_type": "code",
   "execution_count": null,
   "metadata": {},
   "outputs": [],
   "source": [
    "data"
   ]
  },
  {
   "cell_type": "code",
   "execution_count": null,
   "metadata": {},
   "outputs": [],
   "source": [
    "lm = LogisticRegression(C = 1e6, max_iter = 100000, multi_class = \"ovr\")"
   ]
  },
  {
   "cell_type": "code",
   "execution_count": null,
   "metadata": {},
   "outputs": [],
   "source": [
    "lm.fit(data[cols], data.direction)"
   ]
  },
  {
   "cell_type": "code",
   "execution_count": null,
   "metadata": {},
   "outputs": [],
   "source": [
    "lm"
   ]
  },
  {
   "cell_type": "markdown",
   "metadata": {},
   "source": [
    "__In-Sample \"Prediction\"__"
   ]
  },
  {
   "cell_type": "code",
   "execution_count": null,
   "metadata": {},
   "outputs": [],
   "source": [
    "data[\"pred\"] = lm.predict(data[cols])"
   ]
  },
  {
   "cell_type": "code",
   "execution_count": null,
   "metadata": {},
   "outputs": [],
   "source": [
    "data"
   ]
  },
  {
   "cell_type": "code",
   "execution_count": null,
   "metadata": {},
   "outputs": [],
   "source": [
    "hits = np.sign(data.direction * data.pred).value_counts()"
   ]
  },
  {
   "cell_type": "code",
   "execution_count": null,
   "metadata": {},
   "outputs": [],
   "source": [
    "hits"
   ]
  },
  {
   "cell_type": "code",
   "execution_count": null,
   "metadata": {},
   "outputs": [],
   "source": [
    "hit_ratio = hits[1.0] / sum(hits)\n",
    "hit_ratio"
   ]
  },
  {
   "cell_type": "code",
   "execution_count": null,
   "metadata": {},
   "outputs": [],
   "source": [
    "lm"
   ]
  },
  {
   "cell_type": "markdown",
   "metadata": {},
   "source": [
    "__Saving the model__"
   ]
  },
  {
   "cell_type": "code",
   "execution_count": null,
   "metadata": {},
   "outputs": [],
   "source": [
    "import pickle"
   ]
  },
  {
   "cell_type": "code",
   "execution_count": null,
   "metadata": {},
   "outputs": [],
   "source": [
    "pickle.dump(lm, open(\"logreg.pkl\", \"wb\"))"
   ]
  },
  {
   "cell_type": "code",
   "execution_count": null,
   "metadata": {},
   "outputs": [],
   "source": []
  },
  {
   "cell_type": "markdown",
   "metadata": {},
   "source": [
    "## Machine Learning Strategies (2) - Implementation"
   ]
  },
  {
   "cell_type": "code",
   "execution_count": null,
   "metadata": {},
   "outputs": [],
   "source": [
    "import pandas as pd\n",
    "import numpy as np\n",
    "from sklearn.linear_model import LogisticRegression\n",
    "import tpqoa\n",
    "from datetime import datetime, timedelta\n",
    "import time\n",
    "import pickle"
   ]
  },
  {
   "cell_type": "code",
   "execution_count": null,
   "metadata": {},
   "outputs": [],
   "source": [
    "class MLTrader(tpqoa.tpqoa):\n",
    "    def __init__(self, conf_file, instrument, bar_length, lags, model, units):\n",
    "        super().__init__(conf_file)\n",
    "        self.instrument = instrument\n",
    "        self.bar_length = pd.to_timedelta(bar_length)\n",
    "        self.tick_data = pd.DataFrame()\n",
    "        self.raw_data = None\n",
    "        self.data = None \n",
    "        self.last_bar = None\n",
    "        self.units = units\n",
    "        self.position = 0\n",
    "        self.profits = []\n",
    "        \n",
    "        #*****************add strategy-specific attributes here******************\n",
    "        self.lags = lags\n",
    "        self.model = model\n",
    "        #************************************************************************\n",
    "    \n",
    "    def get_most_recent(self, days = 5):\n",
    "        while True:\n",
    "            time.sleep(2)\n",
    "            now = datetime.utcnow()\n",
    "            now = now - timedelta(microseconds = now.microsecond)\n",
    "            past = now - timedelta(days = days)\n",
    "            df = self.get_history(instrument = self.instrument, start = past, end = now,\n",
    "                                   granularity = \"S5\", price = \"M\", localize = False).c.dropna().to_frame()\n",
    "            df.rename(columns = {\"c\":self.instrument}, inplace = True)\n",
    "            df = df.resample(self.bar_length, label = \"right\").last().dropna().iloc[:-1]\n",
    "            self.raw_data = df.copy()\n",
    "            self.last_bar = self.raw_data.index[-1]\n",
    "            if pd.to_datetime(datetime.utcnow()).tz_localize(\"UTC\") - self.last_bar < self.bar_length:\n",
    "                break\n",
    "                \n",
    "    def on_success(self, time, bid, ask):\n",
    "        print(self.ticks, end = \" \")\n",
    "        \n",
    "        recent_tick = pd.to_datetime(time)\n",
    "        df = pd.DataFrame({self.instrument:(ask + bid)/2}, \n",
    "                          index = [recent_tick])\n",
    "        self.tick_data = self.tick_data.append(df)\n",
    "        \n",
    "        if recent_tick - self.last_bar > self.bar_length:\n",
    "            self.resample_and_join()\n",
    "            self.define_strategy()\n",
    "            self.execute_trades()\n",
    "    \n",
    "    def resample_and_join(self):\n",
    "        self.raw_data = self.raw_data.append(self.tick_data.resample(self.bar_length, \n",
    "                                                                  label=\"right\").last().ffill().iloc[:-1])\n",
    "        self.tick_data = self.tick_data.iloc[-1:]\n",
    "        self.last_bar = self.raw_data.index[-1]\n",
    "    \n",
    "    def define_strategy(self): # \"strategy-specific\"\n",
    "        df = self.raw_data.copy()\n",
    "        \n",
    "        #******************** define your strategy here ************************\n",
    "        df = df.append(self.tick_data) # append latest tick (== open price of current bar)\n",
    "        df[\"returns\"] = np.log(df[self.instrument] / df[self.instrument].shift())\n",
    "        cols = []\n",
    "        for lag in range(1, self.lags + 1):\n",
    "            col = \"lag{}\".format(lag)\n",
    "            df[col] = df.returns.shift(lag)\n",
    "            cols.append(col)\n",
    "        df.dropna(inplace = True)\n",
    "        df[\"position\"] = lm.predict(df[cols])\n",
    "        #***********************************************************************\n",
    "        \n",
    "        self.data = df.copy()\n",
    "    \n",
    "    def execute_trades(self):\n",
    "        if self.data[\"position\"].iloc[-1] == 1:\n",
    "            if self.position == 0:\n",
    "                order = self.create_order(self.instrument, self.units, suppress = True, ret = True)\n",
    "                self.report_trade(order, \"GOING LONG\")\n",
    "            elif self.position == -1:\n",
    "                order = self.create_order(self.instrument, self.units * 2, suppress = True, ret = True) \n",
    "                self.report_trade(order, \"GOING LONG\")\n",
    "            self.position = 1\n",
    "        elif self.data[\"position\"].iloc[-1] == -1: \n",
    "            if self.position == 0:\n",
    "                order = self.create_order(self.instrument, -self.units, suppress = True, ret = True)\n",
    "                self.report_trade(order, \"GOING SHORT\")\n",
    "            elif self.position == 1:\n",
    "                order = self.create_order(self.instrument, -self.units * 2, suppress = True, ret = True)\n",
    "                self.report_trade(order, \"GOING SHORT\")\n",
    "            self.position = -1\n",
    "        elif self.data[\"position\"].iloc[-1] == 0: \n",
    "            if self.position == -1:\n",
    "                order = self.create_order(self.instrument, self.units, suppress = True, ret = True) \n",
    "                self.report_trade(order, \"GOING NEUTRAL\")\n",
    "            elif self.position == 1:\n",
    "                order = self.create_order(self.instrument, -self.units, suppress = True, ret = True)\n",
    "                self.report_trade(order, \"GOING NEUTRAL\")\n",
    "            self.position = 0\n",
    "    \n",
    "    def report_trade(self, order, going):\n",
    "        time = order[\"time\"]\n",
    "        units = order[\"units\"]\n",
    "        price = order[\"price\"]\n",
    "        pl = float(order[\"pl\"])\n",
    "        self.profits.append(pl)\n",
    "        cumpl = sum(self.profits)\n",
    "        print(\"\\n\" + 100* \"-\")\n",
    "        print(\"{} | {}\".format(time, going))\n",
    "        print(\"{} | units = {} | price = {} | P&L = {} | Cum P&L = {}\".format(time, units, price, pl, cumpl))\n",
    "        print(100 * \"-\" + \"\\n\")  "
   ]
  },
  {
   "cell_type": "code",
   "execution_count": null,
   "metadata": {},
   "outputs": [],
   "source": [
    "lm = pickle.load(open(\"logreg.pkl\", \"rb\"))"
   ]
  },
  {
   "cell_type": "code",
   "execution_count": null,
   "metadata": {},
   "outputs": [],
   "source": [
    "lm"
   ]
  },
  {
   "cell_type": "code",
   "execution_count": null,
   "metadata": {},
   "outputs": [],
   "source": [
    "trader = MLTrader(\"oanda.cfg\", \"EUR_USD\", \"5min\", lags = 2, model = lm, units = 100000)"
   ]
  },
  {
   "cell_type": "code",
   "execution_count": null,
   "metadata": {},
   "outputs": [],
   "source": [
    "trader.model"
   ]
  },
  {
   "cell_type": "code",
   "execution_count": null,
   "metadata": {},
   "outputs": [],
   "source": [
    "trader.get_most_recent()\n",
    "trader.stream_data(trader.instrument, stop = 500)\n",
    "if trader.position != 0: # if we have a final open position\n",
    "    close_order = trader.create_order(trader.instrument, units = -trader.position * trader.units, \n",
    "                                      suppress = True, ret = True) \n",
    "    trader.report_trade(close_order, \"GOING NEUTRAL\")\n",
    "    trader.position = 0"
   ]
  },
  {
   "cell_type": "code",
   "execution_count": null,
   "metadata": {},
   "outputs": [],
   "source": [
    "trader.data.tail(10)"
   ]
  },
  {
   "cell_type": "code",
   "execution_count": null,
   "metadata": {},
   "outputs": [],
   "source": [
    "trader.tick_data"
   ]
  },
  {
   "cell_type": "code",
   "execution_count": null,
   "metadata": {},
   "outputs": [],
   "source": []
  },
  {
   "cell_type": "markdown",
   "metadata": {},
   "source": [
    "## Importing a Trader Module / Class"
   ]
  },
  {
   "cell_type": "code",
   "execution_count": null,
   "metadata": {},
   "outputs": [],
   "source": [
    "import trader as tr"
   ]
  },
  {
   "cell_type": "code",
   "execution_count": null,
   "metadata": {
    "scrolled": false
   },
   "outputs": [],
   "source": [
    "trader = tr.ConTrader(\"oanda.cfg\", \"EUR_USD\", \"1min\", window = 1, units = 100000)\n",
    "trader.get_most_recent()\n",
    "trader.stream_data(trader.instrument, stop = 30)\n",
    "if trader.position != 0: # if we have a final open position\n",
    "    close_order = trader.create_order(trader.instrument, units = -trader.position * trader.units, \n",
    "                                      suppress = True, ret = True) \n",
    "    trader.report_trade(close_order, \"GOING NEUTRAL\")\n",
    "    trader.position = 0"
   ]
  },
  {
   "cell_type": "code",
   "execution_count": null,
   "metadata": {},
   "outputs": [],
   "source": [
    "trader.data.tail(10)"
   ]
  },
  {
   "cell_type": "code",
   "execution_count": null,
   "metadata": {},
   "outputs": [],
   "source": []
  },
  {
   "cell_type": "markdown",
   "metadata": {},
   "source": [
    "####################################################################################################"
   ]
  },
  {
   "cell_type": "markdown",
   "metadata": {},
   "source": [
    "## How to Time/Schedule the End of a Trading Session (Simple Contrarian)"
   ]
  },
  {
   "cell_type": "markdown",
   "metadata": {},
   "source": [
    "(you can find the corresponding Video for the following lines of code in __Section 23__: Cloud Deployment (AWS) | Scheduling Trading Sessions | Full Automation)"
   ]
  },
  {
   "cell_type": "code",
   "execution_count": null,
   "metadata": {},
   "outputs": [],
   "source": [
    "import pandas as pd\n",
    "import numpy as np\n",
    "import tpqoa\n",
    "from datetime import datetime, timedelta\n",
    "import time"
   ]
  },
  {
   "cell_type": "code",
   "execution_count": null,
   "metadata": {},
   "outputs": [],
   "source": [
    "datetime.utcnow().time() # current utc time"
   ]
  },
  {
   "cell_type": "code",
   "execution_count": null,
   "metadata": {},
   "outputs": [],
   "source": [
    "pd.to_datetime(\"17:30\").time() # desired end of trading session (in utc time)"
   ]
  },
  {
   "cell_type": "code",
   "execution_count": null,
   "metadata": {},
   "outputs": [],
   "source": [
    "if datetime.utcnow().time() >= pd.to_datetime(\"17:30\").time():\n",
    "    print(\"Stop the Trading Session!\")"
   ]
  },
  {
   "cell_type": "code",
   "execution_count": null,
   "metadata": {},
   "outputs": [],
   "source": [
    "class ConTrader(tpqoa.tpqoa):\n",
    "    def __init__(self, conf_file, instrument, bar_length, window, units):\n",
    "        super().__init__(conf_file)\n",
    "        self.instrument = instrument\n",
    "        self.bar_length = pd.to_timedelta(bar_length)\n",
    "        self.tick_data = pd.DataFrame()\n",
    "        self.raw_data = None\n",
    "        self.data = None \n",
    "        self.last_bar = None\n",
    "        self.units = units\n",
    "        self.position = 0\n",
    "        self.profits = []\n",
    "        \n",
    "        #*****************add strategy-specific attributes here******************\n",
    "        self.window = window\n",
    "        #************************************************************************\n",
    "    \n",
    "    def get_most_recent(self, days = 5):\n",
    "        while True:\n",
    "            time.sleep(2)\n",
    "            now = datetime.utcnow()\n",
    "            now = now - timedelta(microseconds = now.microsecond)\n",
    "            past = now - timedelta(days = days)\n",
    "            df = self.get_history(instrument = self.instrument, start = past, end = now,\n",
    "                                   granularity = \"S5\", price = \"M\", localize = False).c.dropna().to_frame()\n",
    "            df.rename(columns = {\"c\":self.instrument}, inplace = True)\n",
    "            df = df.resample(self.bar_length, label = \"right\").last().dropna().iloc[:-1]\n",
    "            self.raw_data = df.copy()\n",
    "            self.last_bar = self.raw_data.index[-1]\n",
    "            if pd.to_datetime(datetime.utcnow()).tz_localize(\"UTC\") - self.last_bar < self.bar_length:\n",
    "                break\n",
    "                \n",
    "    def on_success(self, time, bid, ask):\n",
    "        \n",
    "        print(self.ticks, end = \" \")\n",
    "        \n",
    "        recent_tick = pd.to_datetime(time)\n",
    "        \n",
    "        # define stop\n",
    "        if recent_tick.time() >= pd.to_datetime(\"17:30\").time():\n",
    "            self.stop_stream = True\n",
    "        \n",
    "        df = pd.DataFrame({self.instrument:(ask + bid)/2}, \n",
    "                          index = [recent_tick])\n",
    "        self.tick_data = self.tick_data.append(df)\n",
    "        \n",
    "        if recent_tick - self.last_bar > self.bar_length:\n",
    "            self.resample_and_join()\n",
    "            self.define_strategy()\n",
    "            self.execute_trades()\n",
    "    \n",
    "    def resample_and_join(self):\n",
    "        self.raw_data = self.raw_data.append(self.tick_data.resample(self.bar_length, \n",
    "                                                                  label=\"right\").last().ffill().iloc[:-1])\n",
    "        self.tick_data = self.tick_data.iloc[-1:]\n",
    "        self.last_bar = self.raw_data.index[-1]\n",
    "    \n",
    "    def define_strategy(self): # \"strategy-specific\"\n",
    "        df = self.raw_data.copy()\n",
    "        \n",
    "        #******************** define your strategy here ************************\n",
    "        df[\"returns\"] = np.log(df[self.instrument] / df[self.instrument].shift())\n",
    "        df[\"position\"] = -np.sign(df.returns.rolling(self.window).mean())\n",
    "        #***********************************************************************\n",
    "        \n",
    "        self.data = df.copy()\n",
    "    \n",
    "    def execute_trades(self):\n",
    "        if self.data[\"position\"].iloc[-1] == 1:\n",
    "            if self.position == 0:\n",
    "                order = self.create_order(self.instrument, self.units, suppress = True, ret = True)\n",
    "                self.report_trade(order, \"GOING LONG\")\n",
    "            elif self.position == -1:\n",
    "                order = self.create_order(self.instrument, self.units * 2, suppress = True, ret = True) \n",
    "                self.report_trade(order, \"GOING LONG\")\n",
    "            self.position = 1\n",
    "        elif self.data[\"position\"].iloc[-1] == -1: \n",
    "            if self.position == 0:\n",
    "                order = self.create_order(self.instrument, -self.units, suppress = True, ret = True)\n",
    "                self.report_trade(order, \"GOING SHORT\")\n",
    "            elif self.position == 1:\n",
    "                order = self.create_order(self.instrument, -self.units * 2, suppress = True, ret = True)\n",
    "                self.report_trade(order, \"GOING SHORT\")\n",
    "            self.position = -1\n",
    "        elif self.data[\"position\"].iloc[-1] == 0:\n",
    "            if self.position == -1:\n",
    "                order = self.create_order(self.instrument, self.units, suppress = True, ret = True) \n",
    "                self.report_trade(order, \"GOING NEUTRAL\")\n",
    "            elif self.position == 1:\n",
    "                order = self.create_order(self.instrument, -self.units, suppress = True, ret = True) \n",
    "                self.report_trade(order, \"GOING NEUTRAL\")\n",
    "            self.position = 0\n",
    "    \n",
    "    def report_trade(self, order, going):\n",
    "        time = order[\"time\"]\n",
    "        units = order[\"units\"]\n",
    "        price = order[\"price\"]\n",
    "        pl = float(order[\"pl\"])\n",
    "        self.profits.append(pl)\n",
    "        cumpl = sum(self.profits)\n",
    "        print(\"\\n\" + 100* \"-\")\n",
    "        print(\"{} | {}\".format(time, going))\n",
    "        print(\"{} | units = {} | price = {} | P&L = {} | Cum P&L = {}\".format(time, units, price, pl, cumpl))\n",
    "        print(100 * \"-\" + \"\\n\")  \n",
    "    "
   ]
  },
  {
   "cell_type": "code",
   "execution_count": null,
   "metadata": {},
   "outputs": [],
   "source": [
    "trader = ConTrader(\"oanda.cfg\", \"EUR_USD\", \"1min\", window = 1, units = 100000)"
   ]
  },
  {
   "cell_type": "code",
   "execution_count": null,
   "metadata": {},
   "outputs": [],
   "source": [
    "trader.get_most_recent()\n",
    "trader.stream_data(trader.instrument) # no stop after n ticks!\n",
    "if trader.position != 0: # if we have a final open position\n",
    "    close_order = trader.create_order(trader.instrument, units = -trader.position * trader.units, \n",
    "                                      suppress = True, ret = True) \n",
    "    trader.report_trade(close_order, \"GOING NEUTRAL\")\n",
    "    trader.position = 0"
   ]
  },
  {
   "cell_type": "code",
   "execution_count": null,
   "metadata": {},
   "outputs": [],
   "source": []
  }
 ],
 "metadata": {
  "kernelspec": {
   "display_name": "Python 3",
   "language": "python",
   "name": "python3"
  },
  "language_info": {
   "codemirror_mode": {
    "name": "ipython",
    "version": 3
   },
   "file_extension": ".py",
   "mimetype": "text/x-python",
   "name": "python",
   "nbconvert_exporter": "python",
   "pygments_lexer": "ipython3",
   "version": "3.6.13"
  }
 },
 "nbformat": 4,
 "nbformat_minor": 2
}
